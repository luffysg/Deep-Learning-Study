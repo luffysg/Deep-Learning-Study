{
  "nbformat": 4,
  "nbformat_minor": 0,
  "metadata": {
    "colab": {
      "name": "Deep Learning with Pytorch_deeplizard_1.ipynb",
      "provenance": [],
      "collapsed_sections": [],
      "include_colab_link": true
    },
    "kernelspec": {
      "name": "python3",
      "display_name": "Python 3"
    },
    "accelerator": "GPU"
  },
  "cells": [
    {
      "cell_type": "markdown",
      "metadata": {
        "id": "view-in-github",
        "colab_type": "text"
      },
      "source": [
        "<a href=\"https://colab.research.google.com/github/luffysg/Deep-Learning-Study/blob/master/Deep_Learning_with_Pytorch_deeplizard_1.ipynb\" target=\"_parent\"><img src=\"https://colab.research.google.com/assets/colab-badge.svg\" alt=\"Open In Colab\"/></a>"
      ]
    },
    {
      "cell_type": "markdown",
      "metadata": {
        "id": "FnuYz9j4ejH3",
        "colab_type": "text"
      },
      "source": [
        "# Deep learning with Pytorch\n",
        "\n",
        "\n",
        "1.   Tensors: rank, shape, dimension, dtype, device\n",
        "\n",
        "2.   Tensor creation options with data:\n",
        "  *   t1 = torch.Tensor(data) # class constructor, use global default dtype, copy data\n",
        "  *   t2 = torch.tensor(data) # factory function, accpets parameter inputs and return particular type of objects, infer input dtype, copy data\n",
        "  *   t3 = torch.as_tensor(data) # factory function, infer input data type, share data, accpet any array like python data\n",
        "  *   t4 = torch.from_numpy(data) # factory function, infer input dtype, share data, accept only numpy array\n",
        "\n",
        "3.   Tensor creation options without data:\n",
        "  *   torch.eyes(), torch.zeros(), torch.ones(), torch.rand()\n",
        "\n",
        "4.   Essential tensor operations: flatten, reshape, squeeze\n",
        "  *   t.size(), t.shape, t.numel()\n",
        "  *   t.reshape(2,3), t.reshape(3,-1): -1 is to let program to figure out the number of elements needed\n",
        "  *   flatten a tensor: t.reshape(-1), t.flatten(), t.view(t.numel())\n",
        "  *   t.flatten(start_dim =1) # flatting skip 1st dim, starting from the 2nd dim, usually done for image tensors\n",
        "  *   CNN tensors [B,C,H,W]: batch size, color channel, height and width\n",
        "\n",
        "5.   broadcasting and element wise operations:\n",
        "  *   element-wise operation can be done only on tensors with the same shape\n",
        "  *   scalar value is rank 0 tensor\n",
        "  *   broadcasting: copy one or more axes of my tensor to allow it to be the same shape as the other tensor\n",
        "\n",
        "6.   Argmax and tensor reduction operations:\n",
        "  *   t.prod(). t.mean(), t.sum(), t.std()\n",
        "  *   t.mean(dim = 0)\n",
        "\n",
        "\n",
        "\n",
        "\n",
        "\n",
        "\n"
      ]
    },
    {
      "cell_type": "code",
      "metadata": {
        "id": "LoPOaVaOelI3",
        "colab_type": "code",
        "colab": {}
      },
      "source": [
        "import torch\n",
        "import numpy as np"
      ],
      "execution_count": 0,
      "outputs": []
    },
    {
      "cell_type": "code",
      "metadata": {
        "id": "8QZabpLpgjeL",
        "colab_type": "code",
        "colab": {
          "base_uri": "https://localhost:8080/",
          "height": 34
        },
        "outputId": "4d425e2f-4dd6-4287-a843-c7ed8f0cc995"
      },
      "source": [
        "print(torch.__version__)"
      ],
      "execution_count": 2,
      "outputs": [
        {
          "output_type": "stream",
          "text": [
            "1.3.1\n"
          ],
          "name": "stdout"
        }
      ]
    },
    {
      "cell_type": "code",
      "metadata": {
        "id": "oUvVF70aem8c",
        "colab_type": "code",
        "colab": {
          "base_uri": "https://localhost:8080/",
          "height": 85
        },
        "outputId": "51bc4776-b775-4e7d-ae36-4426eae3e02c"
      },
      "source": [
        "!nvcc --version"
      ],
      "execution_count": 3,
      "outputs": [
        {
          "output_type": "stream",
          "text": [
            "nvcc: NVIDIA (R) Cuda compiler driver\n",
            "Copyright (c) 2005-2018 NVIDIA Corporation\n",
            "Built on Sat_Aug_25_21:08:01_CDT_2018\n",
            "Cuda compilation tools, release 10.0, V10.0.130\n"
          ],
          "name": "stdout"
        }
      ]
    },
    {
      "cell_type": "code",
      "metadata": {
        "id": "W0gJqXmJgidd",
        "colab_type": "code",
        "colab": {
          "base_uri": "https://localhost:8080/",
          "height": 34
        },
        "outputId": "28338acf-8069-40f3-fb03-80b9426daead"
      },
      "source": [
        "torch.cuda.is_available() #go to edit > notebook settings >set hardware accelerator to GPU"
      ],
      "execution_count": 4,
      "outputs": [
        {
          "output_type": "execute_result",
          "data": {
            "text/plain": [
              "True"
            ]
          },
          "metadata": {
            "tags": []
          },
          "execution_count": 4
        }
      ]
    },
    {
      "cell_type": "code",
      "metadata": {
        "id": "-1q26CXLf5Wr",
        "colab_type": "code",
        "colab": {
          "base_uri": "https://localhost:8080/",
          "height": 34
        },
        "outputId": "f8744622-9702-4944-b0d8-b9e50fdc0366"
      },
      "source": [
        "torch.cuda.get_device_name(0)"
      ],
      "execution_count": 3,
      "outputs": [
        {
          "output_type": "execute_result",
          "data": {
            "text/plain": [
              "'Tesla P100-PCIE-16GB'"
            ]
          },
          "metadata": {
            "tags": []
          },
          "execution_count": 3
        }
      ]
    },
    {
      "cell_type": "markdown",
      "metadata": {
        "id": "1mNlAZVplxDD",
        "colab_type": "text"
      },
      "source": [
        "##Tensors"
      ]
    },
    {
      "cell_type": "code",
      "metadata": {
        "id": "WOxg7SCbf9xu",
        "colab_type": "code",
        "colab": {
          "base_uri": "https://localhost:8080/",
          "height": 34
        },
        "outputId": "88d39a3f-872d-4611-bb9a-03962980b75b"
      },
      "source": [
        "# 1-d\n",
        "a = [1,2,3,4]\n",
        "a[2]"
      ],
      "execution_count": 6,
      "outputs": [
        {
          "output_type": "execute_result",
          "data": {
            "text/plain": [
              "3"
            ]
          },
          "metadata": {
            "tags": []
          },
          "execution_count": 6
        }
      ]
    },
    {
      "cell_type": "code",
      "metadata": {
        "id": "YTFegDgKmFmj",
        "colab_type": "code",
        "colab": {
          "base_uri": "https://localhost:8080/",
          "height": 34
        },
        "outputId": "5407ff54-48f9-47d4-d0fd-6e7c3f7de17b"
      },
      "source": [
        "#2-d\n",
        "b = [\n",
        "     [1,2,3],\n",
        "     [4,5,6],\n",
        "     [7,8,9]\n",
        "]\n",
        "\n",
        "b[2][0]"
      ],
      "execution_count": 8,
      "outputs": [
        {
          "output_type": "execute_result",
          "data": {
            "text/plain": [
              "7"
            ]
          },
          "metadata": {
            "tags": []
          },
          "execution_count": 8
        }
      ]
    },
    {
      "cell_type": "code",
      "metadata": {
        "id": "R_ohQVSrmSxJ",
        "colab_type": "code",
        "colab": {
          "base_uri": "https://localhost:8080/",
          "height": 34
        },
        "outputId": "9b6e0fb4-1472-4872-80d1-76ef6d7344a5"
      },
      "source": [
        "#rank of a tensor refers to the number of dimensions present with the tensor\n",
        "# tells us how many indices we need to access individual element of the tensor\n",
        "b[2]\n",
        "b[2][1]\n"
      ],
      "execution_count": 11,
      "outputs": [
        {
          "output_type": "execute_result",
          "data": {
            "text/plain": [
              "8"
            ]
          },
          "metadata": {
            "tags": []
          },
          "execution_count": 11
        }
      ]
    },
    {
      "cell_type": "code",
      "metadata": {
        "id": "nVF1nhc3nfGu",
        "colab_type": "code",
        "colab": {}
      },
      "source": [
        "#shape defines the length of each axis, indicates the number of indices available along each axis\n",
        "t = torch.tensor(b)"
      ],
      "execution_count": 0,
      "outputs": []
    },
    {
      "cell_type": "code",
      "metadata": {
        "id": "KnxS4v11nzyH",
        "colab_type": "code",
        "colab": {
          "base_uri": "https://localhost:8080/",
          "height": 34
        },
        "outputId": "4be0697a-f646-45c9-da1d-514d1897e1b3"
      },
      "source": [
        "t.shape"
      ],
      "execution_count": 13,
      "outputs": [
        {
          "output_type": "execute_result",
          "data": {
            "text/plain": [
              "torch.Size([3, 3])"
            ]
          },
          "metadata": {
            "tags": []
          },
          "execution_count": 13
        }
      ]
    },
    {
      "cell_type": "code",
      "metadata": {
        "id": "a0Hr4In0oH2B",
        "colab_type": "code",
        "colab": {
          "base_uri": "https://localhost:8080/",
          "height": 34
        },
        "outputId": "8d49b19b-698e-4fc9-98cc-7bb9711c3d0a"
      },
      "source": [
        "# the rank of a tensor is equal to the length of its shape\n",
        "len(t.shape)"
      ],
      "execution_count": 14,
      "outputs": [
        {
          "output_type": "execute_result",
          "data": {
            "text/plain": [
              "2"
            ]
          },
          "metadata": {
            "tags": []
          },
          "execution_count": 14
        }
      ]
    },
    {
      "cell_type": "code",
      "metadata": {
        "id": "axnuyBWXoefU",
        "colab_type": "code",
        "colab": {
          "base_uri": "https://localhost:8080/",
          "height": 34
        },
        "outputId": "b04d0d77-4d9f-485f-95e7-218f6293a5ea"
      },
      "source": [
        "t.reshape(1,9)"
      ],
      "execution_count": 15,
      "outputs": [
        {
          "output_type": "execute_result",
          "data": {
            "text/plain": [
              "tensor([[1, 2, 3, 4, 5, 6, 7, 8, 9]])"
            ]
          },
          "metadata": {
            "tags": []
          },
          "execution_count": 15
        }
      ]
    },
    {
      "cell_type": "markdown",
      "metadata": {
        "id": "ulz0m5XOo_-n",
        "colab_type": "text"
      },
      "source": [
        "Examples using tensors rank/shape"
      ]
    },
    {
      "cell_type": "code",
      "metadata": {
        "id": "Bip6YryQo-G2",
        "colab_type": "code",
        "colab": {}
      },
      "source": [
        "# Images\n",
        "#[B,C,H,W] Batch size, color channel: RGB, height, width "
      ],
      "execution_count": 0,
      "outputs": []
    },
    {
      "cell_type": "markdown",
      "metadata": {
        "id": "oRtvKFlsrWzv",
        "colab_type": "text"
      },
      "source": [
        "Tensor class"
      ]
    },
    {
      "cell_type": "code",
      "metadata": {
        "id": "Gm4SeGeyrWCA",
        "colab_type": "code",
        "colab": {
          "base_uri": "https://localhost:8080/",
          "height": 34
        },
        "outputId": "471e7088-4257-4516-b5ad-1ce15f9389e9"
      },
      "source": [
        "t = torch.Tensor()\n",
        "type(t)"
      ],
      "execution_count": 17,
      "outputs": [
        {
          "output_type": "execute_result",
          "data": {
            "text/plain": [
              "torch.Tensor"
            ]
          },
          "metadata": {
            "tags": []
          },
          "execution_count": 17
        }
      ]
    },
    {
      "cell_type": "code",
      "metadata": {
        "id": "nPmhUWYtrcVa",
        "colab_type": "code",
        "colab": {
          "base_uri": "https://localhost:8080/",
          "height": 68
        },
        "outputId": "bd6e14bd-f08f-4c90-bb4b-6235bbb30212"
      },
      "source": [
        "#1. Tensors contain data of a uniform type\n",
        "#2. Tensor computations between tensors depend on the dtype and the device\n",
        "print(t.dtype) \n",
        "print(t.device) \n",
        "print(t.layout)"
      ],
      "execution_count": 18,
      "outputs": [
        {
          "output_type": "stream",
          "text": [
            "torch.float32\n",
            "cpu\n",
            "torch.strided\n"
          ],
          "name": "stdout"
        }
      ]
    },
    {
      "cell_type": "code",
      "metadata": {
        "id": "A3S-I8ytrctR",
        "colab_type": "code",
        "colab": {
          "base_uri": "https://localhost:8080/",
          "height": 34
        },
        "outputId": "0115e51d-d1ca-4d51-99fa-8833703a9f10"
      },
      "source": [
        "device = torch.device('cuda:0')\n",
        "device"
      ],
      "execution_count": 21,
      "outputs": [
        {
          "output_type": "execute_result",
          "data": {
            "text/plain": [
              "device(type='cuda', index=0)"
            ]
          },
          "metadata": {
            "tags": []
          },
          "execution_count": 21
        }
      ]
    },
    {
      "cell_type": "code",
      "metadata": {
        "id": "O_M5sxxvrcxL",
        "colab_type": "code",
        "colab": {}
      },
      "source": [
        "t1 = torch.tensor([1,2,3])\n",
        "t2 = torch.tensor([1.0,2.0,3.0])"
      ],
      "execution_count": 0,
      "outputs": []
    },
    {
      "cell_type": "code",
      "metadata": {
        "id": "mPfTVrHCsmi0",
        "colab_type": "code",
        "colab": {
          "base_uri": "https://localhost:8080/",
          "height": 51
        },
        "outputId": "e7bff60f-5b50-4b96-e2d4-e61057c81fc9"
      },
      "source": [
        "print(t1.dtype)\n",
        "print(t2.dtype)"
      ],
      "execution_count": 23,
      "outputs": [
        {
          "output_type": "stream",
          "text": [
            "torch.int64\n",
            "torch.float32\n"
          ],
          "name": "stdout"
        }
      ]
    },
    {
      "cell_type": "code",
      "metadata": {
        "id": "WM_f8hIBsrVC",
        "colab_type": "code",
        "colab": {
          "base_uri": "https://localhost:8080/",
          "height": 34
        },
        "outputId": "57ead3fc-327d-4524-b620-f5da74e1d388"
      },
      "source": [
        "t1+t2 #suppose to have an error here?"
      ],
      "execution_count": 24,
      "outputs": [
        {
          "output_type": "execute_result",
          "data": {
            "text/plain": [
              "tensor([2., 4., 6.])"
            ]
          },
          "metadata": {
            "tags": []
          },
          "execution_count": 24
        }
      ]
    },
    {
      "cell_type": "code",
      "metadata": {
        "id": "71kZOLqIs3ER",
        "colab_type": "code",
        "colab": {}
      },
      "source": [
        "t1 = torch.tensor([1,2,3])\n",
        "t2 = t1.cuda()"
      ],
      "execution_count": 0,
      "outputs": []
    },
    {
      "cell_type": "code",
      "metadata": {
        "id": "tqnWY96LtFzu",
        "colab_type": "code",
        "colab": {
          "base_uri": "https://localhost:8080/",
          "height": 51
        },
        "outputId": "499270dc-5711-4609-a7f1-b9e944226fd4"
      },
      "source": [
        "print(t1.device)\n",
        "print(t2.device)"
      ],
      "execution_count": 28,
      "outputs": [
        {
          "output_type": "stream",
          "text": [
            "cpu\n",
            "cuda:0\n"
          ],
          "name": "stdout"
        }
      ]
    },
    {
      "cell_type": "code",
      "metadata": {
        "id": "M17tS_FNs8kx",
        "colab_type": "code",
        "colab": {
          "base_uri": "https://localhost:8080/",
          "height": 164
        },
        "outputId": "27b76669-d630-4b13-f930-4e863e29585c"
      },
      "source": [
        "t1 + t2"
      ],
      "execution_count": 27,
      "outputs": [
        {
          "output_type": "error",
          "ename": "RuntimeError",
          "evalue": "ignored",
          "traceback": [
            "\u001b[0;31m---------------------------------------------------------------------------\u001b[0m",
            "\u001b[0;31mRuntimeError\u001b[0m                              Traceback (most recent call last)",
            "\u001b[0;32m<ipython-input-27-9ac58c83af08>\u001b[0m in \u001b[0;36m<module>\u001b[0;34m()\u001b[0m\n\u001b[0;32m----> 1\u001b[0;31m \u001b[0mt1\u001b[0m \u001b[0;34m+\u001b[0m \u001b[0mt2\u001b[0m\u001b[0;34m\u001b[0m\u001b[0;34m\u001b[0m\u001b[0m\n\u001b[0m",
            "\u001b[0;31mRuntimeError\u001b[0m: expected device cpu but got device cuda:0"
          ]
        }
      ]
    },
    {
      "cell_type": "markdown",
      "metadata": {
        "id": "dePJ_F4WtnRZ",
        "colab_type": "text"
      },
      "source": [
        "##Tensor creation options using data"
      ]
    },
    {
      "cell_type": "code",
      "metadata": {
        "id": "sJojrjkbtKf3",
        "colab_type": "code",
        "colab": {
          "base_uri": "https://localhost:8080/",
          "height": 34
        },
        "outputId": "b6db8d79-6285-41eb-abd4-fdbdddb2a908"
      },
      "source": [
        "data = np.array([1,2,3])\n",
        "type(data)"
      ],
      "execution_count": 29,
      "outputs": [
        {
          "output_type": "execute_result",
          "data": {
            "text/plain": [
              "numpy.ndarray"
            ]
          },
          "metadata": {
            "tags": []
          },
          "execution_count": 29
        }
      ]
    },
    {
      "cell_type": "code",
      "metadata": {
        "id": "MZ4TAKq2twx_",
        "colab_type": "code",
        "colab": {
          "base_uri": "https://localhost:8080/",
          "height": 34
        },
        "outputId": "66d20cc3-1bf2-4af7-9cc3-3f14d59a6259"
      },
      "source": [
        "# torch.Tensor() creates a class/object? dtype is float\n",
        "torch.Tensor(data)"
      ],
      "execution_count": 30,
      "outputs": [
        {
          "output_type": "execute_result",
          "data": {
            "text/plain": [
              "tensor([1., 2., 3.])"
            ]
          },
          "metadata": {
            "tags": []
          },
          "execution_count": 30
        }
      ]
    },
    {
      "cell_type": "code",
      "metadata": {
        "id": "w8C12JHitw8x",
        "colab_type": "code",
        "colab": {
          "base_uri": "https://localhost:8080/",
          "height": 34
        },
        "outputId": "58c843bf-bbb5-46ec-cef0-eada2e614b67"
      },
      "source": [
        "#factory function, keep same integer dtype\n",
        "torch.tensor(data)"
      ],
      "execution_count": 31,
      "outputs": [
        {
          "output_type": "execute_result",
          "data": {
            "text/plain": [
              "tensor([1, 2, 3])"
            ]
          },
          "metadata": {
            "tags": []
          },
          "execution_count": 31
        }
      ]
    },
    {
      "cell_type": "code",
      "metadata": {
        "id": "wQuypzyCtxFq",
        "colab_type": "code",
        "colab": {
          "base_uri": "https://localhost:8080/",
          "height": 34
        },
        "outputId": "7524130c-1387-4a2b-8ef1-c8640eea9383"
      },
      "source": [
        "#keep same integer dtype\n",
        "torch.as_tensor(data)"
      ],
      "execution_count": 32,
      "outputs": [
        {
          "output_type": "execute_result",
          "data": {
            "text/plain": [
              "tensor([1, 2, 3])"
            ]
          },
          "metadata": {
            "tags": []
          },
          "execution_count": 32
        }
      ]
    },
    {
      "cell_type": "code",
      "metadata": {
        "id": "YQ7bWZcvtxOc",
        "colab_type": "code",
        "colab": {
          "base_uri": "https://localhost:8080/",
          "height": 34
        },
        "outputId": "086ac70d-4716-4bf7-e056-6b09e1c553cb"
      },
      "source": [
        "#keep same integer dtype\n",
        "torch.from_numpy(data)"
      ],
      "execution_count": 33,
      "outputs": [
        {
          "output_type": "execute_result",
          "data": {
            "text/plain": [
              "tensor([1, 2, 3])"
            ]
          },
          "metadata": {
            "tags": []
          },
          "execution_count": 33
        }
      ]
    },
    {
      "cell_type": "markdown",
      "metadata": {
        "id": "NqwPL0dTuajY",
        "colab_type": "text"
      },
      "source": [
        "##Tensor creation options without data"
      ]
    },
    {
      "cell_type": "code",
      "metadata": {
        "id": "yTSjKJrjuctg",
        "colab_type": "code",
        "colab": {
          "base_uri": "https://localhost:8080/",
          "height": 51
        },
        "outputId": "3190f717-12b5-475a-bef7-c7c1385ab5cd"
      },
      "source": [
        "torch.eye(2)"
      ],
      "execution_count": 34,
      "outputs": [
        {
          "output_type": "execute_result",
          "data": {
            "text/plain": [
              "tensor([[1., 0.],\n",
              "        [0., 1.]])"
            ]
          },
          "metadata": {
            "tags": []
          },
          "execution_count": 34
        }
      ]
    },
    {
      "cell_type": "code",
      "metadata": {
        "id": "3ObXpCdOuetw",
        "colab_type": "code",
        "colab": {
          "base_uri": "https://localhost:8080/",
          "height": 51
        },
        "outputId": "dcf83891-26d6-4c3f-a189-2f1d9cfa5498"
      },
      "source": [
        "torch.zeros(2,2)"
      ],
      "execution_count": 35,
      "outputs": [
        {
          "output_type": "execute_result",
          "data": {
            "text/plain": [
              "tensor([[0., 0.],\n",
              "        [0., 0.]])"
            ]
          },
          "metadata": {
            "tags": []
          },
          "execution_count": 35
        }
      ]
    },
    {
      "cell_type": "code",
      "metadata": {
        "id": "f89fOB2SuiPf",
        "colab_type": "code",
        "colab": {
          "base_uri": "https://localhost:8080/",
          "height": 51
        },
        "outputId": "a62c3d9a-3ed6-44ce-dc40-1a31c9d5bd59"
      },
      "source": [
        "torch.ones(2,2)"
      ],
      "execution_count": 36,
      "outputs": [
        {
          "output_type": "execute_result",
          "data": {
            "text/plain": [
              "tensor([[1., 1.],\n",
              "        [1., 1.]])"
            ]
          },
          "metadata": {
            "tags": []
          },
          "execution_count": 36
        }
      ]
    },
    {
      "cell_type": "code",
      "metadata": {
        "id": "l1AQ7WoXukI0",
        "colab_type": "code",
        "colab": {
          "base_uri": "https://localhost:8080/",
          "height": 51
        },
        "outputId": "6f34228e-7031-4ae6-b49c-446db1dd0469"
      },
      "source": [
        "torch.rand(2,2)"
      ],
      "execution_count": 37,
      "outputs": [
        {
          "output_type": "execute_result",
          "data": {
            "text/plain": [
              "tensor([[0.5769, 0.3807],\n",
              "        [0.3848, 0.7293]])"
            ]
          },
          "metadata": {
            "tags": []
          },
          "execution_count": 37
        }
      ]
    },
    {
      "cell_type": "markdown",
      "metadata": {
        "id": "87tzYZgmu3q5",
        "colab_type": "text"
      },
      "source": [
        "##Tensor creation: best option"
      ]
    },
    {
      "cell_type": "markdown",
      "metadata": {
        "id": "ghPJf5oXEMtC",
        "colab_type": "text"
      },
      "source": [
        "Best option \n",
        "\n",
        "1.   For daily use: torch.tensor();\n",
        "2.   For memroy sharing: torch.as_tensor(), accepts any array like python data structure while torch.from_numpy() accpets only numpy array\n",
        "\n",
        "\n",
        " \n",
        "\n",
        "*   t1 = torch.Tensor(data) # class constructor, use global default dtype, copy data\n",
        "\n",
        "*   t2 = torch.tensor(data) # factory function, accpets parameter inputs and return particular type of objects, infer input dtype, copy data\n",
        "*   t3 = torch.as_tensor(data) # factory function, infer input data type, share data, accpet any array like python data\n",
        "\n",
        "\n",
        "*   t4 = torch.from_numpy(data) # factory function, infer input dtype, share data, accept only numpy array\n",
        "\n",
        "\n",
        "\n",
        "\n",
        "\n"
      ]
    },
    {
      "cell_type": "code",
      "metadata": {
        "id": "CqYE4vnZup04",
        "colab_type": "code",
        "colab": {}
      },
      "source": [
        "data = np.array([1,2,3])"
      ],
      "execution_count": 0,
      "outputs": []
    },
    {
      "cell_type": "code",
      "metadata": {
        "id": "rKkN4Smnup4u",
        "colab_type": "code",
        "colab": {}
      },
      "source": [
        "t1 = torch.Tensor(data) # class constructor\n",
        "t2 = torch.tensor(data) # factory function, accpets parameter inputs and return particular type of objects\n",
        "t3 = torch.as_tensor(data) # also factory function\n",
        "t4 = torch.from_numpy(data) # factory function"
      ],
      "execution_count": 0,
      "outputs": []
    },
    {
      "cell_type": "code",
      "metadata": {
        "id": "3Cqy8l6wup9P",
        "colab_type": "code",
        "colab": {
          "base_uri": "https://localhost:8080/",
          "height": 85
        },
        "outputId": "a2a51cc0-8bd5-4452-9268-5e310f426342"
      },
      "source": [
        "print(t1)\n",
        "print(t2)\n",
        "print(t3)\n",
        "print(t4)"
      ],
      "execution_count": 5,
      "outputs": [
        {
          "output_type": "stream",
          "text": [
            "tensor([1., 2., 3.])\n",
            "tensor([1, 2, 3])\n",
            "tensor([1, 2, 3])\n",
            "tensor([1, 2, 3])\n"
          ],
          "name": "stdout"
        }
      ]
    },
    {
      "cell_type": "code",
      "metadata": {
        "id": "KVqd3PmyuqC_",
        "colab_type": "code",
        "colab": {
          "base_uri": "https://localhost:8080/",
          "height": 85
        },
        "outputId": "37d9bd88-7dfe-4a0c-d3c5-e74bc50067e9"
      },
      "source": [
        "print(t1.dtype) #constructor uses the global default dtype values when constructing a tensor\n",
        "print(t2.dtype) #factory function infers the data type, type inference based on input data\n",
        "print(t3.dtype)\n",
        "print(t4.dtype)"
      ],
      "execution_count": 6,
      "outputs": [
        {
          "output_type": "stream",
          "text": [
            "torch.float32\n",
            "torch.int64\n",
            "torch.int64\n",
            "torch.int64\n"
          ],
          "name": "stdout"
        }
      ]
    },
    {
      "cell_type": "code",
      "metadata": {
        "id": "h-_kZEcE_DGS",
        "colab_type": "code",
        "colab": {
          "base_uri": "https://localhost:8080/",
          "height": 34
        },
        "outputId": "b354649f-2b62-4719-a80d-218e6c045c96"
      },
      "source": [
        "torch.get_default_dtype()"
      ],
      "execution_count": 7,
      "outputs": [
        {
          "output_type": "execute_result",
          "data": {
            "text/plain": [
              "torch.float32"
            ]
          },
          "metadata": {
            "tags": []
          },
          "execution_count": 7
        }
      ]
    },
    {
      "cell_type": "code",
      "metadata": {
        "id": "TyHS65l3_K_S",
        "colab_type": "code",
        "colab": {
          "base_uri": "https://localhost:8080/",
          "height": 34
        },
        "outputId": "091ca3d3-6825-4179-8b50-4c8c100680a4"
      },
      "source": [
        "#specify the dtype using factory function, however constructor does NOT have\n",
        "torch.tensor(np.array([1,2,3]), dtype=torch.float64)"
      ],
      "execution_count": 8,
      "outputs": [
        {
          "output_type": "execute_result",
          "data": {
            "text/plain": [
              "tensor([1., 2., 3.], dtype=torch.float64)"
            ]
          },
          "metadata": {
            "tags": []
          },
          "execution_count": 8
        }
      ]
    },
    {
      "cell_type": "code",
      "metadata": {
        "id": "Y539tXHG_YL_",
        "colab_type": "code",
        "colab": {}
      },
      "source": [
        "#sharing memory for performance: copy vs share\n",
        "#1) share data: torch.as_tensor(), torch.from_numpy()\n",
        "#2) copy data: torch.tensor(), torch.Tensor()\n",
        "data[0] = 0\n",
        "data[1]= 0\n",
        "data[2]=0"
      ],
      "execution_count": 0,
      "outputs": []
    },
    {
      "cell_type": "code",
      "metadata": {
        "id": "poja8G8k_pLL",
        "colab_type": "code",
        "colab": {
          "base_uri": "https://localhost:8080/",
          "height": 51
        },
        "outputId": "05dc2c65-1af9-441e-d9bc-b584005e7c7b"
      },
      "source": [
        "#1st 2 methods creates a copy of original numpy array\n",
        "print(t1)\n",
        "print(t2)"
      ],
      "execution_count": 10,
      "outputs": [
        {
          "output_type": "stream",
          "text": [
            "tensor([1., 2., 3.])\n",
            "tensor([1, 2, 3])\n"
          ],
          "name": "stdout"
        }
      ]
    },
    {
      "cell_type": "code",
      "metadata": {
        "id": "HSW_64r__tyz",
        "colab_type": "code",
        "colab": {
          "base_uri": "https://localhost:8080/",
          "height": 51
        },
        "outputId": "fdae7f05-a4b4-4956-a16e-8214000341f6"
      },
      "source": [
        "# last 2 methods share the data in memory with the numpy array\n",
        "print(t3)\n",
        "print(t4)"
      ],
      "execution_count": 11,
      "outputs": [
        {
          "output_type": "stream",
          "text": [
            "tensor([0, 0, 0])\n",
            "tensor([0, 0, 0])\n"
          ],
          "name": "stdout"
        }
      ]
    },
    {
      "cell_type": "markdown",
      "metadata": {
        "id": "RoRVxOyDGUxD",
        "colab_type": "text"
      },
      "source": [
        "##Essential tensor operations: flatten, reshape, squeeze\n",
        "\n",
        "\n",
        "1.   Reshaping operations\n",
        "2.   Element-wise operations\n",
        "3.   Reduction operations\n",
        "4.   Access operations\n",
        "\n"
      ]
    },
    {
      "cell_type": "code",
      "metadata": {
        "id": "fap_93krAynW",
        "colab_type": "code",
        "colab": {}
      },
      "source": [
        "t = torch.tensor([\n",
        "                  [1,1,1,1],\n",
        "                  [2,2,2,2],\n",
        "                  [3,3,3,3]\n",
        "], dtype=torch.float32)"
      ],
      "execution_count": 0,
      "outputs": []
    },
    {
      "cell_type": "code",
      "metadata": {
        "id": "3VoEVRGMHGH-",
        "colab_type": "code",
        "colab": {
          "base_uri": "https://localhost:8080/",
          "height": 34
        },
        "outputId": "89f6f61d-035b-47ec-b3b0-42fcaebd12a4"
      },
      "source": [
        "t.size() #size is a method"
      ],
      "execution_count": 13,
      "outputs": [
        {
          "output_type": "execute_result",
          "data": {
            "text/plain": [
              "torch.Size([3, 4])"
            ]
          },
          "metadata": {
            "tags": []
          },
          "execution_count": 13
        }
      ]
    },
    {
      "cell_type": "code",
      "metadata": {
        "id": "alKCDqz7HGVc",
        "colab_type": "code",
        "colab": {
          "base_uri": "https://localhost:8080/",
          "height": 34
        },
        "outputId": "c506358f-c3ad-4b53-f4b6-7a2a7c08c0f8"
      },
      "source": [
        "t.shape #shape is an attribute"
      ],
      "execution_count": 14,
      "outputs": [
        {
          "output_type": "execute_result",
          "data": {
            "text/plain": [
              "torch.Size([3, 4])"
            ]
          },
          "metadata": {
            "tags": []
          },
          "execution_count": 14
        }
      ]
    },
    {
      "cell_type": "code",
      "metadata": {
        "id": "TeRyQ6WWHVAP",
        "colab_type": "code",
        "colab": {
          "base_uri": "https://localhost:8080/",
          "height": 34
        },
        "outputId": "3ab3d55f-06f1-49d8-ed22-ccbbb14629e8"
      },
      "source": [
        "len(t.shape)"
      ],
      "execution_count": 15,
      "outputs": [
        {
          "output_type": "execute_result",
          "data": {
            "text/plain": [
              "2"
            ]
          },
          "metadata": {
            "tags": []
          },
          "execution_count": 15
        }
      ]
    },
    {
      "cell_type": "code",
      "metadata": {
        "id": "6AoS45RfHXfZ",
        "colab_type": "code",
        "colab": {
          "base_uri": "https://localhost:8080/",
          "height": 34
        },
        "outputId": "b34064f5-dde1-4949-9278-7b557f31af3c"
      },
      "source": [
        "torch.tensor(t.shape).prod()"
      ],
      "execution_count": 16,
      "outputs": [
        {
          "output_type": "execute_result",
          "data": {
            "text/plain": [
              "tensor(12)"
            ]
          },
          "metadata": {
            "tags": []
          },
          "execution_count": 16
        }
      ]
    },
    {
      "cell_type": "code",
      "metadata": {
        "id": "ECHZr95XHdCj",
        "colab_type": "code",
        "colab": {
          "base_uri": "https://localhost:8080/",
          "height": 34
        },
        "outputId": "9fcba16e-f84f-4903-fc8a-dd7ac123c533"
      },
      "source": [
        "t.numel() #number of element"
      ],
      "execution_count": 17,
      "outputs": [
        {
          "output_type": "execute_result",
          "data": {
            "text/plain": [
              "12"
            ]
          },
          "metadata": {
            "tags": []
          },
          "execution_count": 17
        }
      ]
    },
    {
      "cell_type": "code",
      "metadata": {
        "id": "A7dQ19w2HmiV",
        "colab_type": "code",
        "colab": {
          "base_uri": "https://localhost:8080/",
          "height": 34
        },
        "outputId": "0981d9e3-21b6-401d-f04f-f7228eb24ef2"
      },
      "source": [
        "t.reshape(1,12)"
      ],
      "execution_count": 18,
      "outputs": [
        {
          "output_type": "execute_result",
          "data": {
            "text/plain": [
              "tensor([[1., 1., 1., 1., 2., 2., 2., 2., 3., 3., 3., 3.]])"
            ]
          },
          "metadata": {
            "tags": []
          },
          "execution_count": 18
        }
      ]
    },
    {
      "cell_type": "code",
      "metadata": {
        "id": "_jQTmY-cHmrh",
        "colab_type": "code",
        "colab": {
          "base_uri": "https://localhost:8080/",
          "height": 51
        },
        "outputId": "04dcdcf8-86c0-43de-9640-e59ecd25e970"
      },
      "source": [
        "t.reshape(2,6)"
      ],
      "execution_count": 19,
      "outputs": [
        {
          "output_type": "execute_result",
          "data": {
            "text/plain": [
              "tensor([[1., 1., 1., 1., 2., 2.],\n",
              "        [2., 2., 3., 3., 3., 3.]])"
            ]
          },
          "metadata": {
            "tags": []
          },
          "execution_count": 19
        }
      ]
    },
    {
      "cell_type": "code",
      "metadata": {
        "id": "S5n4TXSQHm05",
        "colab_type": "code",
        "colab": {
          "base_uri": "https://localhost:8080/",
          "height": 68
        },
        "outputId": "d0617d4d-82d2-4ac9-88a3-8347d29c549b"
      },
      "source": [
        "t.reshape(3,4)"
      ],
      "execution_count": 20,
      "outputs": [
        {
          "output_type": "execute_result",
          "data": {
            "text/plain": [
              "tensor([[1., 1., 1., 1.],\n",
              "        [2., 2., 2., 2.],\n",
              "        [3., 3., 3., 3.]])"
            ]
          },
          "metadata": {
            "tags": []
          },
          "execution_count": 20
        }
      ]
    },
    {
      "cell_type": "code",
      "metadata": {
        "id": "Jv8Y4Y8MHt22",
        "colab_type": "code",
        "colab": {
          "base_uri": "https://localhost:8080/",
          "height": 221
        },
        "outputId": "c698f925-a943-4d09-8938-97009bc61986"
      },
      "source": [
        "t.reshape(12,1)"
      ],
      "execution_count": 21,
      "outputs": [
        {
          "output_type": "execute_result",
          "data": {
            "text/plain": [
              "tensor([[1.],\n",
              "        [1.],\n",
              "        [1.],\n",
              "        [1.],\n",
              "        [2.],\n",
              "        [2.],\n",
              "        [2.],\n",
              "        [2.],\n",
              "        [3.],\n",
              "        [3.],\n",
              "        [3.],\n",
              "        [3.]])"
            ]
          },
          "metadata": {
            "tags": []
          },
          "execution_count": 21
        }
      ]
    },
    {
      "cell_type": "code",
      "metadata": {
        "id": "eLbhWzVYH-yL",
        "colab_type": "code",
        "colab": {
          "base_uri": "https://localhost:8080/",
          "height": 102
        },
        "outputId": "98a7ceaf-6a56-4dde-b34e-10a4c9228063"
      },
      "source": [
        "t.reshape(2,2,3)"
      ],
      "execution_count": 22,
      "outputs": [
        {
          "output_type": "execute_result",
          "data": {
            "text/plain": [
              "tensor([[[1., 1., 1.],\n",
              "         [1., 2., 2.]],\n",
              "\n",
              "        [[2., 2., 3.],\n",
              "         [3., 3., 3.]]])"
            ]
          },
          "metadata": {
            "tags": []
          },
          "execution_count": 22
        }
      ]
    },
    {
      "cell_type": "code",
      "metadata": {
        "id": "QNYX6SUAIGxB",
        "colab_type": "code",
        "colab": {
          "base_uri": "https://localhost:8080/",
          "height": 51
        },
        "outputId": "4e8eb57c-de17-402a-a0f8-e95f0b6e0c6c"
      },
      "source": [
        "# squeeze: remove all the axes to have a length of 1, turn it to a lower rank tensor\n",
        "#unsqueeze: adds a dimension with a length of 1\n",
        "print(t.reshape(1,12))\n",
        "print(t.reshape(1,12).shape)"
      ],
      "execution_count": 23,
      "outputs": [
        {
          "output_type": "stream",
          "text": [
            "tensor([[1., 1., 1., 1., 2., 2., 2., 2., 3., 3., 3., 3.]])\n",
            "torch.Size([1, 12])\n"
          ],
          "name": "stdout"
        }
      ]
    },
    {
      "cell_type": "code",
      "metadata": {
        "id": "c6CBVvM7IXo9",
        "colab_type": "code",
        "colab": {
          "base_uri": "https://localhost:8080/",
          "height": 51
        },
        "outputId": "59057d08-2033-40ee-a1fe-b5bc11edb60e"
      },
      "source": [
        "print(t.reshape(1,12).squeeze())\n",
        "print(t.reshape(1,12).squeeze().shape)"
      ],
      "execution_count": 24,
      "outputs": [
        {
          "output_type": "stream",
          "text": [
            "tensor([1., 1., 1., 1., 2., 2., 2., 2., 3., 3., 3., 3.])\n",
            "torch.Size([12])\n"
          ],
          "name": "stdout"
        }
      ]
    },
    {
      "cell_type": "code",
      "metadata": {
        "id": "vGhBjOA9IX8a",
        "colab_type": "code",
        "colab": {
          "base_uri": "https://localhost:8080/",
          "height": 51
        },
        "outputId": "0770daa9-3768-4f65-c2cc-f6ed04cf59ac"
      },
      "source": [
        "print(t.reshape(1,12).squeeze().unsqueeze(dim=0))\n",
        "print(t.reshape(1,12).squeeze().unsqueeze(dim=0).shape)"
      ],
      "execution_count": 26,
      "outputs": [
        {
          "output_type": "stream",
          "text": [
            "tensor([[1., 1., 1., 1., 2., 2., 2., 2., 3., 3., 3., 3.]])\n",
            "torch.Size([1, 12])\n"
          ],
          "name": "stdout"
        }
      ]
    },
    {
      "cell_type": "code",
      "metadata": {
        "id": "JZ9QQnsFiDed",
        "colab_type": "code",
        "colab": {}
      },
      "source": [
        "# construct a flatten function\n",
        "def flatten(t):\n",
        "  t = t.reshape(1,-1) # -1 lets the reshape function figures out the number\n",
        "  t = t.squeeze()\n",
        "  return t"
      ],
      "execution_count": 0,
      "outputs": []
    },
    {
      "cell_type": "code",
      "metadata": {
        "id": "cdcphrx8iZW4",
        "colab_type": "code",
        "colab": {
          "base_uri": "https://localhost:8080/",
          "height": 34
        },
        "outputId": "f9ee10d2-2b23-43da-e3d8-4d57c4e22d07"
      },
      "source": [
        "flatten(t)"
      ],
      "execution_count": 7,
      "outputs": [
        {
          "output_type": "execute_result",
          "data": {
            "text/plain": [
              "tensor([1., 1., 1., 1., 2., 2., 2., 2., 3., 3., 3., 3.])"
            ]
          },
          "metadata": {
            "tags": []
          },
          "execution_count": 7
        }
      ]
    },
    {
      "cell_type": "code",
      "metadata": {
        "id": "rA848tEeigvh",
        "colab_type": "code",
        "colab": {
          "base_uri": "https://localhost:8080/",
          "height": 34
        },
        "outputId": "25349482-54d1-4778-d427-c2dc8942afc9"
      },
      "source": [
        "t.reshape(-1)"
      ],
      "execution_count": 8,
      "outputs": [
        {
          "output_type": "execute_result",
          "data": {
            "text/plain": [
              "tensor([1., 1., 1., 1., 2., 2., 2., 2., 3., 3., 3., 3.])"
            ]
          },
          "metadata": {
            "tags": []
          },
          "execution_count": 8
        }
      ]
    },
    {
      "cell_type": "code",
      "metadata": {
        "id": "LB63nL-UorTR",
        "colab_type": "code",
        "colab": {
          "base_uri": "https://localhost:8080/",
          "height": 51
        },
        "outputId": "813ecc37-e174-4301-c034-c34038a232f8"
      },
      "source": [
        "t.view(t.numel())"
      ],
      "execution_count": 21,
      "outputs": [
        {
          "output_type": "execute_result",
          "data": {
            "text/plain": [
              "tensor([1, 1, 1, 1, 1, 1, 1, 1, 1, 1, 1, 1, 1, 1, 1, 1, 2, 2, 2, 2, 2, 2, 2, 2,\n",
              "        2, 2, 2, 2, 2, 2, 2, 2, 3, 3, 3, 3, 3, 3, 3, 3, 3, 3, 3, 3, 3, 3, 3, 3])"
            ]
          },
          "metadata": {
            "tags": []
          },
          "execution_count": 21
        }
      ]
    },
    {
      "cell_type": "code",
      "metadata": {
        "id": "9XuqDLVGovoc",
        "colab_type": "code",
        "colab": {
          "base_uri": "https://localhost:8080/",
          "height": 51
        },
        "outputId": "66008338-a0ce-4e27-98cb-5de08ec0b732"
      },
      "source": [
        "t.flatten()"
      ],
      "execution_count": 22,
      "outputs": [
        {
          "output_type": "execute_result",
          "data": {
            "text/plain": [
              "tensor([1, 1, 1, 1, 1, 1, 1, 1, 1, 1, 1, 1, 1, 1, 1, 1, 2, 2, 2, 2, 2, 2, 2, 2,\n",
              "        2, 2, 2, 2, 2, 2, 2, 2, 3, 3, 3, 3, 3, 3, 3, 3, 3, 3, 3, 3, 3, 3, 3, 3])"
            ]
          },
          "metadata": {
            "tags": []
          },
          "execution_count": 22
        }
      ]
    },
    {
      "cell_type": "markdown",
      "metadata": {
        "id": "7S4CbQ5TjGSK",
        "colab_type": "text"
      },
      "source": [
        "## Concatenating tensors"
      ]
    },
    {
      "cell_type": "code",
      "metadata": {
        "id": "Xvkt9NEcjE8N",
        "colab_type": "code",
        "colab": {}
      },
      "source": [
        "t1 = torch.tensor([\n",
        "                   [1,2],\n",
        "                   [3,4]\n",
        "])\n",
        "t2 = torch.tensor([\n",
        "                   [5,6],\n",
        "                   [7,8]\n",
        "])"
      ],
      "execution_count": 0,
      "outputs": []
    },
    {
      "cell_type": "code",
      "metadata": {
        "id": "IGTwUrVjjbWX",
        "colab_type": "code",
        "colab": {
          "base_uri": "https://localhost:8080/",
          "height": 85
        },
        "outputId": "8dbe80b2-6568-4525-ac1b-505c2821d6b9"
      },
      "source": [
        "#combine t1 and t2 row-wise (axis = 0)\n",
        "torch.cat((t1,t2), dim=0)"
      ],
      "execution_count": 10,
      "outputs": [
        {
          "output_type": "execute_result",
          "data": {
            "text/plain": [
              "tensor([[1, 2],\n",
              "        [3, 4],\n",
              "        [5, 6],\n",
              "        [7, 8]])"
            ]
          },
          "metadata": {
            "tags": []
          },
          "execution_count": 10
        }
      ]
    },
    {
      "cell_type": "code",
      "metadata": {
        "id": "iPPtlyY7jlqF",
        "colab_type": "code",
        "colab": {
          "base_uri": "https://localhost:8080/",
          "height": 51
        },
        "outputId": "a47aeb91-2f30-4f6d-b899-f1105b890854"
      },
      "source": [
        "#combine t1 and t2 column-wise (axis=1) like this:\n",
        "torch.cat((t1,t2), dim=1)"
      ],
      "execution_count": 11,
      "outputs": [
        {
          "output_type": "execute_result",
          "data": {
            "text/plain": [
              "tensor([[1, 2, 5, 6],\n",
              "        [3, 4, 7, 8]])"
            ]
          },
          "metadata": {
            "tags": []
          },
          "execution_count": 11
        }
      ]
    },
    {
      "cell_type": "markdown",
      "metadata": {
        "id": "-K6doLx2kDEy",
        "colab_type": "text"
      },
      "source": [
        "###CNN flatten operation visualized - Tensor Batch Processing for Deep Learning\n"
      ]
    },
    {
      "cell_type": "code",
      "metadata": {
        "id": "M49Rb6WIkMCZ",
        "colab_type": "code",
        "colab": {}
      },
      "source": [
        "t1 = torch.tensor([\n",
        "    [1,1,1,1],\n",
        "    [1,1,1,1],\n",
        "    [1,1,1,1],\n",
        "    [1,1,1,1]\n",
        "])\n",
        "\n",
        "t2 = torch.tensor([\n",
        "  [2,2,2,2],\n",
        "  [2,2,2,2],\n",
        "  [2,2,2,2],\n",
        "  [2,2,2,2]\n",
        "])\n",
        "\n",
        "t3 = torch.tensor([\n",
        "  [3,3,3,3],\n",
        "  [3,3,3,3],\n",
        "  [3,3,3,3],\n",
        "  [3,3,3,3]\n",
        "])"
      ],
      "execution_count": 0,
      "outputs": []
    },
    {
      "cell_type": "code",
      "metadata": {
        "id": "CwV86U1slTYz",
        "colab_type": "code",
        "colab": {
          "base_uri": "https://localhost:8080/",
          "height": 34
        },
        "outputId": "c737e638-ffae-4f1f-b8ff-dc510fcc7b2a"
      },
      "source": [
        "t = torch.stack((t1,t2,t3)) #stack 3 tensors along a new axis\n",
        "t.shape"
      ],
      "execution_count": 13,
      "outputs": [
        {
          "output_type": "execute_result",
          "data": {
            "text/plain": [
              "torch.Size([3, 4, 4])"
            ]
          },
          "metadata": {
            "tags": []
          },
          "execution_count": 13
        }
      ]
    },
    {
      "cell_type": "code",
      "metadata": {
        "id": "PBoTivxGleKf",
        "colab_type": "code",
        "colab": {
          "base_uri": "https://localhost:8080/",
          "height": 255
        },
        "outputId": "1ffc8fe2-8a1e-4014-a1fa-fed00e37aa67"
      },
      "source": [
        "t # 3 represents batch size, 4 represents height and 4 represents width"
      ],
      "execution_count": 14,
      "outputs": [
        {
          "output_type": "execute_result",
          "data": {
            "text/plain": [
              "tensor([[[1, 1, 1, 1],\n",
              "         [1, 1, 1, 1],\n",
              "         [1, 1, 1, 1],\n",
              "         [1, 1, 1, 1]],\n",
              "\n",
              "        [[2, 2, 2, 2],\n",
              "         [2, 2, 2, 2],\n",
              "         [2, 2, 2, 2],\n",
              "         [2, 2, 2, 2]],\n",
              "\n",
              "        [[3, 3, 3, 3],\n",
              "         [3, 3, 3, 3],\n",
              "         [3, 3, 3, 3],\n",
              "         [3, 3, 3, 3]]])"
            ]
          },
          "metadata": {
            "tags": []
          },
          "execution_count": 14
        }
      ]
    },
    {
      "cell_type": "code",
      "metadata": {
        "id": "Zf3yMJ6ZlyZZ",
        "colab_type": "code",
        "colab": {
          "base_uri": "https://localhost:8080/",
          "height": 289
        },
        "outputId": "c6311bc0-1bab-4209-83dc-af7b9e76f571"
      },
      "source": [
        "# add a color channel\n",
        "t = t.reshape(3,1,4,4) #batch size, color, height, width\n",
        "t"
      ],
      "execution_count": 16,
      "outputs": [
        {
          "output_type": "execute_result",
          "data": {
            "text/plain": [
              "tensor([[[[1, 1, 1, 1],\n",
              "          [1, 1, 1, 1],\n",
              "          [1, 1, 1, 1],\n",
              "          [1, 1, 1, 1]]],\n",
              "\n",
              "\n",
              "        [[[2, 2, 2, 2],\n",
              "          [2, 2, 2, 2],\n",
              "          [2, 2, 2, 2],\n",
              "          [2, 2, 2, 2]]],\n",
              "\n",
              "\n",
              "        [[[3, 3, 3, 3],\n",
              "          [3, 3, 3, 3],\n",
              "          [3, 3, 3, 3],\n",
              "          [3, 3, 3, 3]]]])"
            ]
          },
          "metadata": {
            "tags": []
          },
          "execution_count": 16
        }
      ]
    },
    {
      "cell_type": "code",
      "metadata": {
        "id": "Znb9o27KmYJC",
        "colab_type": "code",
        "colab": {
          "base_uri": "https://localhost:8080/",
          "height": 85
        },
        "outputId": "45f482d9-a238-44d2-cd39-d87f2a6c84f9"
      },
      "source": [
        "t[0] # 1st image"
      ],
      "execution_count": 17,
      "outputs": [
        {
          "output_type": "execute_result",
          "data": {
            "text/plain": [
              "tensor([[[1, 1, 1, 1],\n",
              "         [1, 1, 1, 1],\n",
              "         [1, 1, 1, 1],\n",
              "         [1, 1, 1, 1]]])"
            ]
          },
          "metadata": {
            "tags": []
          },
          "execution_count": 17
        }
      ]
    },
    {
      "cell_type": "code",
      "metadata": {
        "id": "nr3ipd1umaaK",
        "colab_type": "code",
        "colab": {
          "base_uri": "https://localhost:8080/",
          "height": 85
        },
        "outputId": "c04fa682-00cb-4483-f6bb-f17a82f4b31e"
      },
      "source": [
        "t[0][0] # 1st color channel in the 1st image"
      ],
      "execution_count": 18,
      "outputs": [
        {
          "output_type": "execute_result",
          "data": {
            "text/plain": [
              "tensor([[1, 1, 1, 1],\n",
              "        [1, 1, 1, 1],\n",
              "        [1, 1, 1, 1],\n",
              "        [1, 1, 1, 1]])"
            ]
          },
          "metadata": {
            "tags": []
          },
          "execution_count": 18
        }
      ]
    },
    {
      "cell_type": "code",
      "metadata": {
        "id": "TLDrSBZqmk5n",
        "colab_type": "code",
        "colab": {
          "base_uri": "https://localhost:8080/",
          "height": 34
        },
        "outputId": "57353e8a-cb13-4785-910e-448477ed04bd"
      },
      "source": [
        "t[0][0][0] # 1st row of pixels in the 1st color channel of 1st image"
      ],
      "execution_count": 19,
      "outputs": [
        {
          "output_type": "execute_result",
          "data": {
            "text/plain": [
              "tensor([1, 1, 1, 1])"
            ]
          },
          "metadata": {
            "tags": []
          },
          "execution_count": 19
        }
      ]
    },
    {
      "cell_type": "code",
      "metadata": {
        "id": "ZWOmmmbNmu38",
        "colab_type": "code",
        "colab": {
          "base_uri": "https://localhost:8080/",
          "height": 34
        },
        "outputId": "b754db14-ea20-4095-8534-ef1bffafa3ba"
      },
      "source": [
        "t[0][0][0][0] # 1st pixel of 1st row, 1st color of 1st image"
      ],
      "execution_count": 20,
      "outputs": [
        {
          "output_type": "execute_result",
          "data": {
            "text/plain": [
              "tensor(1)"
            ]
          },
          "metadata": {
            "tags": []
          },
          "execution_count": 20
        }
      ]
    },
    {
      "cell_type": "code",
      "metadata": {
        "id": "Er-g--wLm28T",
        "colab_type": "code",
        "colab": {
          "base_uri": "https://localhost:8080/",
          "height": 34
        },
        "outputId": "b7a36456-7f2b-4afd-89ac-5c82c25419df"
      },
      "source": [
        "# we want to flatten each image not all 3 images within one batch\n",
        "t.flatten(start_dim =1).shape"
      ],
      "execution_count": 23,
      "outputs": [
        {
          "output_type": "execute_result",
          "data": {
            "text/plain": [
              "torch.Size([3, 16])"
            ]
          },
          "metadata": {
            "tags": []
          },
          "execution_count": 23
        }
      ]
    },
    {
      "cell_type": "code",
      "metadata": {
        "id": "s_wxfpoQpTsk",
        "colab_type": "code",
        "colab": {
          "base_uri": "https://localhost:8080/",
          "height": 68
        },
        "outputId": "b6b151dd-997e-42d1-cf11-460c66e931c2"
      },
      "source": [
        "t.flatten(start_dim =1) # flatting skip 1st dim, starting from the 2nd dim"
      ],
      "execution_count": 25,
      "outputs": [
        {
          "output_type": "execute_result",
          "data": {
            "text/plain": [
              "tensor([[1, 1, 1, 1, 1, 1, 1, 1, 1, 1, 1, 1, 1, 1, 1, 1],\n",
              "        [2, 2, 2, 2, 2, 2, 2, 2, 2, 2, 2, 2, 2, 2, 2, 2],\n",
              "        [3, 3, 3, 3, 3, 3, 3, 3, 3, 3, 3, 3, 3, 3, 3, 3]])"
            ]
          },
          "metadata": {
            "tags": []
          },
          "execution_count": 25
        }
      ]
    },
    {
      "cell_type": "code",
      "metadata": {
        "id": "k9wR1t2RpofW",
        "colab_type": "code",
        "colab": {
          "base_uri": "https://localhost:8080/",
          "height": 68
        },
        "outputId": "c85315f5-96f3-4cba-beef-c582ac02fc34"
      },
      "source": [
        "t.reshape(3,-1) # achieve the same flattening"
      ],
      "execution_count": 26,
      "outputs": [
        {
          "output_type": "execute_result",
          "data": {
            "text/plain": [
              "tensor([[1, 1, 1, 1, 1, 1, 1, 1, 1, 1, 1, 1, 1, 1, 1, 1],\n",
              "        [2, 2, 2, 2, 2, 2, 2, 2, 2, 2, 2, 2, 2, 2, 2, 2],\n",
              "        [3, 3, 3, 3, 3, 3, 3, 3, 3, 3, 3, 3, 3, 3, 3, 3]])"
            ]
          },
          "metadata": {
            "tags": []
          },
          "execution_count": 26
        }
      ]
    },
    {
      "cell_type": "markdown",
      "metadata": {
        "id": "fEq0dbp9qK_5",
        "colab_type": "text"
      },
      "source": [
        "##Tensor: broadcasting and element-wise operations"
      ]
    },
    {
      "cell_type": "code",
      "metadata": {
        "id": "utZIkGmYqRR1",
        "colab_type": "code",
        "colab": {}
      },
      "source": [
        "t1 = torch.tensor([\n",
        "                   [1,2],\n",
        "                   [3,4]\n",
        "], dtype= torch.float32)\n",
        "\n",
        "t2 = torch.tensor([\n",
        "                   [9,8],\n",
        "                   [7,6]\n",
        "], dtype=torch.float32)\n"
      ],
      "execution_count": 0,
      "outputs": []
    },
    {
      "cell_type": "markdown",
      "metadata": {
        "id": "QjIf9YgPrO-Z",
        "colab_type": "text"
      },
      "source": [
        "\n",
        "\n",
        "\n",
        "\n",
        "*   element-wise operation can be done only on tensors with the same shape\n",
        "*   scalar value is rank 0 tensor\n",
        "*   broadcasting: copy one or more axes of my tensor to allow it to be the same shape as the other tensor\n",
        "\n",
        "\n",
        "\n"
      ]
    },
    {
      "cell_type": "code",
      "metadata": {
        "id": "ZAg3JkIeq6uN",
        "colab_type": "code",
        "colab": {
          "base_uri": "https://localhost:8080/",
          "height": 51
        },
        "outputId": "cf9e27e6-bd7e-4a4d-b7d6-d0cbf4a53086"
      },
      "source": [
        "t1 + t2"
      ],
      "execution_count": 28,
      "outputs": [
        {
          "output_type": "execute_result",
          "data": {
            "text/plain": [
              "tensor([[10., 10.],\n",
              "        [10., 10.]])"
            ]
          },
          "metadata": {
            "tags": []
          },
          "execution_count": 28
        }
      ]
    },
    {
      "cell_type": "code",
      "metadata": {
        "id": "aCVne_DDrZqi",
        "colab_type": "code",
        "colab": {
          "base_uri": "https://localhost:8080/",
          "height": 51
        },
        "outputId": "1ea0c05d-dbfb-465c-ad80-a19f9a82d364"
      },
      "source": [
        "t1 +2"
      ],
      "execution_count": 29,
      "outputs": [
        {
          "output_type": "execute_result",
          "data": {
            "text/plain": [
              "tensor([[3., 4.],\n",
              "        [5., 6.]])"
            ]
          },
          "metadata": {
            "tags": []
          },
          "execution_count": 29
        }
      ]
    },
    {
      "cell_type": "code",
      "metadata": {
        "id": "5PSox3CQrbCf",
        "colab_type": "code",
        "colab": {
          "base_uri": "https://localhost:8080/",
          "height": 51
        },
        "outputId": "fda5b68b-2a6d-4c86-f141-7149efeaed09"
      },
      "source": [
        "t1 -2"
      ],
      "execution_count": 30,
      "outputs": [
        {
          "output_type": "execute_result",
          "data": {
            "text/plain": [
              "tensor([[-1.,  0.],\n",
              "        [ 1.,  2.]])"
            ]
          },
          "metadata": {
            "tags": []
          },
          "execution_count": 30
        }
      ]
    },
    {
      "cell_type": "markdown",
      "metadata": {
        "id": "YDSQQN6surpm",
        "colab_type": "text"
      },
      "source": [
        ""
      ]
    },
    {
      "cell_type": "code",
      "metadata": {
        "id": "7yjLBlyWrbMC",
        "colab_type": "code",
        "colab": {
          "base_uri": "https://localhost:8080/",
          "height": 51
        },
        "outputId": "05fe5a7f-c145-470e-a387-32a22a298a8b"
      },
      "source": [
        "t1 *2"
      ],
      "execution_count": 31,
      "outputs": [
        {
          "output_type": "execute_result",
          "data": {
            "text/plain": [
              "tensor([[2., 4.],\n",
              "        [6., 8.]])"
            ]
          },
          "metadata": {
            "tags": []
          },
          "execution_count": 31
        }
      ]
    },
    {
      "cell_type": "code",
      "metadata": {
        "id": "7WEXu4HfrdQ4",
        "colab_type": "code",
        "colab": {
          "base_uri": "https://localhost:8080/",
          "height": 51
        },
        "outputId": "e028ecc7-583b-48cf-dc3c-c9de3681814b"
      },
      "source": [
        "t1/2"
      ],
      "execution_count": 32,
      "outputs": [
        {
          "output_type": "execute_result",
          "data": {
            "text/plain": [
              "tensor([[0.5000, 1.0000],\n",
              "        [1.5000, 2.0000]])"
            ]
          },
          "metadata": {
            "tags": []
          },
          "execution_count": 32
        }
      ]
    },
    {
      "cell_type": "code",
      "metadata": {
        "id": "v5Myab90sEDu",
        "colab_type": "code",
        "colab": {
          "base_uri": "https://localhost:8080/",
          "height": 51
        },
        "outputId": "049b17e2-8949-46df-e019-f8ac8cb3a7ae"
      },
      "source": [
        "# see how does broadcasting works\n",
        "np.broadcast_to(2, t1.shape)"
      ],
      "execution_count": 33,
      "outputs": [
        {
          "output_type": "execute_result",
          "data": {
            "text/plain": [
              "array([[2, 2],\n",
              "       [2, 2]])"
            ]
          },
          "metadata": {
            "tags": []
          },
          "execution_count": 33
        }
      ]
    },
    {
      "cell_type": "code",
      "metadata": {
        "id": "eVHUz-iUsKvy",
        "colab_type": "code",
        "colab": {
          "base_uri": "https://localhost:8080/",
          "height": 51
        },
        "outputId": "249830f5-e558-46da-fec2-7100d6c2d74b"
      },
      "source": [
        "t1 +2"
      ],
      "execution_count": 34,
      "outputs": [
        {
          "output_type": "execute_result",
          "data": {
            "text/plain": [
              "tensor([[3., 4.],\n",
              "        [5., 6.]])"
            ]
          },
          "metadata": {
            "tags": []
          },
          "execution_count": 34
        }
      ]
    },
    {
      "cell_type": "code",
      "metadata": {
        "id": "qXOctmwpsMbE",
        "colab_type": "code",
        "colab": {
          "base_uri": "https://localhost:8080/",
          "height": 51
        },
        "outputId": "2979f3e5-2385-4fdb-edb4-058b4c64ce96"
      },
      "source": [
        "t1 + torch.tensor(np.broadcast_to(2, t1.shape), dtype = torch.float32)"
      ],
      "execution_count": 35,
      "outputs": [
        {
          "output_type": "execute_result",
          "data": {
            "text/plain": [
              "tensor([[3., 4.],\n",
              "        [5., 6.]])"
            ]
          },
          "metadata": {
            "tags": []
          },
          "execution_count": 35
        }
      ]
    },
    {
      "cell_type": "code",
      "metadata": {
        "id": "oB7EbwPKsz2V",
        "colab_type": "code",
        "colab": {}
      },
      "source": [
        "# 2 tensors with different shape and broadcasting still works\n",
        "t1 = torch.tensor([\n",
        "                   [1,1],\n",
        "                   [1,1]\n",
        "])\n",
        "\n",
        "t2 = torch.tensor([2,4], dtype = torch.float32)"
      ],
      "execution_count": 0,
      "outputs": []
    },
    {
      "cell_type": "code",
      "metadata": {
        "id": "j1y2U4KttCYC",
        "colab_type": "code",
        "colab": {
          "base_uri": "https://localhost:8080/",
          "height": 51
        },
        "outputId": "fa84f8cb-3096-491e-8d0c-800b1b56837d"
      },
      "source": [
        "t1 + t2"
      ],
      "execution_count": 37,
      "outputs": [
        {
          "output_type": "execute_result",
          "data": {
            "text/plain": [
              "tensor([[3., 5.],\n",
              "        [3., 5.]])"
            ]
          },
          "metadata": {
            "tags": []
          },
          "execution_count": 37
        }
      ]
    },
    {
      "cell_type": "code",
      "metadata": {
        "id": "cya5_MbmtLNO",
        "colab_type": "code",
        "colab": {
          "base_uri": "https://localhost:8080/",
          "height": 51
        },
        "outputId": "2c83889d-a237-4f9c-8fa5-f9fe9bf48607"
      },
      "source": [
        "np.broadcast_to(t2.numpy(), t1.shape)"
      ],
      "execution_count": 38,
      "outputs": [
        {
          "output_type": "execute_result",
          "data": {
            "text/plain": [
              "array([[2., 4.],\n",
              "       [2., 4.]], dtype=float32)"
            ]
          },
          "metadata": {
            "tags": []
          },
          "execution_count": 38
        }
      ]
    },
    {
      "cell_type": "markdown",
      "metadata": {
        "id": "hSI0tYEPus_A",
        "colab_type": "text"
      },
      "source": [
        "##Argmax  and Reduction Tensor ops"
      ]
    },
    {
      "cell_type": "markdown",
      "metadata": {
        "id": "goN29n3-uyga",
        "colab_type": "text"
      },
      "source": [
        "A reduction operation on a tensor is an operation that reduces the number of elements contained within the tensor: sum, prod, mean, std"
      ]
    },
    {
      "cell_type": "code",
      "metadata": {
        "id": "alNayxyLvInh",
        "colab_type": "code",
        "colab": {
          "base_uri": "https://localhost:8080/",
          "height": 34
        },
        "outputId": "107703ac-5c54-407a-951b-3c1cf3eceae1"
      },
      "source": [
        "t = torch.tensor([\n",
        "                  [0,1,0],\n",
        "                  [2,0,2],\n",
        "                  [0,3,0]\n",
        "], dtype = torch.float32)\n",
        "t.sum()"
      ],
      "execution_count": 46,
      "outputs": [
        {
          "output_type": "execute_result",
          "data": {
            "text/plain": [
              "tensor(8.)"
            ]
          },
          "metadata": {
            "tags": []
          },
          "execution_count": 46
        }
      ]
    },
    {
      "cell_type": "code",
      "metadata": {
        "id": "29G9qmWCvT-O",
        "colab_type": "code",
        "colab": {
          "base_uri": "https://localhost:8080/",
          "height": 34
        },
        "outputId": "207c2bb5-bea9-4289-bff8-57c2dca77d06"
      },
      "source": [
        "t.numel()"
      ],
      "execution_count": 40,
      "outputs": [
        {
          "output_type": "execute_result",
          "data": {
            "text/plain": [
              "9"
            ]
          },
          "metadata": {
            "tags": []
          },
          "execution_count": 40
        }
      ]
    },
    {
      "cell_type": "code",
      "metadata": {
        "id": "Xg5cxRJXvW-f",
        "colab_type": "code",
        "colab": {
          "base_uri": "https://localhost:8080/",
          "height": 34
        },
        "outputId": "6e01773c-672e-45eb-b7af-933e14e317d1"
      },
      "source": [
        "t.sum().numel()"
      ],
      "execution_count": 41,
      "outputs": [
        {
          "output_type": "execute_result",
          "data": {
            "text/plain": [
              "1"
            ]
          },
          "metadata": {
            "tags": []
          },
          "execution_count": 41
        }
      ]
    },
    {
      "cell_type": "code",
      "metadata": {
        "id": "agV1Ic9yva2R",
        "colab_type": "code",
        "colab": {
          "base_uri": "https://localhost:8080/",
          "height": 34
        },
        "outputId": "96790135-010a-49bf-a030-b52a2f7a6343"
      },
      "source": [
        "t.sum().numel() < t.numel()"
      ],
      "execution_count": 42,
      "outputs": [
        {
          "output_type": "execute_result",
          "data": {
            "text/plain": [
              "True"
            ]
          },
          "metadata": {
            "tags": []
          },
          "execution_count": 42
        }
      ]
    },
    {
      "cell_type": "code",
      "metadata": {
        "id": "ZbFQz0d9vrvV",
        "colab_type": "code",
        "colab": {
          "base_uri": "https://localhost:8080/",
          "height": 34
        },
        "outputId": "bdc813ac-641d-4b2f-f92c-840b7fdef560"
      },
      "source": [
        "t.sum()"
      ],
      "execution_count": 43,
      "outputs": [
        {
          "output_type": "execute_result",
          "data": {
            "text/plain": [
              "tensor(8)"
            ]
          },
          "metadata": {
            "tags": []
          },
          "execution_count": 43
        }
      ]
    },
    {
      "cell_type": "code",
      "metadata": {
        "id": "W-7EgJDxvs_O",
        "colab_type": "code",
        "colab": {
          "base_uri": "https://localhost:8080/",
          "height": 34
        },
        "outputId": "3cc59295-acf1-4afa-acb6-df26418a1ace"
      },
      "source": [
        "t.prod()"
      ],
      "execution_count": 44,
      "outputs": [
        {
          "output_type": "execute_result",
          "data": {
            "text/plain": [
              "tensor(0)"
            ]
          },
          "metadata": {
            "tags": []
          },
          "execution_count": 44
        }
      ]
    },
    {
      "cell_type": "code",
      "metadata": {
        "id": "tr7U2GFrvuSM",
        "colab_type": "code",
        "colab": {
          "base_uri": "https://localhost:8080/",
          "height": 34
        },
        "outputId": "d6e7b25f-7de0-46c8-ff90-da0a15c719e5"
      },
      "source": [
        "t.mean()"
      ],
      "execution_count": 47,
      "outputs": [
        {
          "output_type": "execute_result",
          "data": {
            "text/plain": [
              "tensor(0.8889)"
            ]
          },
          "metadata": {
            "tags": []
          },
          "execution_count": 47
        }
      ]
    },
    {
      "cell_type": "code",
      "metadata": {
        "id": "6Ie1bhyfvvqs",
        "colab_type": "code",
        "colab": {
          "base_uri": "https://localhost:8080/",
          "height": 34
        },
        "outputId": "cb9d6956-4267-4527-bd19-7b9ed53ab3e8"
      },
      "source": [
        "t.std()"
      ],
      "execution_count": 48,
      "outputs": [
        {
          "output_type": "execute_result",
          "data": {
            "text/plain": [
              "tensor(1.1667)"
            ]
          },
          "metadata": {
            "tags": []
          },
          "execution_count": 48
        }
      ]
    },
    {
      "cell_type": "code",
      "metadata": {
        "id": "27QgKjDJwEfu",
        "colab_type": "code",
        "colab": {}
      },
      "source": [
        "t = torch.tensor([\n",
        "                  [1,1,1,1],\n",
        "                  [2,2,2,2],\n",
        "                  [3,3,3,3]\n",
        "], dtype = torch.float32)"
      ],
      "execution_count": 0,
      "outputs": []
    },
    {
      "cell_type": "code",
      "metadata": {
        "id": "_oYuQIOJwPqD",
        "colab_type": "code",
        "colab": {
          "base_uri": "https://localhost:8080/",
          "height": 34
        },
        "outputId": "ded74a05-b513-44e8-a156-e50deccdbee4"
      },
      "source": [
        "t.sum(dim =0) #"
      ],
      "execution_count": 50,
      "outputs": [
        {
          "output_type": "execute_result",
          "data": {
            "text/plain": [
              "tensor([6., 6., 6., 6.])"
            ]
          },
          "metadata": {
            "tags": []
          },
          "execution_count": 50
        }
      ]
    },
    {
      "cell_type": "code",
      "metadata": {
        "id": "LwDwg6D5w1kf",
        "colab_type": "code",
        "colab": {
          "base_uri": "https://localhost:8080/",
          "height": 34
        },
        "outputId": "43e54a6d-9dff-4be6-e077-7021c1ada7b7"
      },
      "source": [
        "#above and below are the same\n",
        "t[0] + t[1] + t[2]"
      ],
      "execution_count": 52,
      "outputs": [
        {
          "output_type": "execute_result",
          "data": {
            "text/plain": [
              "tensor([6., 6., 6., 6.])"
            ]
          },
          "metadata": {
            "tags": []
          },
          "execution_count": 52
        }
      ]
    },
    {
      "cell_type": "code",
      "metadata": {
        "id": "WvClTbl-wXX1",
        "colab_type": "code",
        "colab": {
          "base_uri": "https://localhost:8080/",
          "height": 34
        },
        "outputId": "51acba00-a8ad-4628-c571-794de26dd8f8"
      },
      "source": [
        "t.sum(dim=1)"
      ],
      "execution_count": 51,
      "outputs": [
        {
          "output_type": "execute_result",
          "data": {
            "text/plain": [
              "tensor([ 4.,  8., 12.])"
            ]
          },
          "metadata": {
            "tags": []
          },
          "execution_count": 51
        }
      ]
    },
    {
      "cell_type": "code",
      "metadata": {
        "id": "tJAaeFx5wzDi",
        "colab_type": "code",
        "colab": {}
      },
      "source": [
        "#argmax reduction\n",
        "t = torch.tensor([\n",
        "                  [1,0,0,2],\n",
        "                  [0,3,3,0],\n",
        "                  [4,0,0,5]\n",
        "], dtype = torch.float32)\n"
      ],
      "execution_count": 0,
      "outputs": []
    },
    {
      "cell_type": "code",
      "metadata": {
        "id": "y3fynayhxHc4",
        "colab_type": "code",
        "colab": {
          "base_uri": "https://localhost:8080/",
          "height": 34
        },
        "outputId": "e0f20a4b-ba39-4401-c7df-c09f607fd020"
      },
      "source": [
        "t.max()"
      ],
      "execution_count": 4,
      "outputs": [
        {
          "output_type": "execute_result",
          "data": {
            "text/plain": [
              "tensor(5.)"
            ]
          },
          "metadata": {
            "tags": []
          },
          "execution_count": 4
        }
      ]
    },
    {
      "cell_type": "code",
      "metadata": {
        "id": "T-pfqZq_xXG-",
        "colab_type": "code",
        "colab": {
          "base_uri": "https://localhost:8080/",
          "height": 34
        },
        "outputId": "a21a1e56-7589-4623-a3f5-ab67c15c2e9e"
      },
      "source": [
        "t.argmax() # return the index of maximum value from the flattened tensor, see below for the flattened tensor"
      ],
      "execution_count": 5,
      "outputs": [
        {
          "output_type": "execute_result",
          "data": {
            "text/plain": [
              "tensor(11)"
            ]
          },
          "metadata": {
            "tags": []
          },
          "execution_count": 5
        }
      ]
    },
    {
      "cell_type": "code",
      "metadata": {
        "id": "Pkkn2ZXQxbFv",
        "colab_type": "code",
        "colab": {
          "base_uri": "https://localhost:8080/",
          "height": 34
        },
        "outputId": "51002d5c-5fce-489a-e40b-45c3224b6d7a"
      },
      "source": [
        "t.flatten()"
      ],
      "execution_count": 6,
      "outputs": [
        {
          "output_type": "execute_result",
          "data": {
            "text/plain": [
              "tensor([1., 0., 0., 2., 0., 3., 3., 0., 4., 0., 0., 5.])"
            ]
          },
          "metadata": {
            "tags": []
          },
          "execution_count": 6
        }
      ]
    },
    {
      "cell_type": "code",
      "metadata": {
        "id": "aWTlc6MbyTu0",
        "colab_type": "code",
        "colab": {
          "base_uri": "https://localhost:8080/",
          "height": 34
        },
        "outputId": "ff49928b-9331-46d3-a080-4a65962e88a3"
      },
      "source": [
        "t.max(dim = 0) # along the 1st dimension"
      ],
      "execution_count": 7,
      "outputs": [
        {
          "output_type": "execute_result",
          "data": {
            "text/plain": [
              "torch.return_types.max(values=tensor([4., 3., 3., 5.]), indices=tensor([2, 1, 1, 2]))"
            ]
          },
          "metadata": {
            "tags": []
          },
          "execution_count": 7
        }
      ]
    },
    {
      "cell_type": "code",
      "metadata": {
        "id": "GEmbs6smyUZL",
        "colab_type": "code",
        "colab": {
          "base_uri": "https://localhost:8080/",
          "height": 34
        },
        "outputId": "7dfa79a6-264f-44ee-aa59-f112ba1320a7"
      },
      "source": [
        "t.argmax(dim =0) # along the 1st dimension"
      ],
      "execution_count": 8,
      "outputs": [
        {
          "output_type": "execute_result",
          "data": {
            "text/plain": [
              "tensor([2, 1, 1, 2])"
            ]
          },
          "metadata": {
            "tags": []
          },
          "execution_count": 8
        }
      ]
    },
    {
      "cell_type": "code",
      "metadata": {
        "id": "VjLyNc2WzfPB",
        "colab_type": "code",
        "colab": {
          "base_uri": "https://localhost:8080/",
          "height": 34
        },
        "outputId": "78d2b047-4f33-42f9-a75d-9d36f7be4707"
      },
      "source": [
        "t.max(dim = 1) # along the 2nd dimension"
      ],
      "execution_count": 9,
      "outputs": [
        {
          "output_type": "execute_result",
          "data": {
            "text/plain": [
              "torch.return_types.max(values=tensor([2., 3., 5.]), indices=tensor([3, 2, 3]))"
            ]
          },
          "metadata": {
            "tags": []
          },
          "execution_count": 9
        }
      ]
    },
    {
      "cell_type": "code",
      "metadata": {
        "id": "X-O7NNamziLb",
        "colab_type": "code",
        "colab": {
          "base_uri": "https://localhost:8080/",
          "height": 34
        },
        "outputId": "dd1e59b7-d309-4c25-efb6-170e9b32cfb4"
      },
      "source": [
        "t.argmax(dim = 1) # along the 2nd dimension"
      ],
      "execution_count": 10,
      "outputs": [
        {
          "output_type": "execute_result",
          "data": {
            "text/plain": [
              "tensor([3, 2, 3])"
            ]
          },
          "metadata": {
            "tags": []
          },
          "execution_count": 10
        }
      ]
    },
    {
      "cell_type": "code",
      "metadata": {
        "id": "LpiigHNMzxm8",
        "colab_type": "code",
        "colab": {}
      },
      "source": [
        "t = torch.tensor([\n",
        "                  [1,2,3],\n",
        "                  [4,5,6],\n",
        "                  [7,8,9]\n",
        "], dtype = torch.float32)"
      ],
      "execution_count": 0,
      "outputs": []
    },
    {
      "cell_type": "code",
      "metadata": {
        "id": "fS-a4fMB18eL",
        "colab_type": "code",
        "colab": {
          "base_uri": "https://localhost:8080/",
          "height": 34
        },
        "outputId": "f482330d-e9d6-4855-95b6-f5921c141cdc"
      },
      "source": [
        "t.mean()"
      ],
      "execution_count": 14,
      "outputs": [
        {
          "output_type": "execute_result",
          "data": {
            "text/plain": [
              "tensor(5.)"
            ]
          },
          "metadata": {
            "tags": []
          },
          "execution_count": 14
        }
      ]
    },
    {
      "cell_type": "code",
      "metadata": {
        "id": "ZKSFPCGE1-EG",
        "colab_type": "code",
        "colab": {
          "base_uri": "https://localhost:8080/",
          "height": 34
        },
        "outputId": "a0f1c3bb-5105-4697-e589-ec5775db006f"
      },
      "source": [
        "# item() method only applies to tensor with single element \n",
        "t.mean().item()"
      ],
      "execution_count": 15,
      "outputs": [
        {
          "output_type": "execute_result",
          "data": {
            "text/plain": [
              "5.0"
            ]
          },
          "metadata": {
            "tags": []
          },
          "execution_count": 15
        }
      ]
    },
    {
      "cell_type": "code",
      "metadata": {
        "id": "VryQOQsT3q8e",
        "colab_type": "code",
        "colab": {
          "base_uri": "https://localhost:8080/",
          "height": 34
        },
        "outputId": "abad0119-895f-45c9-9b60-e9844888d8ee"
      },
      "source": [
        "#convert to a list\n",
        "t.mean(dim=0).tolist()"
      ],
      "execution_count": 16,
      "outputs": [
        {
          "output_type": "execute_result",
          "data": {
            "text/plain": [
              "[4.0, 5.0, 6.0]"
            ]
          },
          "metadata": {
            "tags": []
          },
          "execution_count": 16
        }
      ]
    },
    {
      "cell_type": "code",
      "metadata": {
        "id": "E-gnBdxd3xck",
        "colab_type": "code",
        "colab": {
          "base_uri": "https://localhost:8080/",
          "height": 34
        },
        "outputId": "cc3aa684-ec8d-4b54-a68f-60ff840a9225"
      },
      "source": [
        "# convert to a numpy array\n",
        "t.mean(dim =0).numpy()"
      ],
      "execution_count": 18,
      "outputs": [
        {
          "output_type": "execute_result",
          "data": {
            "text/plain": [
              "array([4., 5., 6.], dtype=float32)"
            ]
          },
          "metadata": {
            "tags": []
          },
          "execution_count": 18
        }
      ]
    }
  ]
}