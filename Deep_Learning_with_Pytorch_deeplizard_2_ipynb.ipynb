{
  "nbformat": 4,
  "nbformat_minor": 0,
  "metadata": {
    "colab": {
      "name": "Deep Learning with Pytorch_deeplizard_2.ipynb.ipynb",
      "provenance": [],
      "collapsed_sections": [],
      "include_colab_link": true
    },
    "kernelspec": {
      "name": "python3",
      "display_name": "Python 3"
    },
    "widgets": {
      "application/vnd.jupyter.widget-state+json": {
        "02b23b31b6c541528934239ac5e3d978": {
          "model_module": "@jupyter-widgets/controls",
          "model_name": "HBoxModel",
          "state": {
            "_view_name": "HBoxView",
            "_dom_classes": [],
            "_model_name": "HBoxModel",
            "_view_module": "@jupyter-widgets/controls",
            "_model_module_version": "1.5.0",
            "_view_count": null,
            "_view_module_version": "1.5.0",
            "box_style": "",
            "layout": "IPY_MODEL_0a7d59bfb11c4534b3e42c43e9e3a931",
            "_model_module": "@jupyter-widgets/controls",
            "children": [
              "IPY_MODEL_b2a8e3c456014a8997dc97f5f0de9a67",
              "IPY_MODEL_76e4355650fb4fbe8db2531e295cf454"
            ]
          }
        },
        "0a7d59bfb11c4534b3e42c43e9e3a931": {
          "model_module": "@jupyter-widgets/base",
          "model_name": "LayoutModel",
          "state": {
            "_view_name": "LayoutView",
            "grid_template_rows": null,
            "right": null,
            "justify_content": null,
            "_view_module": "@jupyter-widgets/base",
            "overflow": null,
            "_model_module_version": "1.2.0",
            "_view_count": null,
            "flex_flow": null,
            "width": null,
            "min_width": null,
            "border": null,
            "align_items": null,
            "bottom": null,
            "_model_module": "@jupyter-widgets/base",
            "top": null,
            "grid_column": null,
            "overflow_y": null,
            "overflow_x": null,
            "grid_auto_flow": null,
            "grid_area": null,
            "grid_template_columns": null,
            "flex": null,
            "_model_name": "LayoutModel",
            "justify_items": null,
            "grid_row": null,
            "max_height": null,
            "align_content": null,
            "visibility": null,
            "align_self": null,
            "height": null,
            "min_height": null,
            "padding": null,
            "grid_auto_rows": null,
            "grid_gap": null,
            "max_width": null,
            "order": null,
            "_view_module_version": "1.2.0",
            "grid_template_areas": null,
            "object_position": null,
            "object_fit": null,
            "grid_auto_columns": null,
            "margin": null,
            "display": null,
            "left": null
          }
        },
        "b2a8e3c456014a8997dc97f5f0de9a67": {
          "model_module": "@jupyter-widgets/controls",
          "model_name": "FloatProgressModel",
          "state": {
            "_view_name": "ProgressView",
            "style": "IPY_MODEL_c255ba3bd5f5499eb6a5238042a36c5c",
            "_dom_classes": [],
            "description": "",
            "_model_name": "FloatProgressModel",
            "bar_style": "info",
            "max": 1,
            "_view_module": "@jupyter-widgets/controls",
            "_model_module_version": "1.5.0",
            "value": 1,
            "_view_count": null,
            "_view_module_version": "1.5.0",
            "orientation": "horizontal",
            "min": 0,
            "description_tooltip": null,
            "_model_module": "@jupyter-widgets/controls",
            "layout": "IPY_MODEL_809969308b534b4f8a46cb0965a811fa"
          }
        },
        "76e4355650fb4fbe8db2531e295cf454": {
          "model_module": "@jupyter-widgets/controls",
          "model_name": "HTMLModel",
          "state": {
            "_view_name": "HTMLView",
            "style": "IPY_MODEL_e3fe0a34aaa74489bec539c20a11abfe",
            "_dom_classes": [],
            "description": "",
            "_model_name": "HTMLModel",
            "placeholder": "​",
            "_view_module": "@jupyter-widgets/controls",
            "_model_module_version": "1.5.0",
            "value": " 26427392/? [00:19&lt;00:00, 106164331.83it/s]",
            "_view_count": null,
            "_view_module_version": "1.5.0",
            "description_tooltip": null,
            "_model_module": "@jupyter-widgets/controls",
            "layout": "IPY_MODEL_9b7274916913405cb9e02e84e26a3d31"
          }
        },
        "c255ba3bd5f5499eb6a5238042a36c5c": {
          "model_module": "@jupyter-widgets/controls",
          "model_name": "ProgressStyleModel",
          "state": {
            "_view_name": "StyleView",
            "_model_name": "ProgressStyleModel",
            "description_width": "initial",
            "_view_module": "@jupyter-widgets/base",
            "_model_module_version": "1.5.0",
            "_view_count": null,
            "_view_module_version": "1.2.0",
            "bar_color": null,
            "_model_module": "@jupyter-widgets/controls"
          }
        },
        "809969308b534b4f8a46cb0965a811fa": {
          "model_module": "@jupyter-widgets/base",
          "model_name": "LayoutModel",
          "state": {
            "_view_name": "LayoutView",
            "grid_template_rows": null,
            "right": null,
            "justify_content": null,
            "_view_module": "@jupyter-widgets/base",
            "overflow": null,
            "_model_module_version": "1.2.0",
            "_view_count": null,
            "flex_flow": null,
            "width": null,
            "min_width": null,
            "border": null,
            "align_items": null,
            "bottom": null,
            "_model_module": "@jupyter-widgets/base",
            "top": null,
            "grid_column": null,
            "overflow_y": null,
            "overflow_x": null,
            "grid_auto_flow": null,
            "grid_area": null,
            "grid_template_columns": null,
            "flex": null,
            "_model_name": "LayoutModel",
            "justify_items": null,
            "grid_row": null,
            "max_height": null,
            "align_content": null,
            "visibility": null,
            "align_self": null,
            "height": null,
            "min_height": null,
            "padding": null,
            "grid_auto_rows": null,
            "grid_gap": null,
            "max_width": null,
            "order": null,
            "_view_module_version": "1.2.0",
            "grid_template_areas": null,
            "object_position": null,
            "object_fit": null,
            "grid_auto_columns": null,
            "margin": null,
            "display": null,
            "left": null
          }
        },
        "e3fe0a34aaa74489bec539c20a11abfe": {
          "model_module": "@jupyter-widgets/controls",
          "model_name": "DescriptionStyleModel",
          "state": {
            "_view_name": "StyleView",
            "_model_name": "DescriptionStyleModel",
            "description_width": "",
            "_view_module": "@jupyter-widgets/base",
            "_model_module_version": "1.5.0",
            "_view_count": null,
            "_view_module_version": "1.2.0",
            "_model_module": "@jupyter-widgets/controls"
          }
        },
        "9b7274916913405cb9e02e84e26a3d31": {
          "model_module": "@jupyter-widgets/base",
          "model_name": "LayoutModel",
          "state": {
            "_view_name": "LayoutView",
            "grid_template_rows": null,
            "right": null,
            "justify_content": null,
            "_view_module": "@jupyter-widgets/base",
            "overflow": null,
            "_model_module_version": "1.2.0",
            "_view_count": null,
            "flex_flow": null,
            "width": null,
            "min_width": null,
            "border": null,
            "align_items": null,
            "bottom": null,
            "_model_module": "@jupyter-widgets/base",
            "top": null,
            "grid_column": null,
            "overflow_y": null,
            "overflow_x": null,
            "grid_auto_flow": null,
            "grid_area": null,
            "grid_template_columns": null,
            "flex": null,
            "_model_name": "LayoutModel",
            "justify_items": null,
            "grid_row": null,
            "max_height": null,
            "align_content": null,
            "visibility": null,
            "align_self": null,
            "height": null,
            "min_height": null,
            "padding": null,
            "grid_auto_rows": null,
            "grid_gap": null,
            "max_width": null,
            "order": null,
            "_view_module_version": "1.2.0",
            "grid_template_areas": null,
            "object_position": null,
            "object_fit": null,
            "grid_auto_columns": null,
            "margin": null,
            "display": null,
            "left": null
          }
        },
        "312a39a4f7a545779e0ea19010a5404a": {
          "model_module": "@jupyter-widgets/controls",
          "model_name": "HBoxModel",
          "state": {
            "_view_name": "HBoxView",
            "_dom_classes": [],
            "_model_name": "HBoxModel",
            "_view_module": "@jupyter-widgets/controls",
            "_model_module_version": "1.5.0",
            "_view_count": null,
            "_view_module_version": "1.5.0",
            "box_style": "",
            "layout": "IPY_MODEL_4d122680c4ee4202811838baa085bc1f",
            "_model_module": "@jupyter-widgets/controls",
            "children": [
              "IPY_MODEL_21ce2b3d008741b4bc39455a33a3da8a",
              "IPY_MODEL_371708ec65c14c8e9849507330728344"
            ]
          }
        },
        "4d122680c4ee4202811838baa085bc1f": {
          "model_module": "@jupyter-widgets/base",
          "model_name": "LayoutModel",
          "state": {
            "_view_name": "LayoutView",
            "grid_template_rows": null,
            "right": null,
            "justify_content": null,
            "_view_module": "@jupyter-widgets/base",
            "overflow": null,
            "_model_module_version": "1.2.0",
            "_view_count": null,
            "flex_flow": null,
            "width": null,
            "min_width": null,
            "border": null,
            "align_items": null,
            "bottom": null,
            "_model_module": "@jupyter-widgets/base",
            "top": null,
            "grid_column": null,
            "overflow_y": null,
            "overflow_x": null,
            "grid_auto_flow": null,
            "grid_area": null,
            "grid_template_columns": null,
            "flex": null,
            "_model_name": "LayoutModel",
            "justify_items": null,
            "grid_row": null,
            "max_height": null,
            "align_content": null,
            "visibility": null,
            "align_self": null,
            "height": null,
            "min_height": null,
            "padding": null,
            "grid_auto_rows": null,
            "grid_gap": null,
            "max_width": null,
            "order": null,
            "_view_module_version": "1.2.0",
            "grid_template_areas": null,
            "object_position": null,
            "object_fit": null,
            "grid_auto_columns": null,
            "margin": null,
            "display": null,
            "left": null
          }
        },
        "21ce2b3d008741b4bc39455a33a3da8a": {
          "model_module": "@jupyter-widgets/controls",
          "model_name": "FloatProgressModel",
          "state": {
            "_view_name": "ProgressView",
            "style": "IPY_MODEL_d036256a14154adfb0f1c91a2b436d7f",
            "_dom_classes": [],
            "description": "",
            "_model_name": "FloatProgressModel",
            "bar_style": "success",
            "max": 1,
            "_view_module": "@jupyter-widgets/controls",
            "_model_module_version": "1.5.0",
            "value": 1,
            "_view_count": null,
            "_view_module_version": "1.5.0",
            "orientation": "horizontal",
            "min": 0,
            "description_tooltip": null,
            "_model_module": "@jupyter-widgets/controls",
            "layout": "IPY_MODEL_6533ce3aa45e4f8ab2b46471edb26071"
          }
        },
        "371708ec65c14c8e9849507330728344": {
          "model_module": "@jupyter-widgets/controls",
          "model_name": "HTMLModel",
          "state": {
            "_view_name": "HTMLView",
            "style": "IPY_MODEL_2f35dd01631f46afb5273a51eeec2b9b",
            "_dom_classes": [],
            "description": "",
            "_model_name": "HTMLModel",
            "placeholder": "​",
            "_view_module": "@jupyter-widgets/controls",
            "_model_module_version": "1.5.0",
            "value": " 32768/? [00:00&lt;00:00, 380409.62it/s]",
            "_view_count": null,
            "_view_module_version": "1.5.0",
            "description_tooltip": null,
            "_model_module": "@jupyter-widgets/controls",
            "layout": "IPY_MODEL_90d7c9a4bf5e48efb2c8019cded120cd"
          }
        },
        "d036256a14154adfb0f1c91a2b436d7f": {
          "model_module": "@jupyter-widgets/controls",
          "model_name": "ProgressStyleModel",
          "state": {
            "_view_name": "StyleView",
            "_model_name": "ProgressStyleModel",
            "description_width": "initial",
            "_view_module": "@jupyter-widgets/base",
            "_model_module_version": "1.5.0",
            "_view_count": null,
            "_view_module_version": "1.2.0",
            "bar_color": null,
            "_model_module": "@jupyter-widgets/controls"
          }
        },
        "6533ce3aa45e4f8ab2b46471edb26071": {
          "model_module": "@jupyter-widgets/base",
          "model_name": "LayoutModel",
          "state": {
            "_view_name": "LayoutView",
            "grid_template_rows": null,
            "right": null,
            "justify_content": null,
            "_view_module": "@jupyter-widgets/base",
            "overflow": null,
            "_model_module_version": "1.2.0",
            "_view_count": null,
            "flex_flow": null,
            "width": null,
            "min_width": null,
            "border": null,
            "align_items": null,
            "bottom": null,
            "_model_module": "@jupyter-widgets/base",
            "top": null,
            "grid_column": null,
            "overflow_y": null,
            "overflow_x": null,
            "grid_auto_flow": null,
            "grid_area": null,
            "grid_template_columns": null,
            "flex": null,
            "_model_name": "LayoutModel",
            "justify_items": null,
            "grid_row": null,
            "max_height": null,
            "align_content": null,
            "visibility": null,
            "align_self": null,
            "height": null,
            "min_height": null,
            "padding": null,
            "grid_auto_rows": null,
            "grid_gap": null,
            "max_width": null,
            "order": null,
            "_view_module_version": "1.2.0",
            "grid_template_areas": null,
            "object_position": null,
            "object_fit": null,
            "grid_auto_columns": null,
            "margin": null,
            "display": null,
            "left": null
          }
        },
        "2f35dd01631f46afb5273a51eeec2b9b": {
          "model_module": "@jupyter-widgets/controls",
          "model_name": "DescriptionStyleModel",
          "state": {
            "_view_name": "StyleView",
            "_model_name": "DescriptionStyleModel",
            "description_width": "",
            "_view_module": "@jupyter-widgets/base",
            "_model_module_version": "1.5.0",
            "_view_count": null,
            "_view_module_version": "1.2.0",
            "_model_module": "@jupyter-widgets/controls"
          }
        },
        "90d7c9a4bf5e48efb2c8019cded120cd": {
          "model_module": "@jupyter-widgets/base",
          "model_name": "LayoutModel",
          "state": {
            "_view_name": "LayoutView",
            "grid_template_rows": null,
            "right": null,
            "justify_content": null,
            "_view_module": "@jupyter-widgets/base",
            "overflow": null,
            "_model_module_version": "1.2.0",
            "_view_count": null,
            "flex_flow": null,
            "width": null,
            "min_width": null,
            "border": null,
            "align_items": null,
            "bottom": null,
            "_model_module": "@jupyter-widgets/base",
            "top": null,
            "grid_column": null,
            "overflow_y": null,
            "overflow_x": null,
            "grid_auto_flow": null,
            "grid_area": null,
            "grid_template_columns": null,
            "flex": null,
            "_model_name": "LayoutModel",
            "justify_items": null,
            "grid_row": null,
            "max_height": null,
            "align_content": null,
            "visibility": null,
            "align_self": null,
            "height": null,
            "min_height": null,
            "padding": null,
            "grid_auto_rows": null,
            "grid_gap": null,
            "max_width": null,
            "order": null,
            "_view_module_version": "1.2.0",
            "grid_template_areas": null,
            "object_position": null,
            "object_fit": null,
            "grid_auto_columns": null,
            "margin": null,
            "display": null,
            "left": null
          }
        },
        "a065674f143b4d198c84b565794f0b13": {
          "model_module": "@jupyter-widgets/controls",
          "model_name": "HBoxModel",
          "state": {
            "_view_name": "HBoxView",
            "_dom_classes": [],
            "_model_name": "HBoxModel",
            "_view_module": "@jupyter-widgets/controls",
            "_model_module_version": "1.5.0",
            "_view_count": null,
            "_view_module_version": "1.5.0",
            "box_style": "",
            "layout": "IPY_MODEL_2d8e86892d024ceea4751412d96cf828",
            "_model_module": "@jupyter-widgets/controls",
            "children": [
              "IPY_MODEL_defdb915d9544d32af23e055fe38ea09",
              "IPY_MODEL_c81236c945d64ccf9e2384fe35544872"
            ]
          }
        },
        "2d8e86892d024ceea4751412d96cf828": {
          "model_module": "@jupyter-widgets/base",
          "model_name": "LayoutModel",
          "state": {
            "_view_name": "LayoutView",
            "grid_template_rows": null,
            "right": null,
            "justify_content": null,
            "_view_module": "@jupyter-widgets/base",
            "overflow": null,
            "_model_module_version": "1.2.0",
            "_view_count": null,
            "flex_flow": null,
            "width": null,
            "min_width": null,
            "border": null,
            "align_items": null,
            "bottom": null,
            "_model_module": "@jupyter-widgets/base",
            "top": null,
            "grid_column": null,
            "overflow_y": null,
            "overflow_x": null,
            "grid_auto_flow": null,
            "grid_area": null,
            "grid_template_columns": null,
            "flex": null,
            "_model_name": "LayoutModel",
            "justify_items": null,
            "grid_row": null,
            "max_height": null,
            "align_content": null,
            "visibility": null,
            "align_self": null,
            "height": null,
            "min_height": null,
            "padding": null,
            "grid_auto_rows": null,
            "grid_gap": null,
            "max_width": null,
            "order": null,
            "_view_module_version": "1.2.0",
            "grid_template_areas": null,
            "object_position": null,
            "object_fit": null,
            "grid_auto_columns": null,
            "margin": null,
            "display": null,
            "left": null
          }
        },
        "defdb915d9544d32af23e055fe38ea09": {
          "model_module": "@jupyter-widgets/controls",
          "model_name": "FloatProgressModel",
          "state": {
            "_view_name": "ProgressView",
            "style": "IPY_MODEL_3a676fd6000e47218490c962acc66e93",
            "_dom_classes": [],
            "description": "",
            "_model_name": "FloatProgressModel",
            "bar_style": "info",
            "max": 1,
            "_view_module": "@jupyter-widgets/controls",
            "_model_module_version": "1.5.0",
            "value": 1,
            "_view_count": null,
            "_view_module_version": "1.5.0",
            "orientation": "horizontal",
            "min": 0,
            "description_tooltip": null,
            "_model_module": "@jupyter-widgets/controls",
            "layout": "IPY_MODEL_96a78fa609e446078336c84a8377e4e4"
          }
        },
        "c81236c945d64ccf9e2384fe35544872": {
          "model_module": "@jupyter-widgets/controls",
          "model_name": "HTMLModel",
          "state": {
            "_view_name": "HTMLView",
            "style": "IPY_MODEL_871cc8b149e140aeb09427d6c47e3260",
            "_dom_classes": [],
            "description": "",
            "_model_name": "HTMLModel",
            "placeholder": "​",
            "_view_module": "@jupyter-widgets/controls",
            "_model_module_version": "1.5.0",
            "value": " 4423680/? [00:19&lt;00:00, 3392145.77it/s]",
            "_view_count": null,
            "_view_module_version": "1.5.0",
            "description_tooltip": null,
            "_model_module": "@jupyter-widgets/controls",
            "layout": "IPY_MODEL_9dd002c251574b83a6826f3513bf4b47"
          }
        },
        "3a676fd6000e47218490c962acc66e93": {
          "model_module": "@jupyter-widgets/controls",
          "model_name": "ProgressStyleModel",
          "state": {
            "_view_name": "StyleView",
            "_model_name": "ProgressStyleModel",
            "description_width": "initial",
            "_view_module": "@jupyter-widgets/base",
            "_model_module_version": "1.5.0",
            "_view_count": null,
            "_view_module_version": "1.2.0",
            "bar_color": null,
            "_model_module": "@jupyter-widgets/controls"
          }
        },
        "96a78fa609e446078336c84a8377e4e4": {
          "model_module": "@jupyter-widgets/base",
          "model_name": "LayoutModel",
          "state": {
            "_view_name": "LayoutView",
            "grid_template_rows": null,
            "right": null,
            "justify_content": null,
            "_view_module": "@jupyter-widgets/base",
            "overflow": null,
            "_model_module_version": "1.2.0",
            "_view_count": null,
            "flex_flow": null,
            "width": null,
            "min_width": null,
            "border": null,
            "align_items": null,
            "bottom": null,
            "_model_module": "@jupyter-widgets/base",
            "top": null,
            "grid_column": null,
            "overflow_y": null,
            "overflow_x": null,
            "grid_auto_flow": null,
            "grid_area": null,
            "grid_template_columns": null,
            "flex": null,
            "_model_name": "LayoutModel",
            "justify_items": null,
            "grid_row": null,
            "max_height": null,
            "align_content": null,
            "visibility": null,
            "align_self": null,
            "height": null,
            "min_height": null,
            "padding": null,
            "grid_auto_rows": null,
            "grid_gap": null,
            "max_width": null,
            "order": null,
            "_view_module_version": "1.2.0",
            "grid_template_areas": null,
            "object_position": null,
            "object_fit": null,
            "grid_auto_columns": null,
            "margin": null,
            "display": null,
            "left": null
          }
        },
        "871cc8b149e140aeb09427d6c47e3260": {
          "model_module": "@jupyter-widgets/controls",
          "model_name": "DescriptionStyleModel",
          "state": {
            "_view_name": "StyleView",
            "_model_name": "DescriptionStyleModel",
            "description_width": "",
            "_view_module": "@jupyter-widgets/base",
            "_model_module_version": "1.5.0",
            "_view_count": null,
            "_view_module_version": "1.2.0",
            "_model_module": "@jupyter-widgets/controls"
          }
        },
        "9dd002c251574b83a6826f3513bf4b47": {
          "model_module": "@jupyter-widgets/base",
          "model_name": "LayoutModel",
          "state": {
            "_view_name": "LayoutView",
            "grid_template_rows": null,
            "right": null,
            "justify_content": null,
            "_view_module": "@jupyter-widgets/base",
            "overflow": null,
            "_model_module_version": "1.2.0",
            "_view_count": null,
            "flex_flow": null,
            "width": null,
            "min_width": null,
            "border": null,
            "align_items": null,
            "bottom": null,
            "_model_module": "@jupyter-widgets/base",
            "top": null,
            "grid_column": null,
            "overflow_y": null,
            "overflow_x": null,
            "grid_auto_flow": null,
            "grid_area": null,
            "grid_template_columns": null,
            "flex": null,
            "_model_name": "LayoutModel",
            "justify_items": null,
            "grid_row": null,
            "max_height": null,
            "align_content": null,
            "visibility": null,
            "align_self": null,
            "height": null,
            "min_height": null,
            "padding": null,
            "grid_auto_rows": null,
            "grid_gap": null,
            "max_width": null,
            "order": null,
            "_view_module_version": "1.2.0",
            "grid_template_areas": null,
            "object_position": null,
            "object_fit": null,
            "grid_auto_columns": null,
            "margin": null,
            "display": null,
            "left": null
          }
        },
        "3eba7da515cf4cc2839412d2ab42c2a8": {
          "model_module": "@jupyter-widgets/controls",
          "model_name": "HBoxModel",
          "state": {
            "_view_name": "HBoxView",
            "_dom_classes": [],
            "_model_name": "HBoxModel",
            "_view_module": "@jupyter-widgets/controls",
            "_model_module_version": "1.5.0",
            "_view_count": null,
            "_view_module_version": "1.5.0",
            "box_style": "",
            "layout": "IPY_MODEL_909563dbc68d48e6b06013009b3c146f",
            "_model_module": "@jupyter-widgets/controls",
            "children": [
              "IPY_MODEL_849e79efeff44088b25304b6ed920f60",
              "IPY_MODEL_73f3310dbcd943ae9082363556d1417b"
            ]
          }
        },
        "909563dbc68d48e6b06013009b3c146f": {
          "model_module": "@jupyter-widgets/base",
          "model_name": "LayoutModel",
          "state": {
            "_view_name": "LayoutView",
            "grid_template_rows": null,
            "right": null,
            "justify_content": null,
            "_view_module": "@jupyter-widgets/base",
            "overflow": null,
            "_model_module_version": "1.2.0",
            "_view_count": null,
            "flex_flow": null,
            "width": null,
            "min_width": null,
            "border": null,
            "align_items": null,
            "bottom": null,
            "_model_module": "@jupyter-widgets/base",
            "top": null,
            "grid_column": null,
            "overflow_y": null,
            "overflow_x": null,
            "grid_auto_flow": null,
            "grid_area": null,
            "grid_template_columns": null,
            "flex": null,
            "_model_name": "LayoutModel",
            "justify_items": null,
            "grid_row": null,
            "max_height": null,
            "align_content": null,
            "visibility": null,
            "align_self": null,
            "height": null,
            "min_height": null,
            "padding": null,
            "grid_auto_rows": null,
            "grid_gap": null,
            "max_width": null,
            "order": null,
            "_view_module_version": "1.2.0",
            "grid_template_areas": null,
            "object_position": null,
            "object_fit": null,
            "grid_auto_columns": null,
            "margin": null,
            "display": null,
            "left": null
          }
        },
        "849e79efeff44088b25304b6ed920f60": {
          "model_module": "@jupyter-widgets/controls",
          "model_name": "FloatProgressModel",
          "state": {
            "_view_name": "ProgressView",
            "style": "IPY_MODEL_638feb62fb3c472b863803f3a27807da",
            "_dom_classes": [],
            "description": "",
            "_model_name": "FloatProgressModel",
            "bar_style": "info",
            "max": 1,
            "_view_module": "@jupyter-widgets/controls",
            "_model_module_version": "1.5.0",
            "value": 0,
            "_view_count": null,
            "_view_module_version": "1.5.0",
            "orientation": "horizontal",
            "min": 0,
            "description_tooltip": null,
            "_model_module": "@jupyter-widgets/controls",
            "layout": "IPY_MODEL_bb3d027b80924429bdb27fb5d956cdf2"
          }
        },
        "73f3310dbcd943ae9082363556d1417b": {
          "model_module": "@jupyter-widgets/controls",
          "model_name": "HTMLModel",
          "state": {
            "_view_name": "HTMLView",
            "style": "IPY_MODEL_1dae56faa8b34b23a76dcc7dbeeeb087",
            "_dom_classes": [],
            "description": "",
            "_model_name": "HTMLModel",
            "placeholder": "​",
            "_view_module": "@jupyter-widgets/controls",
            "_model_module_version": "1.5.0",
            "value": " 0/? [00:00&lt;?, ?it/s]",
            "_view_count": null,
            "_view_module_version": "1.5.0",
            "description_tooltip": null,
            "_model_module": "@jupyter-widgets/controls",
            "layout": "IPY_MODEL_411455a2fbcf4dbeb8385b49fac241cd"
          }
        },
        "638feb62fb3c472b863803f3a27807da": {
          "model_module": "@jupyter-widgets/controls",
          "model_name": "ProgressStyleModel",
          "state": {
            "_view_name": "StyleView",
            "_model_name": "ProgressStyleModel",
            "description_width": "initial",
            "_view_module": "@jupyter-widgets/base",
            "_model_module_version": "1.5.0",
            "_view_count": null,
            "_view_module_version": "1.2.0",
            "bar_color": null,
            "_model_module": "@jupyter-widgets/controls"
          }
        },
        "bb3d027b80924429bdb27fb5d956cdf2": {
          "model_module": "@jupyter-widgets/base",
          "model_name": "LayoutModel",
          "state": {
            "_view_name": "LayoutView",
            "grid_template_rows": null,
            "right": null,
            "justify_content": null,
            "_view_module": "@jupyter-widgets/base",
            "overflow": null,
            "_model_module_version": "1.2.0",
            "_view_count": null,
            "flex_flow": null,
            "width": null,
            "min_width": null,
            "border": null,
            "align_items": null,
            "bottom": null,
            "_model_module": "@jupyter-widgets/base",
            "top": null,
            "grid_column": null,
            "overflow_y": null,
            "overflow_x": null,
            "grid_auto_flow": null,
            "grid_area": null,
            "grid_template_columns": null,
            "flex": null,
            "_model_name": "LayoutModel",
            "justify_items": null,
            "grid_row": null,
            "max_height": null,
            "align_content": null,
            "visibility": null,
            "align_self": null,
            "height": null,
            "min_height": null,
            "padding": null,
            "grid_auto_rows": null,
            "grid_gap": null,
            "max_width": null,
            "order": null,
            "_view_module_version": "1.2.0",
            "grid_template_areas": null,
            "object_position": null,
            "object_fit": null,
            "grid_auto_columns": null,
            "margin": null,
            "display": null,
            "left": null
          }
        },
        "1dae56faa8b34b23a76dcc7dbeeeb087": {
          "model_module": "@jupyter-widgets/controls",
          "model_name": "DescriptionStyleModel",
          "state": {
            "_view_name": "StyleView",
            "_model_name": "DescriptionStyleModel",
            "description_width": "",
            "_view_module": "@jupyter-widgets/base",
            "_model_module_version": "1.5.0",
            "_view_count": null,
            "_view_module_version": "1.2.0",
            "_model_module": "@jupyter-widgets/controls"
          }
        },
        "411455a2fbcf4dbeb8385b49fac241cd": {
          "model_module": "@jupyter-widgets/base",
          "model_name": "LayoutModel",
          "state": {
            "_view_name": "LayoutView",
            "grid_template_rows": null,
            "right": null,
            "justify_content": null,
            "_view_module": "@jupyter-widgets/base",
            "overflow": null,
            "_model_module_version": "1.2.0",
            "_view_count": null,
            "flex_flow": null,
            "width": null,
            "min_width": null,
            "border": null,
            "align_items": null,
            "bottom": null,
            "_model_module": "@jupyter-widgets/base",
            "top": null,
            "grid_column": null,
            "overflow_y": null,
            "overflow_x": null,
            "grid_auto_flow": null,
            "grid_area": null,
            "grid_template_columns": null,
            "flex": null,
            "_model_name": "LayoutModel",
            "justify_items": null,
            "grid_row": null,
            "max_height": null,
            "align_content": null,
            "visibility": null,
            "align_self": null,
            "height": null,
            "min_height": null,
            "padding": null,
            "grid_auto_rows": null,
            "grid_gap": null,
            "max_width": null,
            "order": null,
            "_view_module_version": "1.2.0",
            "grid_template_areas": null,
            "object_position": null,
            "object_fit": null,
            "grid_auto_columns": null,
            "margin": null,
            "display": null,
            "left": null
          }
        },
        "63de2c474386429fa42b968b02312035": {
          "model_module": "@jupyter-widgets/controls",
          "model_name": "HBoxModel",
          "state": {
            "_view_name": "HBoxView",
            "_dom_classes": [],
            "_model_name": "HBoxModel",
            "_view_module": "@jupyter-widgets/controls",
            "_model_module_version": "1.5.0",
            "_view_count": null,
            "_view_module_version": "1.5.0",
            "box_style": "",
            "layout": "IPY_MODEL_e2b6d1ab8cbf4f8d98670fa66e939ddc",
            "_model_module": "@jupyter-widgets/controls",
            "children": [
              "IPY_MODEL_3ccc728b53a34886a5a9f22477cce414",
              "IPY_MODEL_fd3905356b7149daa3962e8d348724be"
            ]
          }
        },
        "e2b6d1ab8cbf4f8d98670fa66e939ddc": {
          "model_module": "@jupyter-widgets/base",
          "model_name": "LayoutModel",
          "state": {
            "_view_name": "LayoutView",
            "grid_template_rows": null,
            "right": null,
            "justify_content": null,
            "_view_module": "@jupyter-widgets/base",
            "overflow": null,
            "_model_module_version": "1.2.0",
            "_view_count": null,
            "flex_flow": null,
            "width": null,
            "min_width": null,
            "border": null,
            "align_items": null,
            "bottom": null,
            "_model_module": "@jupyter-widgets/base",
            "top": null,
            "grid_column": null,
            "overflow_y": null,
            "overflow_x": null,
            "grid_auto_flow": null,
            "grid_area": null,
            "grid_template_columns": null,
            "flex": null,
            "_model_name": "LayoutModel",
            "justify_items": null,
            "grid_row": null,
            "max_height": null,
            "align_content": null,
            "visibility": null,
            "align_self": null,
            "height": null,
            "min_height": null,
            "padding": null,
            "grid_auto_rows": null,
            "grid_gap": null,
            "max_width": null,
            "order": null,
            "_view_module_version": "1.2.0",
            "grid_template_areas": null,
            "object_position": null,
            "object_fit": null,
            "grid_auto_columns": null,
            "margin": null,
            "display": null,
            "left": null
          }
        },
        "3ccc728b53a34886a5a9f22477cce414": {
          "model_module": "@jupyter-widgets/controls",
          "model_name": "FloatProgressModel",
          "state": {
            "_view_name": "ProgressView",
            "style": "IPY_MODEL_60859badf2e54fe3a0627a6fec0d5428",
            "_dom_classes": [],
            "description": "100%",
            "_model_name": "FloatProgressModel",
            "bar_style": "success",
            "max": 102502400,
            "_view_module": "@jupyter-widgets/controls",
            "_model_module_version": "1.5.0",
            "value": 102502400,
            "_view_count": null,
            "_view_module_version": "1.5.0",
            "orientation": "horizontal",
            "min": 0,
            "description_tooltip": null,
            "_model_module": "@jupyter-widgets/controls",
            "layout": "IPY_MODEL_118905e1f23243a3a70c22b8ee9cf59a"
          }
        },
        "fd3905356b7149daa3962e8d348724be": {
          "model_module": "@jupyter-widgets/controls",
          "model_name": "HTMLModel",
          "state": {
            "_view_name": "HTMLView",
            "style": "IPY_MODEL_2367ea7b736e4d2db5c755df7ab9106f",
            "_dom_classes": [],
            "description": "",
            "_model_name": "HTMLModel",
            "placeholder": "​",
            "_view_module": "@jupyter-widgets/controls",
            "_model_module_version": "1.5.0",
            "value": " 97.8M/97.8M [00:01&lt;00:00, 95.3MB/s]",
            "_view_count": null,
            "_view_module_version": "1.5.0",
            "description_tooltip": null,
            "_model_module": "@jupyter-widgets/controls",
            "layout": "IPY_MODEL_169bc9d8d5f54638a9c6d043abcb674e"
          }
        },
        "60859badf2e54fe3a0627a6fec0d5428": {
          "model_module": "@jupyter-widgets/controls",
          "model_name": "ProgressStyleModel",
          "state": {
            "_view_name": "StyleView",
            "_model_name": "ProgressStyleModel",
            "description_width": "initial",
            "_view_module": "@jupyter-widgets/base",
            "_model_module_version": "1.5.0",
            "_view_count": null,
            "_view_module_version": "1.2.0",
            "bar_color": null,
            "_model_module": "@jupyter-widgets/controls"
          }
        },
        "118905e1f23243a3a70c22b8ee9cf59a": {
          "model_module": "@jupyter-widgets/base",
          "model_name": "LayoutModel",
          "state": {
            "_view_name": "LayoutView",
            "grid_template_rows": null,
            "right": null,
            "justify_content": null,
            "_view_module": "@jupyter-widgets/base",
            "overflow": null,
            "_model_module_version": "1.2.0",
            "_view_count": null,
            "flex_flow": null,
            "width": null,
            "min_width": null,
            "border": null,
            "align_items": null,
            "bottom": null,
            "_model_module": "@jupyter-widgets/base",
            "top": null,
            "grid_column": null,
            "overflow_y": null,
            "overflow_x": null,
            "grid_auto_flow": null,
            "grid_area": null,
            "grid_template_columns": null,
            "flex": null,
            "_model_name": "LayoutModel",
            "justify_items": null,
            "grid_row": null,
            "max_height": null,
            "align_content": null,
            "visibility": null,
            "align_self": null,
            "height": null,
            "min_height": null,
            "padding": null,
            "grid_auto_rows": null,
            "grid_gap": null,
            "max_width": null,
            "order": null,
            "_view_module_version": "1.2.0",
            "grid_template_areas": null,
            "object_position": null,
            "object_fit": null,
            "grid_auto_columns": null,
            "margin": null,
            "display": null,
            "left": null
          }
        },
        "2367ea7b736e4d2db5c755df7ab9106f": {
          "model_module": "@jupyter-widgets/controls",
          "model_name": "DescriptionStyleModel",
          "state": {
            "_view_name": "StyleView",
            "_model_name": "DescriptionStyleModel",
            "description_width": "",
            "_view_module": "@jupyter-widgets/base",
            "_model_module_version": "1.5.0",
            "_view_count": null,
            "_view_module_version": "1.2.0",
            "_model_module": "@jupyter-widgets/controls"
          }
        },
        "169bc9d8d5f54638a9c6d043abcb674e": {
          "model_module": "@jupyter-widgets/base",
          "model_name": "LayoutModel",
          "state": {
            "_view_name": "LayoutView",
            "grid_template_rows": null,
            "right": null,
            "justify_content": null,
            "_view_module": "@jupyter-widgets/base",
            "overflow": null,
            "_model_module_version": "1.2.0",
            "_view_count": null,
            "flex_flow": null,
            "width": null,
            "min_width": null,
            "border": null,
            "align_items": null,
            "bottom": null,
            "_model_module": "@jupyter-widgets/base",
            "top": null,
            "grid_column": null,
            "overflow_y": null,
            "overflow_x": null,
            "grid_auto_flow": null,
            "grid_area": null,
            "grid_template_columns": null,
            "flex": null,
            "_model_name": "LayoutModel",
            "justify_items": null,
            "grid_row": null,
            "max_height": null,
            "align_content": null,
            "visibility": null,
            "align_self": null,
            "height": null,
            "min_height": null,
            "padding": null,
            "grid_auto_rows": null,
            "grid_gap": null,
            "max_width": null,
            "order": null,
            "_view_module_version": "1.2.0",
            "grid_template_areas": null,
            "object_position": null,
            "object_fit": null,
            "grid_auto_columns": null,
            "margin": null,
            "display": null,
            "left": null
          }
        }
      }
    }
  },
  "cells": [
    {
      "cell_type": "markdown",
      "metadata": {
        "id": "view-in-github",
        "colab_type": "text"
      },
      "source": [
        "<a href=\"https://colab.research.google.com/github/luffysg/Deep-Learning-Study/blob/master/Deep_Learning_with_Pytorch_deeplizard_2_ipynb.ipynb\" target=\"_parent\"><img src=\"https://colab.research.google.com/assets/colab-badge.svg\" alt=\"Open In Colab\"/></a>"
      ]
    },
    {
      "cell_type": "markdown",
      "metadata": {
        "id": "cTABtGuUy2m9",
        "colab_type": "text"
      },
      "source": [
        "CNN image preparation code project - learn to extract, transform and load"
      ]
    },
    {
      "cell_type": "code",
      "metadata": {
        "id": "tlkA4Mvcy_lw",
        "colab_type": "code",
        "colab": {}
      },
      "source": [
        "import torch\n",
        "import torchvision\n",
        "import torchvision.transforms as transforms\n",
        "import pandas as pd"
      ],
      "execution_count": 0,
      "outputs": []
    },
    {
      "cell_type": "code",
      "metadata": {
        "id": "9evmzNLoB8Ex",
        "colab_type": "code",
        "outputId": "ffee19ef-91b2-4a8e-9fb0-71c6fe9d3b3e",
        "colab": {
          "base_uri": "https://localhost:8080/",
          "height": 369,
          "referenced_widgets": [
            "02b23b31b6c541528934239ac5e3d978",
            "0a7d59bfb11c4534b3e42c43e9e3a931",
            "b2a8e3c456014a8997dc97f5f0de9a67",
            "76e4355650fb4fbe8db2531e295cf454",
            "c255ba3bd5f5499eb6a5238042a36c5c",
            "809969308b534b4f8a46cb0965a811fa",
            "e3fe0a34aaa74489bec539c20a11abfe",
            "9b7274916913405cb9e02e84e26a3d31",
            "312a39a4f7a545779e0ea19010a5404a",
            "4d122680c4ee4202811838baa085bc1f",
            "21ce2b3d008741b4bc39455a33a3da8a",
            "371708ec65c14c8e9849507330728344",
            "d036256a14154adfb0f1c91a2b436d7f",
            "6533ce3aa45e4f8ab2b46471edb26071",
            "2f35dd01631f46afb5273a51eeec2b9b",
            "90d7c9a4bf5e48efb2c8019cded120cd",
            "a065674f143b4d198c84b565794f0b13",
            "2d8e86892d024ceea4751412d96cf828",
            "defdb915d9544d32af23e055fe38ea09",
            "c81236c945d64ccf9e2384fe35544872",
            "3a676fd6000e47218490c962acc66e93",
            "96a78fa609e446078336c84a8377e4e4",
            "871cc8b149e140aeb09427d6c47e3260",
            "9dd002c251574b83a6826f3513bf4b47",
            "3eba7da515cf4cc2839412d2ab42c2a8",
            "909563dbc68d48e6b06013009b3c146f",
            "849e79efeff44088b25304b6ed920f60",
            "73f3310dbcd943ae9082363556d1417b",
            "638feb62fb3c472b863803f3a27807da",
            "bb3d027b80924429bdb27fb5d956cdf2",
            "1dae56faa8b34b23a76dcc7dbeeeb087",
            "411455a2fbcf4dbeb8385b49fac241cd"
          ]
        }
      },
      "source": [
        "train_set = torchvision.datasets.FashionMNIST(\n",
        "    root = './data/FashionMNIST', #location on disk where data is located\n",
        "    train = True, #creats dataset from 'training.pt', otherwise from 'test.pt'， 60000 images in training data, 10000 images in testing data\n",
        "    download = True,\n",
        "    transform = transforms.Compose([\n",
        "                                    transforms.ToTensor()\n",
        "    ])\n",
        "\n",
        ")"
      ],
      "execution_count": 2,
      "outputs": [
        {
          "output_type": "stream",
          "text": [
            "Downloading http://fashion-mnist.s3-website.eu-central-1.amazonaws.com/train-images-idx3-ubyte.gz to ./data/FashionMNIST/FashionMNIST/raw/train-images-idx3-ubyte.gz\n"
          ],
          "name": "stdout"
        },
        {
          "output_type": "display_data",
          "data": {
            "application/vnd.jupyter.widget-view+json": {
              "model_id": "02b23b31b6c541528934239ac5e3d978",
              "version_minor": 0,
              "version_major": 2
            },
            "text/plain": [
              "HBox(children=(FloatProgress(value=1.0, bar_style='info', max=1.0), HTML(value='')))"
            ]
          },
          "metadata": {
            "tags": []
          }
        },
        {
          "output_type": "stream",
          "text": [
            "Extracting ./data/FashionMNIST/FashionMNIST/raw/train-images-idx3-ubyte.gz to ./data/FashionMNIST/FashionMNIST/raw\n",
            "Downloading http://fashion-mnist.s3-website.eu-central-1.amazonaws.com/train-labels-idx1-ubyte.gz to ./data/FashionMNIST/FashionMNIST/raw/train-labels-idx1-ubyte.gz\n"
          ],
          "name": "stdout"
        },
        {
          "output_type": "display_data",
          "data": {
            "application/vnd.jupyter.widget-view+json": {
              "model_id": "312a39a4f7a545779e0ea19010a5404a",
              "version_minor": 0,
              "version_major": 2
            },
            "text/plain": [
              "HBox(children=(FloatProgress(value=1.0, bar_style='info', max=1.0), HTML(value='')))"
            ]
          },
          "metadata": {
            "tags": []
          }
        },
        {
          "output_type": "stream",
          "text": [
            "Extracting ./data/FashionMNIST/FashionMNIST/raw/train-labels-idx1-ubyte.gz to ./data/FashionMNIST/FashionMNIST/raw\n",
            "Downloading http://fashion-mnist.s3-website.eu-central-1.amazonaws.com/t10k-images-idx3-ubyte.gz to ./data/FashionMNIST/FashionMNIST/raw/t10k-images-idx3-ubyte.gz\n",
            "\n"
          ],
          "name": "stdout"
        },
        {
          "output_type": "display_data",
          "data": {
            "application/vnd.jupyter.widget-view+json": {
              "model_id": "a065674f143b4d198c84b565794f0b13",
              "version_minor": 0,
              "version_major": 2
            },
            "text/plain": [
              "HBox(children=(FloatProgress(value=1.0, bar_style='info', max=1.0), HTML(value='')))"
            ]
          },
          "metadata": {
            "tags": []
          }
        },
        {
          "output_type": "stream",
          "text": [
            "Extracting ./data/FashionMNIST/FashionMNIST/raw/t10k-images-idx3-ubyte.gz to ./data/FashionMNIST/FashionMNIST/raw\n",
            "Downloading http://fashion-mnist.s3-website.eu-central-1.amazonaws.com/t10k-labels-idx1-ubyte.gz to ./data/FashionMNIST/FashionMNIST/raw/t10k-labels-idx1-ubyte.gz\n"
          ],
          "name": "stdout"
        },
        {
          "output_type": "display_data",
          "data": {
            "application/vnd.jupyter.widget-view+json": {
              "model_id": "3eba7da515cf4cc2839412d2ab42c2a8",
              "version_minor": 0,
              "version_major": 2
            },
            "text/plain": [
              "HBox(children=(FloatProgress(value=1.0, bar_style='info', max=1.0), HTML(value='')))"
            ]
          },
          "metadata": {
            "tags": []
          }
        },
        {
          "output_type": "stream",
          "text": [
            "Extracting ./data/FashionMNIST/FashionMNIST/raw/t10k-labels-idx1-ubyte.gz to ./data/FashionMNIST/FashionMNIST/raw\n",
            "Processing...\n",
            "Done!\n"
          ],
          "name": "stdout"
        },
        {
          "output_type": "stream",
          "text": [
            "/pytorch/torch/csrc/utils/tensor_numpy.cpp:141: UserWarning: The given NumPy array is not writeable, and PyTorch does not support non-writeable tensors. This means you can write to the underlying (supposedly non-writeable) NumPy array using the tensor. You may want to copy the array to protect its data or make it writeable before converting it to a tensor. This type of warning will be suppressed for the rest of this program.\n"
          ],
          "name": "stderr"
        }
      ]
    },
    {
      "cell_type": "code",
      "metadata": {
        "id": "oHxuqOY_D3Q8",
        "colab_type": "code",
        "colab": {}
      },
      "source": [
        "#data loader, wraps up the data set in the loader\n",
        "#use data loader to carry out tasks such as: batch size, thread management and shuffle capabilities\n",
        "#Extract: raw data was extracted from the web using URLs\n",
        "#Transform:  the raw data was transformed into a tensor using the ToTensor() transformation object\n",
        "#Load: the training set was wrapped or loaded into the data loader giving us the access to the undrlying data in our desired format; data loader gives\n",
        "#   access to the data and query capabilities so we can shuffle and have a batch size that will give us the different types of querying capabilities\n",
        "train_loader = torch.utils.data.DataLoader(train_set, batch_size = 10)"
      ],
      "execution_count": 0,
      "outputs": []
    },
    {
      "cell_type": "code",
      "metadata": {
        "id": "voNmq_7WE5TB",
        "colab_type": "code",
        "colab": {}
      },
      "source": [
        "import numpy as np\n",
        "import matplotlib.pyplot as plt\n",
        "\n",
        "torch.set_printoptions(linewidth=120)"
      ],
      "execution_count": 0,
      "outputs": []
    },
    {
      "cell_type": "code",
      "metadata": {
        "id": "QkQlnG4_FVjS",
        "colab_type": "code",
        "outputId": "4efe42e6-3782-4608-cb02-71aeb0dda003",
        "colab": {
          "base_uri": "https://localhost:8080/",
          "height": 34
        }
      },
      "source": [
        "len(train_set)"
      ],
      "execution_count": 0,
      "outputs": [
        {
          "output_type": "execute_result",
          "data": {
            "text/plain": [
              "60000"
            ]
          },
          "metadata": {
            "tags": []
          },
          "execution_count": 5
        }
      ]
    },
    {
      "cell_type": "code",
      "metadata": {
        "id": "MqCmmmu7FVux",
        "colab_type": "code",
        "outputId": "270103b5-01a6-4332-de82-937afdd49671",
        "colab": {
          "base_uri": "https://localhost:8080/",
          "height": 68
        }
      },
      "source": [
        "train_set.train_labels"
      ],
      "execution_count": 0,
      "outputs": [
        {
          "output_type": "stream",
          "text": [
            "/usr/local/lib/python3.6/dist-packages/torchvision/datasets/mnist.py:43: UserWarning: train_labels has been renamed targets\n",
            "  warnings.warn(\"train_labels has been renamed targets\")\n"
          ],
          "name": "stderr"
        },
        {
          "output_type": "execute_result",
          "data": {
            "text/plain": [
              "tensor([9, 0, 0,  ..., 3, 0, 5])"
            ]
          },
          "metadata": {
            "tags": []
          },
          "execution_count": 6
        }
      ]
    },
    {
      "cell_type": "code",
      "metadata": {
        "id": "drN6to9TFVyy",
        "colab_type": "code",
        "outputId": "df870630-8ae1-4b72-bd6b-1fd8f21fe44c",
        "colab": {
          "base_uri": "https://localhost:8080/",
          "height": 34
        }
      },
      "source": [
        "train_set.targets.bincount() #fashion MNIST dataset is uniform for all categories\n",
        "\n",
        "# Recommended paper: a systematic study of the class imbalance problem in convolutional neural networks"
      ],
      "execution_count": 0,
      "outputs": [
        {
          "output_type": "execute_result",
          "data": {
            "text/plain": [
              "tensor([6000, 6000, 6000, 6000, 6000, 6000, 6000, 6000, 6000, 6000])"
            ]
          },
          "metadata": {
            "tags": []
          },
          "execution_count": 7
        }
      ]
    },
    {
      "cell_type": "code",
      "metadata": {
        "id": "KFOpXyXtGf8h",
        "colab_type": "code",
        "colab": {}
      },
      "source": [
        "# iter takes an iterable object and returns an iterator\n",
        "# each time we call next method on the iterator gives us the next element, if there are no more elements, it raises a StopIteration\n",
        "sample = next(iter(train_set))"
      ],
      "execution_count": 0,
      "outputs": []
    },
    {
      "cell_type": "code",
      "metadata": {
        "id": "MEWo2_QFGw9K",
        "colab_type": "code",
        "outputId": "1bbb19ae-84d4-444b-b3dc-e8cf26bc54f6",
        "colab": {
          "base_uri": "https://localhost:8080/",
          "height": 34
        }
      },
      "source": [
        "len(sample) #image, label pair"
      ],
      "execution_count": 0,
      "outputs": [
        {
          "output_type": "execute_result",
          "data": {
            "text/plain": [
              "2"
            ]
          },
          "metadata": {
            "tags": []
          },
          "execution_count": 9
        }
      ]
    },
    {
      "cell_type": "code",
      "metadata": {
        "id": "DGST5QKqGxI5",
        "colab_type": "code",
        "outputId": "028ebf0e-003c-4ca0-97a0-c139f8bff937",
        "colab": {
          "base_uri": "https://localhost:8080/",
          "height": 34
        }
      },
      "source": [
        "type(sample)"
      ],
      "execution_count": 0,
      "outputs": [
        {
          "output_type": "execute_result",
          "data": {
            "text/plain": [
              "tuple"
            ]
          },
          "metadata": {
            "tags": []
          },
          "execution_count": 10
        }
      ]
    },
    {
      "cell_type": "code",
      "metadata": {
        "id": "z-KsN0DjGgLK",
        "colab_type": "code",
        "colab": {}
      },
      "source": [
        "image, label = sample"
      ],
      "execution_count": 0,
      "outputs": []
    },
    {
      "cell_type": "code",
      "metadata": {
        "id": "0o4E8PA6vcLa",
        "colab_type": "code",
        "outputId": "20161f7e-c912-456d-cf27-e5ebd3dd80c7",
        "colab": {
          "base_uri": "https://localhost:8080/",
          "height": 34
        }
      },
      "source": [
        "image.squeeze().squeeze().shape"
      ],
      "execution_count": 0,
      "outputs": [
        {
          "output_type": "execute_result",
          "data": {
            "text/plain": [
              "torch.Size([28, 28])"
            ]
          },
          "metadata": {
            "tags": []
          },
          "execution_count": 12
        }
      ]
    },
    {
      "cell_type": "code",
      "metadata": {
        "id": "5EhWvqVPvcWO",
        "colab_type": "code",
        "outputId": "c220510d-19cc-4c5e-c2d2-01702623e83c",
        "colab": {
          "base_uri": "https://localhost:8080/",
          "height": 34
        }
      },
      "source": [
        "image.shape # the squeeze function eliminates any dim with size 1"
      ],
      "execution_count": 0,
      "outputs": [
        {
          "output_type": "execute_result",
          "data": {
            "text/plain": [
              "torch.Size([1, 28, 28])"
            ]
          },
          "metadata": {
            "tags": []
          },
          "execution_count": 13
        }
      ]
    },
    {
      "cell_type": "code",
      "metadata": {
        "id": "X-hdQF35yjgK",
        "colab_type": "code",
        "outputId": "1fa75c94-f002-44b5-b785-26de55482d04",
        "colab": {
          "base_uri": "https://localhost:8080/",
          "height": 282
        }
      },
      "source": [
        "plt.imshow(image.squeeze(), cmap = 'gray') # we squeeze off the color channel axis\n",
        "print('label', label)"
      ],
      "execution_count": 0,
      "outputs": [
        {
          "output_type": "stream",
          "text": [
            "label 9\n"
          ],
          "name": "stdout"
        },
        {
          "output_type": "display_data",
          "data": {
            "image/png": "[encoded data removed]",
            "text/plain": [
              "<Figure size 432x288 with 1 Axes>"
            ]
          },
          "metadata": {
            "tags": []
          }
        }
      ]
    },
    {
      "cell_type": "code",
      "metadata": {
        "id": "yDxlrmkY1KJb",
        "colab_type": "code",
        "outputId": "94f5509a-0895-42a2-efb7-dff36d020437",
        "colab": {
          "base_uri": "https://localhost:8080/",
          "height": 34
        }
      },
      "source": [
        "# looking at batches instead\n",
        "batch = next(iter(train_loader))\n",
        "len(batch)"
      ],
      "execution_count": 0,
      "outputs": [
        {
          "output_type": "execute_result",
          "data": {
            "text/plain": [
              "2"
            ]
          },
          "metadata": {
            "tags": []
          },
          "execution_count": 15
        }
      ]
    },
    {
      "cell_type": "code",
      "metadata": {
        "id": "kNT7PAbp1KWl",
        "colab_type": "code",
        "outputId": "9f197f09-1d09-4a45-99d5-e6e91a497be9",
        "colab": {
          "base_uri": "https://localhost:8080/",
          "height": 34
        }
      },
      "source": [
        "type(batch)"
      ],
      "execution_count": 0,
      "outputs": [
        {
          "output_type": "execute_result",
          "data": {
            "text/plain": [
              "list"
            ]
          },
          "metadata": {
            "tags": []
          },
          "execution_count": 16
        }
      ]
    },
    {
      "cell_type": "code",
      "metadata": {
        "id": "pqNG3AQf1Kh3",
        "colab_type": "code",
        "colab": {}
      },
      "source": [
        "images, labels = batch"
      ],
      "execution_count": 0,
      "outputs": []
    },
    {
      "cell_type": "code",
      "metadata": {
        "id": "A1WlamE21scg",
        "colab_type": "code",
        "outputId": "79ea0b61-609f-4cf1-8226-9382b5a71240",
        "colab": {
          "base_uri": "https://localhost:8080/",
          "height": 34
        }
      },
      "source": [
        "images.shape\n",
        "#rank 4 tensors, 10 images, 1 single color channel, height 28 and width 28"
      ],
      "execution_count": 0,
      "outputs": [
        {
          "output_type": "execute_result",
          "data": {
            "text/plain": [
              "torch.Size([10, 1, 28, 28])"
            ]
          },
          "metadata": {
            "tags": []
          },
          "execution_count": 18
        }
      ]
    },
    {
      "cell_type": "code",
      "metadata": {
        "id": "wp3r8glJ1smN",
        "colab_type": "code",
        "outputId": "33ca6397-011e-4618-a42e-389e9c5b9755",
        "colab": {
          "base_uri": "https://localhost:8080/",
          "height": 34
        }
      },
      "source": [
        "labels.shape\n",
        "# rank 1 tensor, single axis, length of 10"
      ],
      "execution_count": 0,
      "outputs": [
        {
          "output_type": "execute_result",
          "data": {
            "text/plain": [
              "torch.Size([10])"
            ]
          },
          "metadata": {
            "tags": []
          },
          "execution_count": 19
        }
      ]
    },
    {
      "cell_type": "code",
      "metadata": {
        "id": "aQueIecH198U",
        "colab_type": "code",
        "outputId": "595b98ca-7f39-41a1-9f50-c1eb88f5af83",
        "colab": {
          "base_uri": "https://localhost:8080/",
          "height": 156
        }
      },
      "source": [
        "#plot 10 images at once using make_grid\n",
        "#data loader output 4-dim tensor [B, C, H, W]\n",
        "# matplolib and other image processing lib often requires [heigh, width, channel]\n",
        "grid = torchvision.utils.make_grid(images, nrow=10) #nrow is the number of images displayed for each row\n",
        "# grid is a tensor with shape [3,32,302], 3 is size of color channel axis, 32 is height, 302 is width, 10x28 + 11x2(default paddling) \n",
        "\n",
        "plt.figure(figsize=(15,15))\n",
        "plt.imshow(np.transpose(grid,(1,2,0)), cmap = 'gray') # transpose [C, H, W] tensor to [H, W, C] for matplotlib to plot\n",
        "\n",
        "print('labels:', labels)"
      ],
      "execution_count": 0,
      "outputs": [
        {
          "output_type": "stream",
          "text": [
            "labels: tensor([9, 0, 0, 3, 0, 2, 7, 2, 5, 5])\n"
          ],
          "name": "stdout"
        },
        {
          "output_type": "display_data",
          "data": {
            "image/png": "[encoded data removed]",
            "text/plain": [
              "<Figure size 1080x1080 with 1 Axes>"
            ]
          },
          "metadata": {
            "tags": []
          }
        }
      ]
    },
    {
      "cell_type": "code",
      "metadata": {
        "id": "9y0FJpgM1-FP",
        "colab_type": "code",
        "outputId": "e90227d4-8e34-41b8-b7e5-3bbe86d59bba",
        "colab": {
          "base_uri": "https://localhost:8080/",
          "height": 34
        }
      },
      "source": [
        "grid.shape"
      ],
      "execution_count": 0,
      "outputs": [
        {
          "output_type": "execute_result",
          "data": {
            "text/plain": [
              "torch.Size([3, 32, 302])"
            ]
          },
          "metadata": {
            "tags": []
          },
          "execution_count": 21
        }
      ]
    },
    {
      "cell_type": "code",
      "metadata": {
        "id": "ceUePcfU1-Li",
        "colab_type": "code",
        "colab": {}
      },
      "source": [
        ""
      ],
      "execution_count": 0,
      "outputs": []
    },
    {
      "cell_type": "markdown",
      "metadata": {
        "id": "aP-KzyegD_NA",
        "colab_type": "text"
      },
      "source": [
        "#Build the model"
      ]
    },
    {
      "cell_type": "code",
      "metadata": {
        "id": "DikZi7BND_cU",
        "colab_type": "code",
        "colab": {}
      },
      "source": [
        "# OOP review\n",
        "# attribute and methods\n",
        "class Lizard:\n",
        "  def __init__(self,name):\n",
        "    self.name = name\n",
        "\n",
        "  def set_name(self,name):\n",
        "    self.name = name"
      ],
      "execution_count": 0,
      "outputs": []
    },
    {
      "cell_type": "code",
      "metadata": {
        "id": "ogOu27colLti",
        "colab_type": "code",
        "outputId": "429e7370-cb82-45d1-fba0-e6836db1f89d",
        "colab": {
          "base_uri": "https://localhost:8080/",
          "height": 34
        }
      },
      "source": [
        "lizard = Lizard('deep')\n",
        "print(lizard.name)"
      ],
      "execution_count": 0,
      "outputs": [
        {
          "output_type": "stream",
          "text": [
            "deep\n"
          ],
          "name": "stdout"
        }
      ]
    },
    {
      "cell_type": "code",
      "metadata": {
        "id": "JsngCTeZlx3U",
        "colab_type": "code",
        "outputId": "66980c08-4562-428b-90aa-20ae367fd54b",
        "colab": {
          "base_uri": "https://localhost:8080/",
          "height": 34
        }
      },
      "source": [
        "lizard.set_name('lizard')\n",
        "print(lizard.name)"
      ],
      "execution_count": 0,
      "outputs": [
        {
          "output_type": "stream",
          "text": [
            "lizard\n"
          ],
          "name": "stdout"
        }
      ]
    },
    {
      "cell_type": "markdown",
      "metadata": {
        "id": "g9QkdFL9nE6-",
        "colab_type": "text"
      },
      "source": [
        "## 3 pieces to build a neural network\n",
        "\n",
        "\n",
        "1.   Extend the nn.Module base classes\n",
        "2.   Define layers as class attributes\n",
        "3.   Implement the forward() method"
      ]
    },
    {
      "cell_type": "code",
      "metadata": {
        "id": "wXj2EcckmMI_",
        "colab_type": "code",
        "colab": {}
      },
      "source": [
        "import torch.nn as nn"
      ],
      "execution_count": 0,
      "outputs": []
    },
    {
      "cell_type": "code",
      "metadata": {
        "id": "QRzSC3beomwl",
        "colab_type": "code",
        "colab": {}
      },
      "source": [
        "#extending pytorch nn.Module base class\n",
        "#with this, we now have a network class that has all of the functionality of the pytorch nn.module class\n",
        "# underneath the hood, the module base class is keeping track of each layer's weights, which are contained within each layer\n",
        "class Network(nn.Module): #Line 1 \n",
        "  def __init__(self):\n",
        "    super(Network, self).__init__() #Line 2\n",
        "    self.conv1 = nn.Conv2d(in_channels = 1, out_channels = 6, kernel_size=5)\n",
        "    self.conv2 = nn.Conv2d(in_channels = 6, out_channels = 12, kernel_size =5)\n",
        "\n",
        "    self.fc1 = nn.Linear(in_features = 12*4*4, out_features = 120)\n",
        "    self.fc2 = nn.Linear(in_features = 120, out_features =60)\n",
        "    self.out = nn.Linear(in_features=60, out_features =10)\n",
        "\n",
        "  def forward(self,t):\n",
        "    t = self.layer(t)\n",
        "    return t"
      ],
      "execution_count": 0,
      "outputs": []
    },
    {
      "cell_type": "code",
      "metadata": {
        "id": "k8Dla2khrABD",
        "colab_type": "code",
        "outputId": "4281461d-f495-4280-ff3e-15001a71df9a",
        "colab": {
          "base_uri": "https://localhost:8080/",
          "height": 136
        }
      },
      "source": [
        "network = Network()\n",
        "network"
      ],
      "execution_count": 0,
      "outputs": [
        {
          "output_type": "execute_result",
          "data": {
            "text/plain": [
              "Network(\n",
              "  (conv1): Conv2d(1, 6, kernel_size=(5, 5), stride=(1, 1))\n",
              "  (conv2): Conv2d(6, 12, kernel_size=(5, 5), stride=(1, 1))\n",
              "  (fc1): Linear(in_features=192, out_features=120, bias=True)\n",
              "  (fc2): Linear(in_features=120, out_features=60, bias=True)\n",
              "  (out): Linear(in_features=60, out_features=10, bias=True)\n",
              ")"
            ]
          },
          "metadata": {
            "tags": []
          },
          "execution_count": 27
        }
      ]
    },
    {
      "cell_type": "markdown",
      "metadata": {
        "id": "CHDfYkvAtZOn",
        "colab_type": "text"
      },
      "source": [
        "##Two types of parameters:\n",
        "1.   Hyperparameters: parameters whose values are chosen manually and arbitrarily. Utilize values that have proven to work in the past.\n",
        "\n",
        "*   kernel_size: set the filter size\n",
        "*   out_channels: set the numbser of filters. one filter produces one output channel. feature maps\n",
        "*   out_features: set the size of output tensor\n",
        "\n",
        "2.   Data dependent hyperparameters: parameters whose value depend on the data\n",
        "\n",
        "\n",
        "*   start of the network, in_channels, depneds on the number of color channels present inside the images that make up the training set, greyscale image is 1\n",
        "*   end of the network, out_features, depends on the number of classes that are present inside our training set\n",
        "\n",
        "When we go from a conv layer to linear layer, we need to flatten our tensors. 12 * 4 * 4.\n",
        "\n",
        "*   12 is the number of out_channels from previous conv layer\n",
        "*   4 * 4: is the image size from conv filter: \n",
        "Output size of conv = [(inputSize + 2*pad - filterSize)/Stride] + 1\n",
        "\n",
        "\n",
        "\n",
        "\n",
        "3.   Learnable parameters are parameters whose values are learned during the training process. we often start with arbitrary values, and these values get updated in iterative fashion\n",
        "2.   List item\n",
        "\n",
        "\n",
        "\n"
      ]
    },
    {
      "cell_type": "code",
      "metadata": {
        "id": "Y6zgtjstrUId",
        "colab_type": "code",
        "outputId": "b3717993-c362-4b1a-972b-b93ecaf8660a",
        "colab": {
          "base_uri": "https://localhost:8080/",
          "height": 136
        }
      },
      "source": [
        "print(network)\n"
      ],
      "execution_count": 0,
      "outputs": [
        {
          "output_type": "stream",
          "text": [
            "Network(\n",
            "  (conv1): Conv2d(1, 6, kernel_size=(5, 5), stride=(1, 1))\n",
            "  (conv2): Conv2d(6, 12, kernel_size=(5, 5), stride=(1, 1))\n",
            "  (fc1): Linear(in_features=192, out_features=120, bias=True)\n",
            "  (fc2): Linear(in_features=120, out_features=60, bias=True)\n",
            "  (out): Linear(in_features=60, out_features=10, bias=True)\n",
            ")\n"
          ],
          "name": "stdout"
        }
      ]
    },
    {
      "cell_type": "code",
      "metadata": {
        "id": "1RtOee38yuOA",
        "colab_type": "code",
        "outputId": "41b66aa5-7ede-4029-a2b1-8bc43b30df5d",
        "colab": {
          "base_uri": "https://localhost:8080/",
          "height": 34
        }
      },
      "source": [
        "network.conv1"
      ],
      "execution_count": 0,
      "outputs": [
        {
          "output_type": "execute_result",
          "data": {
            "text/plain": [
              "Conv2d(1, 6, kernel_size=(5, 5), stride=(1, 1))"
            ]
          },
          "metadata": {
            "tags": []
          },
          "execution_count": 29
        }
      ]
    },
    {
      "cell_type": "code",
      "metadata": {
        "id": "vnrMO8WmzxJB",
        "colab_type": "code",
        "outputId": "0cec0d72-e2a2-4111-898f-569a4b331a12",
        "colab": {
          "base_uri": "https://localhost:8080/",
          "height": 34
        }
      },
      "source": [
        "network.fc1"
      ],
      "execution_count": 0,
      "outputs": [
        {
          "output_type": "execute_result",
          "data": {
            "text/plain": [
              "Linear(in_features=192, out_features=120, bias=True)"
            ]
          },
          "metadata": {
            "tags": []
          },
          "execution_count": 30
        }
      ]
    },
    {
      "cell_type": "code",
      "metadata": {
        "id": "pCU-gEjVz9gO",
        "colab_type": "code",
        "outputId": "dfdfa761-fcd9-4a16-8ce8-2e034499ee8f",
        "colab": {
          "base_uri": "https://localhost:8080/",
          "height": 714
        }
      },
      "source": [
        "network.conv1.weight #.conv1 access conv1 object that lives inside network object, then access weight object that lives inside conv1 object"
      ],
      "execution_count": 0,
      "outputs": [
        {
          "output_type": "execute_result",
          "data": {
            "text/plain": [
              "Parameter containing:\n",
              "tensor([[[[-0.1335, -0.1132, -0.1319,  0.0399,  0.1188],\n",
              "          [ 0.0284, -0.1615,  0.0306,  0.0071,  0.0743],\n",
              "          [-0.0830,  0.1640,  0.0811, -0.0093, -0.1455],\n",
              "          [ 0.1109,  0.1183,  0.1308, -0.1742, -0.0015],\n",
              "          [ 0.0561, -0.1254, -0.0449,  0.1304,  0.0478]]],\n",
              "\n",
              "\n",
              "        [[[ 0.0839,  0.0100, -0.0707, -0.1168,  0.1079],\n",
              "          [ 0.1984,  0.1186,  0.0527, -0.1148,  0.1970],\n",
              "          [-0.0457, -0.1598, -0.1473, -0.1280,  0.1138],\n",
              "          [-0.0701,  0.1295, -0.0166, -0.1089,  0.0864],\n",
              "          [-0.0094,  0.0099, -0.0055, -0.0675,  0.0802]]],\n",
              "\n",
              "\n",
              "        [[[ 0.1226, -0.0590,  0.1733,  0.0718, -0.0786],\n",
              "          [-0.0948, -0.0286,  0.0487, -0.0157,  0.1377],\n",
              "          [-0.1673,  0.1589,  0.0221,  0.1421, -0.0127],\n",
              "          [-0.0906, -0.1391,  0.1524, -0.1370,  0.1926],\n",
              "          [-0.0668, -0.0547,  0.0080,  0.1199, -0.1629]]],\n",
              "\n",
              "\n",
              "        [[[-0.1650,  0.1874, -0.1927,  0.0776,  0.1175],\n",
              "          [ 0.0630, -0.0262,  0.0368,  0.0890,  0.0494],\n",
              "          [-0.0027,  0.1730,  0.1554,  0.0892,  0.1053],\n",
              "          [ 0.0996, -0.0209, -0.1294,  0.1108,  0.0476],\n",
              "          [ 0.1529, -0.0333,  0.0093, -0.1653,  0.1482]]],\n",
              "\n",
              "\n",
              "        [[[ 0.0919,  0.0229,  0.1794, -0.0599,  0.0966],\n",
              "          [-0.1177, -0.1566, -0.1678,  0.1396,  0.0544],\n",
              "          [-0.1889, -0.0279,  0.0368, -0.1639, -0.0722],\n",
              "          [ 0.1224, -0.1707,  0.1323, -0.1145, -0.1012],\n",
              "          [ 0.0871, -0.0376,  0.1729,  0.0244,  0.1039]]],\n",
              "\n",
              "\n",
              "        [[[-0.0635, -0.1963, -0.0219, -0.1835,  0.0293],\n",
              "          [ 0.0032, -0.0560,  0.0658, -0.1123,  0.0852],\n",
              "          [ 0.0523,  0.0696,  0.0352,  0.0885,  0.1452],\n",
              "          [-0.0833, -0.0797, -0.1573,  0.1958,  0.0247],\n",
              "          [-0.0804,  0.0581, -0.1913, -0.1158,  0.1590]]]], requires_grad=True)"
            ]
          },
          "metadata": {
            "tags": []
          },
          "execution_count": 31
        }
      ]
    },
    {
      "cell_type": "markdown",
      "metadata": {
        "id": "h6jrCr1S16Vt",
        "colab_type": "text"
      },
      "source": [
        "##Weight tensor shape for a conv layer, a single tensor, each filter also has a depth that accounts for the input channels that are being. Rank 4 tensors:\n",
        "1.   The number of filters\n",
        "2.   The depth of filters which corresponds to the number of input channels being involved (color channels for the first conv layer)\n",
        "3.   height of filter\n",
        "4.   width of filter\n",
        "\n",
        "##Weight tensor shape for a linear layer is a rank two tensor commonly called a weight matrix\n",
        "\n",
        "\n"
      ]
    },
    {
      "cell_type": "code",
      "metadata": {
        "id": "QPx0Jlni0XH3",
        "colab_type": "code",
        "outputId": "b2a1cfbd-f41f-4b5d-d4aa-1334f5b00cab",
        "colab": {
          "base_uri": "https://localhost:8080/",
          "height": 34
        }
      },
      "source": [
        "network.conv1.weight.shape\n",
        "#6 filters, 1 input channel, 5x5 is the filter size"
      ],
      "execution_count": 0,
      "outputs": [
        {
          "output_type": "execute_result",
          "data": {
            "text/plain": [
              "torch.Size([6, 1, 5, 5])"
            ]
          },
          "metadata": {
            "tags": []
          },
          "execution_count": 32
        }
      ]
    },
    {
      "cell_type": "code",
      "metadata": {
        "id": "ya0P5bX80x21",
        "colab_type": "code",
        "outputId": "67a5c004-2585-4ed2-d049-97a9e761577f",
        "colab": {
          "base_uri": "https://localhost:8080/",
          "height": 34
        }
      },
      "source": [
        "network.conv2.weight.shape\n",
        "# 12 filters, 6 input channels"
      ],
      "execution_count": 0,
      "outputs": [
        {
          "output_type": "execute_result",
          "data": {
            "text/plain": [
              "torch.Size([12, 6, 5, 5])"
            ]
          },
          "metadata": {
            "tags": []
          },
          "execution_count": 33
        }
      ]
    },
    {
      "cell_type": "code",
      "metadata": {
        "id": "LOD161F002Rg",
        "colab_type": "code",
        "outputId": "4e707e05-6246-4099-e3fd-bbc173ef941a",
        "colab": {
          "base_uri": "https://localhost:8080/",
          "height": 34
        }
      },
      "source": [
        "network.fc1.weight.shape"
      ],
      "execution_count": 0,
      "outputs": [
        {
          "output_type": "execute_result",
          "data": {
            "text/plain": [
              "torch.Size([120, 192])"
            ]
          },
          "metadata": {
            "tags": []
          },
          "execution_count": 34
        }
      ]
    },
    {
      "cell_type": "code",
      "metadata": {
        "id": "HW3gNJ6802b9",
        "colab_type": "code",
        "outputId": "7fb40232-b179-48fc-dd7e-3c7931246e90",
        "colab": {
          "base_uri": "https://localhost:8080/",
          "height": 34
        }
      },
      "source": [
        "network.fc2.weight.shape"
      ],
      "execution_count": 0,
      "outputs": [
        {
          "output_type": "execute_result",
          "data": {
            "text/plain": [
              "torch.Size([60, 120])"
            ]
          },
          "metadata": {
            "tags": []
          },
          "execution_count": 35
        }
      ]
    },
    {
      "cell_type": "code",
      "metadata": {
        "id": "CnhejpV50829",
        "colab_type": "code",
        "outputId": "c4a18a30-0aa0-4bb6-864a-edfac3fc9d9a",
        "colab": {
          "base_uri": "https://localhost:8080/",
          "height": 34
        }
      },
      "source": [
        "network.out.weight.shape"
      ],
      "execution_count": 0,
      "outputs": [
        {
          "output_type": "execute_result",
          "data": {
            "text/plain": [
              "torch.Size([10, 60])"
            ]
          },
          "metadata": {
            "tags": []
          },
          "execution_count": 36
        }
      ]
    },
    {
      "cell_type": "code",
      "metadata": {
        "id": "gu7598NE4bY9",
        "colab_type": "code",
        "outputId": "cc33ff4b-ceca-4d97-efbb-e3e7a806216b",
        "colab": {
          "base_uri": "https://localhost:8080/",
          "height": 187
        }
      },
      "source": [
        "# access all weights in a nn\n",
        "for name, param in network.named_parameters():\n",
        "  print(name, '\\t\\t', param.shape)"
      ],
      "execution_count": 0,
      "outputs": [
        {
          "output_type": "stream",
          "text": [
            "conv1.weight \t\t torch.Size([6, 1, 5, 5])\n",
            "conv1.bias \t\t torch.Size([6])\n",
            "conv2.weight \t\t torch.Size([12, 6, 5, 5])\n",
            "conv2.bias \t\t torch.Size([12])\n",
            "fc1.weight \t\t torch.Size([120, 192])\n",
            "fc1.bias \t\t torch.Size([120])\n",
            "fc2.weight \t\t torch.Size([60, 120])\n",
            "fc2.bias \t\t torch.Size([60])\n",
            "out.weight \t\t torch.Size([10, 60])\n",
            "out.bias \t\t torch.Size([10])\n"
          ],
          "name": "stdout"
        }
      ]
    },
    {
      "cell_type": "markdown",
      "metadata": {
        "id": "Fwta2XC055BP",
        "colab_type": "text"
      },
      "source": [
        "#Linear Layer in depth"
      ]
    },
    {
      "cell_type": "code",
      "metadata": {
        "id": "C4yC2-kr4uT2",
        "colab_type": "code",
        "colab": {}
      },
      "source": [
        "in_features = torch.tensor([1,2,3,4], dtype=torch.float32)\n",
        "weight_matrix = torch.tensor([\n",
        "                              [1,2,3,4],\n",
        "                              [2,3,4,5],\n",
        "                              [3,4,5,6]\n",
        "], dtype = torch.float32)"
      ],
      "execution_count": 0,
      "outputs": []
    },
    {
      "cell_type": "code",
      "metadata": {
        "id": "EQht5l8v6lzj",
        "colab_type": "code",
        "outputId": "d2737994-63ec-40c8-efb3-c19fc4e3dd80",
        "colab": {
          "base_uri": "https://localhost:8080/",
          "height": 34
        }
      },
      "source": [
        "weight_matrix.matmul(in_features)"
      ],
      "execution_count": 0,
      "outputs": [
        {
          "output_type": "execute_result",
          "data": {
            "text/plain": [
              "tensor([30., 40., 50.])"
            ]
          },
          "metadata": {
            "tags": []
          },
          "execution_count": 39
        }
      ]
    },
    {
      "cell_type": "code",
      "metadata": {
        "id": "r67DW1TB6rmQ",
        "colab_type": "code",
        "colab": {}
      },
      "source": [
        "fc = nn.Linear(in_features = 4, out_features =3)"
      ],
      "execution_count": 0,
      "outputs": []
    },
    {
      "cell_type": "code",
      "metadata": {
        "id": "S71m1mE764aM",
        "colab_type": "code",
        "outputId": "0e9290f9-89d7-4d3a-cdf8-ef8e62abff1a",
        "colab": {
          "base_uri": "https://localhost:8080/",
          "height": 34
        }
      },
      "source": [
        "fc(in_features)"
      ],
      "execution_count": 0,
      "outputs": [
        {
          "output_type": "execute_result",
          "data": {
            "text/plain": [
              "tensor([ 0.5920, -4.3398, -1.0574], grad_fn=<AddBackward0>)"
            ]
          },
          "metadata": {
            "tags": []
          },
          "execution_count": 41
        }
      ]
    },
    {
      "cell_type": "code",
      "metadata": {
        "id": "W7xjuoxa7RFO",
        "colab_type": "code",
        "outputId": "aed0bc52-657b-4795-8589-6f6c84684bed",
        "colab": {
          "base_uri": "https://localhost:8080/",
          "height": 34
        }
      },
      "source": [
        "#change the weight matrix\n",
        "fc.weight = nn.Parameter(weight_matrix)\n",
        "fc(in_features) #notice the output is not exactly the same as above, this is because we have default bias setting"
      ],
      "execution_count": 0,
      "outputs": [
        {
          "output_type": "execute_result",
          "data": {
            "text/plain": [
              "tensor([30.4503, 39.8092, 50.4408], grad_fn=<AddBackward0>)"
            ]
          },
          "metadata": {
            "tags": []
          },
          "execution_count": 42
        }
      ]
    },
    {
      "cell_type": "code",
      "metadata": {
        "id": "6u2j2hqr7f-s",
        "colab_type": "code",
        "outputId": "80f73c3b-4649-4b9f-f035-45b7d16da583",
        "colab": {
          "base_uri": "https://localhost:8080/",
          "height": 34
        }
      },
      "source": [
        "fc = nn.Linear(in_features=4, out_features=3, bias = False)\n",
        "fc.weight = nn.Parameter(weight_matrix)\n",
        "fc(in_features)"
      ],
      "execution_count": 0,
      "outputs": [
        {
          "output_type": "execute_result",
          "data": {
            "text/plain": [
              "tensor([30., 40., 50.], grad_fn=<SqueezeBackward3>)"
            ]
          },
          "metadata": {
            "tags": []
          },
          "execution_count": 43
        }
      ]
    },
    {
      "cell_type": "markdown",
      "metadata": {
        "id": "WosygeBImMdC",
        "colab_type": "text"
      },
      "source": [
        "#CNN forward method - PyTorch Deep Learning Implementation\n",
        "##pass a single image to NN to predict"
      ]
    },
    {
      "cell_type": "code",
      "metadata": {
        "id": "Sb7zu-WmhcSv",
        "colab_type": "code",
        "colab": {}
      },
      "source": [
        "import torch.nn as nn\n",
        "import torch.nn.functional as F"
      ],
      "execution_count": 0,
      "outputs": []
    },
    {
      "cell_type": "code",
      "metadata": {
        "id": "Kp0kptI-mSHq",
        "colab_type": "code",
        "colab": {}
      },
      "source": [
        "\n",
        "class Network(nn.Module): #Line 1 \n",
        "  def __init__(self):\n",
        "    super(Network, self).__init__() #Line 2\n",
        "    self.conv1 = nn.Conv2d(in_channels = 1, out_channels = 6, kernel_size=5)\n",
        "    self.conv2 = nn.Conv2d(in_channels = 6, out_channels = 12, kernel_size =5)\n",
        "\n",
        "    self.fc1 = nn.Linear(in_features = 12*4*4, out_features = 120)\n",
        "    self.fc2 = nn.Linear(in_features = 120, out_features =60)\n",
        "    self.out = nn.Linear(in_features=60, out_features =10)\n",
        "\n",
        "  def forward(self,t):\n",
        "    # (1) input layer\n",
        "    t = t\n",
        "\n",
        "    # (2) hidden conv layer\n",
        "    t = self.conv1(t)\n",
        "    t = F.relu(t) #direct operation, not a layer hence no weight, hence it's called from F., similiar for max_pool2d\n",
        "    t = F.max_pool2d(t, kernel_size =2, stride =2) \n",
        "\n",
        "    # (3) hidden conv layer\n",
        "    t = self.conv2(t)\n",
        "    t = F.relu(t)\n",
        "    t = F.max_pool2d(t, kernel_size=2, stride =2)\n",
        "\n",
        "    # (4) hidden linear layer\n",
        "    t = t.reshape(-1, 12*4*4) # 12 channels, height 4, and width 4, tensor needs to be flattened before passing to a linear layer \n",
        "    t = self.fc1(t)\n",
        "    t = F.relu(t)\n",
        "\n",
        "    # (5) hidden linear layer\n",
        "    t = self.fc2(t)\n",
        "    t = F.relu(t)\n",
        "\n",
        "    # (6) output layer\n",
        "    t = self.out(t)\n",
        "    #t = F.softmax(t, dim=1), softmax function returns a positive possiblity for each classfication class\n",
        "    \n",
        "    return t"
      ],
      "execution_count": 0,
      "outputs": []
    },
    {
      "cell_type": "code",
      "metadata": {
        "id": "5eWx3TYcq2FT",
        "colab_type": "code",
        "outputId": "dab32bd7-e60e-4760-80ef-071617d3105c",
        "colab": {
          "base_uri": "https://localhost:8080/",
          "height": 34
        }
      },
      "source": [
        "torch.set_grad_enabled(False) # turn off the auto-gradient, this is needed during actual training, for our example below, we don't need"
      ],
      "execution_count": 8,
      "outputs": [
        {
          "output_type": "execute_result",
          "data": {
            "text/plain": [
              "<torch.autograd.grad_mode.set_grad_enabled at 0x7fed4f76f940>"
            ]
          },
          "metadata": {
            "tags": []
          },
          "execution_count": 8
        }
      ]
    },
    {
      "cell_type": "code",
      "metadata": {
        "id": "8j0DfX5Crvut",
        "colab_type": "code",
        "colab": {}
      },
      "source": [
        "network = Network()"
      ],
      "execution_count": 0,
      "outputs": []
    },
    {
      "cell_type": "code",
      "metadata": {
        "id": "q_X96egFr1jb",
        "colab_type": "code",
        "colab": {}
      },
      "source": [
        "sample = next(iter(train_set))"
      ],
      "execution_count": 0,
      "outputs": []
    },
    {
      "cell_type": "code",
      "metadata": {
        "id": "VYhSKgFrr5wi",
        "colab_type": "code",
        "outputId": "5639274d-6eec-4f05-9698-adb7ce2f81b1",
        "colab": {
          "base_uri": "https://localhost:8080/",
          "height": 85
        }
      },
      "source": [
        "image, label = sample\n",
        "print(image.shape)\n",
        "print(\"\\n\")\n",
        "print(label)"
      ],
      "execution_count": 12,
      "outputs": [
        {
          "output_type": "stream",
          "text": [
            "torch.Size([1, 28, 28])\n",
            "\n",
            "\n",
            "9\n"
          ],
          "name": "stdout"
        }
      ]
    },
    {
      "cell_type": "code",
      "metadata": {
        "id": "M_tnmLQisG4y",
        "colab_type": "code",
        "outputId": "47803968-38a9-4e68-9b5d-ace676988e3c",
        "colab": {
          "base_uri": "https://localhost:8080/",
          "height": 34
        }
      },
      "source": [
        "#input tensor for a neural network is required to be a rank 4 tensor with shape [batch_size, in_channels, height, widt]\n",
        "image.unsqueeze(0).shape"
      ],
      "execution_count": 0,
      "outputs": [
        {
          "output_type": "execute_result",
          "data": {
            "text/plain": [
              "torch.Size([1, 1, 28, 28])"
            ]
          },
          "metadata": {
            "tags": []
          },
          "execution_count": 49
        }
      ]
    },
    {
      "cell_type": "code",
      "metadata": {
        "id": "Sk0wVkZusvFH",
        "colab_type": "code",
        "colab": {}
      },
      "source": [
        "pred = network(image.unsqueeze(0))"
      ],
      "execution_count": 0,
      "outputs": []
    },
    {
      "cell_type": "code",
      "metadata": {
        "id": "P9MPOWuotFAA",
        "colab_type": "code",
        "outputId": "2183e54a-aca7-4b7f-cc8a-73847aba16e3",
        "colab": {
          "base_uri": "https://localhost:8080/",
          "height": 34
        }
      },
      "source": [
        "pred.shape"
      ],
      "execution_count": 14,
      "outputs": [
        {
          "output_type": "execute_result",
          "data": {
            "text/plain": [
              "torch.Size([1, 10])"
            ]
          },
          "metadata": {
            "tags": []
          },
          "execution_count": 14
        }
      ]
    },
    {
      "cell_type": "code",
      "metadata": {
        "id": "9QzAxjSHtKO5",
        "colab_type": "code",
        "outputId": "3fc343bd-b93f-4c8b-e731-d27b986807eb",
        "colab": {
          "base_uri": "https://localhost:8080/",
          "height": 34
        }
      },
      "source": [
        "pred"
      ],
      "execution_count": 0,
      "outputs": [
        {
          "output_type": "execute_result",
          "data": {
            "text/plain": [
              "tensor([[-0.1106,  0.0304,  0.1373, -0.1155, -0.0140,  0.0264,  0.0135, -0.0675, -0.1362,  0.1429]])"
            ]
          },
          "metadata": {
            "tags": []
          },
          "execution_count": 52
        }
      ]
    },
    {
      "cell_type": "code",
      "metadata": {
        "id": "uAaqEYJmtNLA",
        "colab_type": "code",
        "outputId": "15743a36-9c45-4905-9148-42cc45cf94be",
        "colab": {
          "base_uri": "https://localhost:8080/",
          "height": 34
        }
      },
      "source": [
        "label"
      ],
      "execution_count": 0,
      "outputs": [
        {
          "output_type": "execute_result",
          "data": {
            "text/plain": [
              "9"
            ]
          },
          "metadata": {
            "tags": []
          },
          "execution_count": 53
        }
      ]
    },
    {
      "cell_type": "code",
      "metadata": {
        "id": "whCvz8JTtYDZ",
        "colab_type": "code",
        "outputId": "a596942b-b9d1-4b54-887e-d541fc283b24",
        "colab": {
          "base_uri": "https://localhost:8080/",
          "height": 34
        }
      },
      "source": [
        "pred.argmax(dim=1)"
      ],
      "execution_count": 0,
      "outputs": [
        {
          "output_type": "execute_result",
          "data": {
            "text/plain": [
              "tensor([9])"
            ]
          },
          "metadata": {
            "tags": []
          },
          "execution_count": 54
        }
      ]
    },
    {
      "cell_type": "code",
      "metadata": {
        "id": "tUQZdXHdtbTA",
        "colab_type": "code",
        "outputId": "48e03232-d1be-44b6-cf7a-75bbf094e689",
        "colab": {
          "base_uri": "https://localhost:8080/",
          "height": 34
        }
      },
      "source": [
        "F.softmax(pred, dim=1)"
      ],
      "execution_count": 0,
      "outputs": [
        {
          "output_type": "execute_result",
          "data": {
            "text/plain": [
              "tensor([[0.0900, 0.1036, 0.1153, 0.0895, 0.0991, 0.1032, 0.1019, 0.0939, 0.0877, 0.1159]])"
            ]
          },
          "metadata": {
            "tags": []
          },
          "execution_count": 55
        }
      ]
    },
    {
      "cell_type": "code",
      "metadata": {
        "id": "U1Wf7YUltl58",
        "colab_type": "code",
        "outputId": "3e6b0113-1ac4-4b3e-a38e-c5393346c440",
        "colab": {
          "base_uri": "https://localhost:8080/",
          "height": 34
        }
      },
      "source": [
        "F.softmax(pred, dim =1).sum()"
      ],
      "execution_count": 0,
      "outputs": [
        {
          "output_type": "execute_result",
          "data": {
            "text/plain": [
              "tensor(1.0000)"
            ]
          },
          "metadata": {
            "tags": []
          },
          "execution_count": 56
        }
      ]
    },
    {
      "cell_type": "markdown",
      "metadata": {
        "id": "IzfkbTqeuSF2",
        "colab_type": "text"
      },
      "source": [
        "#NN batch processing - pass image batch to pytorch CNN"
      ]
    },
    {
      "cell_type": "code",
      "metadata": {
        "id": "_PhC63yMt41V",
        "colab_type": "code",
        "colab": {}
      },
      "source": [
        "batch = next(iter(train_loader))\n",
        "images, labels = batch"
      ],
      "execution_count": 0,
      "outputs": []
    },
    {
      "cell_type": "code",
      "metadata": {
        "id": "kMezi2zCu7Sv",
        "colab_type": "code",
        "outputId": "8f5e6a81-f65c-4688-b647-76c512af23cb",
        "colab": {
          "base_uri": "https://localhost:8080/",
          "height": 34
        }
      },
      "source": [
        "images.shape"
      ],
      "execution_count": 0,
      "outputs": [
        {
          "output_type": "execute_result",
          "data": {
            "text/plain": [
              "torch.Size([10, 1, 28, 28])"
            ]
          },
          "metadata": {
            "tags": []
          },
          "execution_count": 58
        }
      ]
    },
    {
      "cell_type": "code",
      "metadata": {
        "id": "sYv-ilzgvODJ",
        "colab_type": "code",
        "outputId": "8f02b98a-b7d5-4048-ce40-a0f65a657af3",
        "colab": {
          "base_uri": "https://localhost:8080/",
          "height": 34
        }
      },
      "source": [
        "labels.shape"
      ],
      "execution_count": 0,
      "outputs": [
        {
          "output_type": "execute_result",
          "data": {
            "text/plain": [
              "torch.Size([10])"
            ]
          },
          "metadata": {
            "tags": []
          },
          "execution_count": 59
        }
      ]
    },
    {
      "cell_type": "code",
      "metadata": {
        "id": "kYuAUf5JvcfZ",
        "colab_type": "code",
        "outputId": "972e259b-a5fc-4d47-835a-a682b49660be",
        "colab": {
          "base_uri": "https://localhost:8080/",
          "height": 34
        }
      },
      "source": [
        "preds = network(images)\n",
        "preds.shape"
      ],
      "execution_count": 0,
      "outputs": [
        {
          "output_type": "execute_result",
          "data": {
            "text/plain": [
              "torch.Size([10, 10])"
            ]
          },
          "metadata": {
            "tags": []
          },
          "execution_count": 60
        }
      ]
    },
    {
      "cell_type": "code",
      "metadata": {
        "id": "hzn6R2f5vgfI",
        "colab_type": "code",
        "outputId": "a2a5df84-291d-4c8e-8ce4-028a34ea90f7",
        "colab": {
          "base_uri": "https://localhost:8080/",
          "height": 187
        }
      },
      "source": [
        "preds #we have 10 images, for each image, we have 10 prediction classes"
      ],
      "execution_count": 0,
      "outputs": [
        {
          "output_type": "execute_result",
          "data": {
            "text/plain": [
              "tensor([[-0.1106,  0.0304,  0.1373, -0.1155, -0.0140,  0.0264,  0.0135, -0.0675, -0.1362,  0.1429],\n",
              "        [-0.1082,  0.0308,  0.1377, -0.1126, -0.0113,  0.0311, -0.0031, -0.0686, -0.1500,  0.1419],\n",
              "        [-0.1064,  0.0258,  0.1378, -0.1045, -0.0266,  0.0309,  0.0123, -0.0773, -0.1332,  0.1394],\n",
              "        [-0.1040,  0.0275,  0.1385, -0.1102, -0.0222,  0.0291,  0.0099, -0.0724, -0.1408,  0.1435],\n",
              "        [-0.1076,  0.0311,  0.1419, -0.1148, -0.0171,  0.0181,  0.0044, -0.0616, -0.1414,  0.1411],\n",
              "        [-0.1110,  0.0331,  0.1421, -0.1143, -0.0161,  0.0308,  0.0015, -0.0650, -0.1370,  0.1462],\n",
              "        [-0.1040,  0.0291,  0.1385, -0.1139, -0.0153,  0.0333,  0.0092, -0.0672, -0.1311,  0.1391],\n",
              "        [-0.1100,  0.0361,  0.1431, -0.1171, -0.0124,  0.0244,  0.0057, -0.0618, -0.1323,  0.1482],\n",
              "        [-0.0970,  0.0204,  0.1503, -0.1050, -0.0204,  0.0318,  0.0199, -0.0755, -0.1367,  0.1403],\n",
              "        [-0.1018,  0.0250,  0.1542, -0.1098, -0.0135,  0.0407,  0.0193, -0.0677, -0.1382,  0.1470]])"
            ]
          },
          "metadata": {
            "tags": []
          },
          "execution_count": 61
        }
      ]
    },
    {
      "cell_type": "code",
      "metadata": {
        "id": "o1ya03JewACK",
        "colab_type": "code",
        "outputId": "ab6531f0-fd0a-491c-faaf-6fb526c4048a",
        "colab": {
          "base_uri": "https://localhost:8080/",
          "height": 34
        }
      },
      "source": [
        "preds.argmax(dim=1)"
      ],
      "execution_count": 0,
      "outputs": [
        {
          "output_type": "execute_result",
          "data": {
            "text/plain": [
              "tensor([9, 9, 9, 9, 2, 9, 9, 9, 2, 2])"
            ]
          },
          "metadata": {
            "tags": []
          },
          "execution_count": 62
        }
      ]
    },
    {
      "cell_type": "code",
      "metadata": {
        "id": "JdYjWhFNvi_7",
        "colab_type": "code",
        "outputId": "ce88948a-3bca-4a7b-bff1-72e79f8d9e85",
        "colab": {
          "base_uri": "https://localhost:8080/",
          "height": 34
        }
      },
      "source": [
        "labels"
      ],
      "execution_count": 0,
      "outputs": [
        {
          "output_type": "execute_result",
          "data": {
            "text/plain": [
              "tensor([9, 0, 0, 3, 0, 2, 7, 2, 5, 5])"
            ]
          },
          "metadata": {
            "tags": []
          },
          "execution_count": 63
        }
      ]
    },
    {
      "cell_type": "code",
      "metadata": {
        "id": "1s1BXKeBwVLG",
        "colab_type": "code",
        "outputId": "b24bc62d-3cc2-435b-d7c7-a8988f79fcf0",
        "colab": {
          "base_uri": "https://localhost:8080/",
          "height": 34
        }
      },
      "source": [
        "preds.argmax(dim=1).eq(labels) #compare the predictions with the labels"
      ],
      "execution_count": 0,
      "outputs": [
        {
          "output_type": "execute_result",
          "data": {
            "text/plain": [
              "tensor([ True, False, False, False, False, False, False, False, False, False])"
            ]
          },
          "metadata": {
            "tags": []
          },
          "execution_count": 64
        }
      ]
    },
    {
      "cell_type": "code",
      "metadata": {
        "id": "3J8Kn_s0wc6Z",
        "colab_type": "code",
        "outputId": "9bbd7c31-8f81-477f-e309-144d6acc9f77",
        "colab": {
          "base_uri": "https://localhost:8080/",
          "height": 34
        }
      },
      "source": [
        "preds.argmax(dim=1).eq(labels).sum()"
      ],
      "execution_count": 0,
      "outputs": [
        {
          "output_type": "execute_result",
          "data": {
            "text/plain": [
              "tensor(1)"
            ]
          },
          "metadata": {
            "tags": []
          },
          "execution_count": 65
        }
      ]
    },
    {
      "cell_type": "code",
      "metadata": {
        "id": "p1GZeuoNwn0b",
        "colab_type": "code",
        "colab": {}
      },
      "source": [
        "def get_num_correct(preds, labels):\n",
        "  return preds.argmax(dim=1).eq(labels).sum().item()"
      ],
      "execution_count": 0,
      "outputs": []
    },
    {
      "cell_type": "code",
      "metadata": {
        "id": "sdOEJnwYwn_c",
        "colab_type": "code",
        "outputId": "e0625a54-3aba-47cc-c4f1-94587ea087bc",
        "colab": {
          "base_uri": "https://localhost:8080/",
          "height": 34
        }
      },
      "source": [
        "get_num_correct(preds, labels)"
      ],
      "execution_count": 0,
      "outputs": [
        {
          "output_type": "execute_result",
          "data": {
            "text/plain": [
              "1"
            ]
          },
          "metadata": {
            "tags": []
          },
          "execution_count": 67
        }
      ]
    },
    {
      "cell_type": "markdown",
      "metadata": {
        "id": "PdBmMGdjxDkR",
        "colab_type": "text"
      },
      "source": [
        "#CNN output size formula (Square)\n",
        "\n",
        "*   Suppose we have nxn input\n",
        "*   Suppose we have fxf filter\n",
        "*   Suppose we have a padding of p and a stride of s\n",
        "\n",
        "The output size O is given by this formula:\n",
        "O = (n - f + 2p)/s + 1\n",
        "This is true for conv, max pooling layers\n",
        "\n",
        "## CNN output size formula for non-square \n",
        "\n",
        "Refer to link: https://deeplizard.com/learn/video/cin4YcGBh3Q\n",
        "\n"
      ]
    },
    {
      "cell_type": "markdown",
      "metadata": {
        "id": "r0hiWBTN1kqb",
        "colab_type": "text"
      },
      "source": [
        "#CNN training with code example\n",
        "\n",
        "##The training process:\n",
        "1.   Get batch from the training set\n",
        "2.   Pass batch to network\n",
        "3.   Calculate the loss (difference between the predicted values and true values)\n",
        "4.   Calculate the gradient of the loss function w.r.t the network's weights\n",
        "5.   Update the weights using the gradients to reduce the loss\n",
        "6.   repeat steps 1-5 until one epoch is completed\n",
        "7.   Repeat steps 1-6 as many epochs required to obtain the desired level of accuracy\n",
        "\n"
      ]
    },
    {
      "cell_type": "code",
      "metadata": {
        "id": "KQRR6GCt1pu8",
        "colab_type": "code",
        "outputId": "6296e3fa-330e-47bf-9326-a65129bec826",
        "colab": {
          "base_uri": "https://localhost:8080/",
          "height": 34
        }
      },
      "source": [
        "torch.set_grad_enabled(True)"
      ],
      "execution_count": 0,
      "outputs": [
        {
          "output_type": "execute_result",
          "data": {
            "text/plain": [
              "<torch.autograd.grad_mode.set_grad_enabled at 0x7fb102d4bc88>"
            ]
          },
          "metadata": {
            "tags": []
          },
          "execution_count": 68
        }
      ]
    },
    {
      "cell_type": "code",
      "metadata": {
        "id": "moylBNhkLr5c",
        "colab_type": "code",
        "colab": {}
      },
      "source": [
        "import torch.optim as optim"
      ],
      "execution_count": 0,
      "outputs": []
    },
    {
      "cell_type": "code",
      "metadata": {
        "id": "WqHUTg8XLwCH",
        "colab_type": "code",
        "colab": {}
      },
      "source": [
        "train_loader = torch.utils.data.DataLoader(train_set, batch_size=100)\n",
        "batch = next(iter(train_loader))\n",
        "images, labels = batch"
      ],
      "execution_count": 0,
      "outputs": []
    },
    {
      "cell_type": "markdown",
      "metadata": {
        "id": "vWDQvZtMMOZC",
        "colab_type": "text"
      },
      "source": [
        "##Calculate the Loss"
      ]
    },
    {
      "cell_type": "code",
      "metadata": {
        "id": "aUlo6RBMMMDr",
        "colab_type": "code",
        "outputId": "8d4c35f3-0a2f-4876-b4ba-ab61557d4d43",
        "colab": {
          "base_uri": "https://localhost:8080/",
          "height": 34
        }
      },
      "source": [
        "preds = network(images)\n",
        "loss = F.cross_entropy(preds, labels)\n",
        "loss.item() #get the numerical values"
      ],
      "execution_count": 0,
      "outputs": [
        {
          "output_type": "execute_result",
          "data": {
            "text/plain": [
              "2.305128335952759"
            ]
          },
          "metadata": {
            "tags": []
          },
          "execution_count": 71
        }
      ]
    },
    {
      "cell_type": "markdown",
      "metadata": {
        "id": "b5uVRBr9Mj8x",
        "colab_type": "text"
      },
      "source": [
        "##Calculate the gradients"
      ]
    },
    {
      "cell_type": "code",
      "metadata": {
        "id": "d9uZsaWEMmsm",
        "colab_type": "code",
        "outputId": "e0b936c6-7fe3-4759-e9e5-5053de280469",
        "colab": {
          "base_uri": "https://localhost:8080/",
          "height": 34
        }
      },
      "source": [
        "print(network.conv1.weight.grad)"
      ],
      "execution_count": 0,
      "outputs": [
        {
          "output_type": "stream",
          "text": [
            "None\n"
          ],
          "name": "stdout"
        }
      ]
    },
    {
      "cell_type": "code",
      "metadata": {
        "id": "Y7aMQgF1Mqnx",
        "colab_type": "code",
        "colab": {}
      },
      "source": [
        "loss.backward() #calculate the gradients, same shape as the weight tensor"
      ],
      "execution_count": 0,
      "outputs": []
    },
    {
      "cell_type": "code",
      "metadata": {
        "id": "pUrw5znhMtmH",
        "colab_type": "code",
        "outputId": "2e5ec2b2-4ac1-4d57-b0ae-ac0e2c0bc4d2",
        "colab": {
          "base_uri": "https://localhost:8080/",
          "height": 34
        }
      },
      "source": [
        "network.conv1.weight.grad.shape"
      ],
      "execution_count": 0,
      "outputs": [
        {
          "output_type": "execute_result",
          "data": {
            "text/plain": [
              "torch.Size([6, 1, 5, 5])"
            ]
          },
          "metadata": {
            "tags": []
          },
          "execution_count": 74
        }
      ]
    },
    {
      "cell_type": "markdown",
      "metadata": {
        "id": "eCaMhI-IMyvk",
        "colab_type": "text"
      },
      "source": [
        "##Updating the weights"
      ]
    },
    {
      "cell_type": "code",
      "metadata": {
        "id": "gKzf9jP_MxuQ",
        "colab_type": "code",
        "colab": {}
      },
      "source": [
        "optimizer = optim.Adam(network.parameters(), lr=0.01)"
      ],
      "execution_count": 0,
      "outputs": []
    },
    {
      "cell_type": "code",
      "metadata": {
        "id": "UPmZaF-NNd5S",
        "colab_type": "code",
        "outputId": "d1cc974f-3745-44db-c219-c0ed4bc6ff5f",
        "colab": {
          "base_uri": "https://localhost:8080/",
          "height": 34
        }
      },
      "source": [
        "loss.item()"
      ],
      "execution_count": 0,
      "outputs": [
        {
          "output_type": "execute_result",
          "data": {
            "text/plain": [
              "2.305128335952759"
            ]
          },
          "metadata": {
            "tags": []
          },
          "execution_count": 76
        }
      ]
    },
    {
      "cell_type": "code",
      "metadata": {
        "id": "ZFG7x2WoNfl9",
        "colab_type": "code",
        "outputId": "3ba109fc-f3e6-4642-e6b5-c18fad24f3bd",
        "colab": {
          "base_uri": "https://localhost:8080/",
          "height": 34
        }
      },
      "source": [
        "get_num_correct(preds, labels)"
      ],
      "execution_count": 0,
      "outputs": [
        {
          "output_type": "execute_result",
          "data": {
            "text/plain": [
              "8"
            ]
          },
          "metadata": {
            "tags": []
          },
          "execution_count": 77
        }
      ]
    },
    {
      "cell_type": "code",
      "metadata": {
        "id": "EJ0VyFvONj2O",
        "colab_type": "code",
        "colab": {}
      },
      "source": [
        "optimizer.step() # updating the weights, we want to step in the direction of the loss functions minimum"
      ],
      "execution_count": 0,
      "outputs": []
    },
    {
      "cell_type": "code",
      "metadata": {
        "id": "MKJbAe_xNoFe",
        "colab_type": "code",
        "colab": {}
      },
      "source": [
        "preds = network(images)\n",
        "loss = F.cross_entropy(preds, labels)"
      ],
      "execution_count": 0,
      "outputs": []
    },
    {
      "cell_type": "code",
      "metadata": {
        "id": "kzzqUM66Nt_R",
        "colab_type": "code",
        "outputId": "fa46b8d0-cbcf-45e3-b050-59da6adbdded",
        "colab": {
          "base_uri": "https://localhost:8080/",
          "height": 34
        }
      },
      "source": [
        "loss.item() # a lower loss"
      ],
      "execution_count": 0,
      "outputs": [
        {
          "output_type": "execute_result",
          "data": {
            "text/plain": [
              "2.263906478881836"
            ]
          },
          "metadata": {
            "tags": []
          },
          "execution_count": 80
        }
      ]
    },
    {
      "cell_type": "code",
      "metadata": {
        "id": "VSANneJJNv7O",
        "colab_type": "code",
        "outputId": "0c4ea9d8-e9c9-4529-b45f-f3c27a322998",
        "colab": {
          "base_uri": "https://localhost:8080/",
          "height": 34
        }
      },
      "source": [
        "get_num_correct(preds, labels) # number of correct predictions goes up"
      ],
      "execution_count": 0,
      "outputs": [
        {
          "output_type": "execute_result",
          "data": {
            "text/plain": [
              "18"
            ]
          },
          "metadata": {
            "tags": []
          },
          "execution_count": 81
        }
      ]
    },
    {
      "cell_type": "markdown",
      "metadata": {
        "id": "R-jiyKbkOkDt",
        "colab_type": "text"
      },
      "source": [
        "##Training with single batch"
      ]
    },
    {
      "cell_type": "code",
      "metadata": {
        "id": "fruxe_gKOiE_",
        "colab_type": "code",
        "outputId": "43bb5e67-69dc-46a5-c93e-29addf24487e",
        "colab": {
          "base_uri": "https://localhost:8080/",
          "height": 51
        }
      },
      "source": [
        "network = Network()\n",
        "\n",
        "train_loader = torch.utils.data.DataLoader(train_set, batch_size=100)\n",
        "optimizer = optim.Adam(network.parameters(), lr=0.01)\n",
        "\n",
        "batch = next(iter(train_loader)) # get batch\n",
        "images, labels = batch #unpacking to images and labels tensor\n",
        "\n",
        "preds = network(images) # pass batch\n",
        "loss = F.cross_entropy(preds, labels) # calculate loss\n",
        "\n",
        "loss.backward() # calculate gradietns\n",
        "optimizer.step() # update weights\n",
        "\n",
        "\n",
        "print('loss1: ', loss.item())\n",
        "preds = network(images)\n",
        "loss= F.cross_entropy(preds, labels)\n",
        "print('loss2', loss.item())"
      ],
      "execution_count": 0,
      "outputs": [
        {
          "output_type": "stream",
          "text": [
            "loss1:  2.2967464923858643\n",
            "loss2 2.281451463699341\n"
          ],
          "name": "stdout"
        }
      ]
    },
    {
      "cell_type": "markdown",
      "metadata": {
        "id": "1c0X6xuiQXf7",
        "colab_type": "text"
      },
      "source": [
        "#CNN training loop"
      ]
    },
    {
      "cell_type": "markdown",
      "metadata": {
        "id": "3enznlyvUqY2",
        "colab_type": "text"
      },
      "source": [
        "##Training with one epoch"
      ]
    },
    {
      "cell_type": "code",
      "metadata": {
        "id": "WOzksAUkQbS3",
        "colab_type": "code",
        "outputId": "c515c0db-b13b-45cf-daa4-a630e6001370",
        "colab": {
          "base_uri": "https://localhost:8080/",
          "height": 34
        }
      },
      "source": [
        "network = Network()\n",
        "\n",
        "train_loader = torch.utils.data.DataLoader(train_set, batch_size=100) #batch_size is 100, and hence we have 600 batches, and we are updating weights\n",
        "#600 times; \n",
        "optimizer = optim.Adam(network.parameters(), lr=0.01)\n",
        "\n",
        "total_loss =0\n",
        "total_correct =0\n",
        "for batch in train_loader:\n",
        "  images, labels = batch\n",
        "\n",
        "  preds = network(images) # pass batch, images shape is [100,1,28,28], labels shape is [100]\n",
        "  #preds shape is [100,10]\n",
        "  loss = F.cross_entropy(preds, labels) # calculate loss\n",
        "\n",
        "  optimizer.zero_grad() #zero out the gradients that are being held in the grad attribute of the weights, pytorch accumulates gradients (adds), it \n",
        "  # add current new gradient to existing one; need to ensure we zero out gradients before we calculate any new gradients\n",
        "  loss.backward() # calculate gradietns\n",
        "  optimizer.step() # update weights\n",
        "\n",
        "  total_loss +=loss.item()\n",
        "  total_correct += get_num_correct(preds, labels)\n",
        "\n",
        "print('epoch: ', 0, \"total_correct: \", total_correct, \"loss: \", total_loss)"
      ],
      "execution_count": 0,
      "outputs": [
        {
          "output_type": "stream",
          "text": [
            "epoch:  0 total_correct:  47009 loss:  344.23468862473965\n"
          ],
          "name": "stdout"
        }
      ]
    },
    {
      "cell_type": "code",
      "metadata": {
        "id": "wz-GEWXkSdXz",
        "colab_type": "code",
        "outputId": "12ad5d45-54b2-4ae2-ea55-b776c86fe593",
        "colab": {
          "base_uri": "https://localhost:8080/",
          "height": 34
        }
      },
      "source": [
        "total_correct/len(train_set)"
      ],
      "execution_count": 0,
      "outputs": [
        {
          "output_type": "execute_result",
          "data": {
            "text/plain": [
              "0.7834833333333333"
            ]
          },
          "metadata": {
            "tags": []
          },
          "execution_count": 84
        }
      ]
    },
    {
      "cell_type": "code",
      "metadata": {
        "id": "wcRA4dCcVYtC",
        "colab_type": "code",
        "colab": {}
      },
      "source": [
        ""
      ],
      "execution_count": 0,
      "outputs": []
    },
    {
      "cell_type": "markdown",
      "metadata": {
        "id": "Q4tNwRssUt2o",
        "colab_type": "text"
      },
      "source": [
        "##Training with multiple epochs: the complete training loop"
      ]
    },
    {
      "cell_type": "code",
      "metadata": {
        "id": "Da9e0g41S3gD",
        "colab_type": "code",
        "outputId": "de8a7588-1be9-4f31-e71f-bc7d3db73120",
        "colab": {
          "base_uri": "https://localhost:8080/",
          "height": 102
        }
      },
      "source": [
        "network = Network()\n",
        "\n",
        "train_loader = torch.utils.data.DataLoader(train_set, batch_size=100) #batch_size is 100, and hence we have 600 batches, and we are updating weights\n",
        "#600 times; \n",
        "optimizer = optim.Adam(network.parameters(), lr=0.01)\n",
        "\n",
        "for epoch in range(5):\n",
        "  total_loss =0\n",
        "  total_correct =0\n",
        "\n",
        "  for batch in train_loader:\n",
        "    images, labels = batch\n",
        "\n",
        "    preds = network(images) # pass batch, images shape is [100,1,28,28], labels shape is [100]\n",
        "    #preds shape is [100,10]\n",
        "    loss = F.cross_entropy(preds, labels) # calculate loss\n",
        "\n",
        "    optimizer.zero_grad() #zero out the gradients that are being held in the grad attribute of the weights, pytorch accumulates gradients (adds), it \n",
        "    # add current new gradient to existing one; need to ensure we zero out gradients before we calculate any new gradients\n",
        "    loss.backward() # calculate gradietns\n",
        "    optimizer.step() # update weights\n",
        "\n",
        "    total_loss +=loss.item()\n",
        "    total_correct += get_num_correct(preds, labels)\n",
        "\n",
        "  print('epoch: ', epoch, \"total_correct: \", total_correct, \"loss: \", total_loss)"
      ],
      "execution_count": 0,
      "outputs": [
        {
          "output_type": "stream",
          "text": [
            "epoch:  0 total_correct:  47493 loss:  328.05604046583176\n",
            "epoch:  1 total_correct:  51566 loss:  228.40662117302418\n",
            "epoch:  2 total_correct:  52231 loss:  209.27592954039574\n",
            "epoch:  3 total_correct:  52505 loss:  200.3431894481182\n",
            "epoch:  4 total_correct:  52788 loss:  195.45161175727844\n"
          ],
          "name": "stdout"
        }
      ]
    },
    {
      "cell_type": "code",
      "metadata": {
        "id": "hapcbxtDVaDl",
        "colab_type": "code",
        "outputId": "f83d1391-52f4-455c-f2eb-ff99c86c80e5",
        "colab": {
          "base_uri": "https://localhost:8080/",
          "height": 34
        }
      },
      "source": [
        "total_correct/len(train_set)"
      ],
      "execution_count": 0,
      "outputs": [
        {
          "output_type": "execute_result",
          "data": {
            "text/plain": [
              "0.8798"
            ]
          },
          "metadata": {
            "tags": []
          },
          "execution_count": 86
        }
      ]
    },
    {
      "cell_type": "markdown",
      "metadata": {
        "id": "xpADppAQVrmN",
        "colab_type": "text"
      },
      "source": [
        "#CNN confusion matrix with pytorch"
      ]
    },
    {
      "cell_type": "code",
      "metadata": {
        "id": "L5opiX6tVuoR",
        "colab_type": "code",
        "outputId": "60e865b9-d562-478d-8556-6d531f98cfbf",
        "colab": {
          "base_uri": "https://localhost:8080/",
          "height": 34
        }
      },
      "source": [
        "len(train_set)"
      ],
      "execution_count": 0,
      "outputs": [
        {
          "output_type": "execute_result",
          "data": {
            "text/plain": [
              "60000"
            ]
          },
          "metadata": {
            "tags": []
          },
          "execution_count": 87
        }
      ]
    },
    {
      "cell_type": "code",
      "metadata": {
        "id": "2kXnDdl6cU2i",
        "colab_type": "code",
        "outputId": "9f24a5c3-693f-4fc7-c538-38bbd2fbdb02",
        "colab": {
          "base_uri": "https://localhost:8080/",
          "height": 34
        }
      },
      "source": [
        "len(train_set.targets)"
      ],
      "execution_count": 0,
      "outputs": [
        {
          "output_type": "execute_result",
          "data": {
            "text/plain": [
              "60000"
            ]
          },
          "metadata": {
            "tags": []
          },
          "execution_count": 88
        }
      ]
    },
    {
      "cell_type": "markdown",
      "metadata": {
        "id": "pdylH8F-cY7Q",
        "colab_type": "text"
      },
      "source": [
        "##Getting predictions for the entire training set"
      ]
    },
    {
      "cell_type": "code",
      "metadata": {
        "id": "s8uphKWvcXl7",
        "colab_type": "code",
        "colab": {}
      },
      "source": [
        "def get_all_preds(model, loader): # we pass a dataloader instead of entire training datasets, because machine cannot handle that much computation all at once\n",
        "  all_preds = torch.tensor([])\n",
        "  for batch in loader:\n",
        "    images, labels = batch\n",
        "\n",
        "    preds = model(images)\n",
        "    all_preds = torch.cat((all_preds, preds), dim=0)\n",
        "\n",
        "  return all_preds"
      ],
      "execution_count": 0,
      "outputs": []
    },
    {
      "cell_type": "code",
      "metadata": {
        "id": "sLSecz-od9b3",
        "colab_type": "code",
        "colab": {}
      },
      "source": [
        "prediction_loader = torch.utils.data.DataLoader(train_set, batch_size = 10000)\n",
        "train_preds = get_all_preds(network, prediction_loader)"
      ],
      "execution_count": 0,
      "outputs": []
    },
    {
      "cell_type": "code",
      "metadata": {
        "id": "gqpKAFEKd9xD",
        "colab_type": "code",
        "outputId": "eb7e8c46-4f99-42f2-bcf6-1886e6c2b1a7",
        "colab": {
          "base_uri": "https://localhost:8080/",
          "height": 34
        }
      },
      "source": [
        "train_preds.shape # total 60000 images, for each image, we are given 10 values for each category, the category with the highest prediciton value \n",
        "# is the one the network is predicting most strongly"
      ],
      "execution_count": 0,
      "outputs": [
        {
          "output_type": "execute_result",
          "data": {
            "text/plain": [
              "torch.Size([60000, 10])"
            ]
          },
          "metadata": {
            "tags": []
          },
          "execution_count": 94
        }
      ]
    },
    {
      "cell_type": "code",
      "metadata": {
        "id": "wK1TFSDoeQsg",
        "colab_type": "code",
        "outputId": "0ddaeb29-b941-4aa5-88b6-421e56eba2bb",
        "colab": {
          "base_uri": "https://localhost:8080/",
          "height": 34
        }
      },
      "source": [
        "print(train_preds.requires_grad) # requires gradient tracking feature"
      ],
      "execution_count": 0,
      "outputs": [
        {
          "output_type": "stream",
          "text": [
            "True\n"
          ],
          "name": "stdout"
        }
      ]
    },
    {
      "cell_type": "code",
      "metadata": {
        "id": "ReYOo1LQeQpd",
        "colab_type": "code",
        "colab": {}
      },
      "source": [
        "train_preds.grad # we have not done any back propagation and hence no values have been given to the gradients"
      ],
      "execution_count": 0,
      "outputs": []
    },
    {
      "cell_type": "code",
      "metadata": {
        "id": "1ThovHwaeQms",
        "colab_type": "code",
        "outputId": "7f4cb402-61bf-4e90-d343-1e127e52eaeb",
        "colab": {
          "base_uri": "https://localhost:8080/",
          "height": 34
        }
      },
      "source": [
        "train_preds.grad_fn # the graph is being tracked"
      ],
      "execution_count": 0,
      "outputs": [
        {
          "output_type": "execute_result",
          "data": {
            "text/plain": [
              "<CatBackward at 0x7fb0fa7c5d68>"
            ]
          },
          "metadata": {
            "tags": []
          },
          "execution_count": 98
        }
      ]
    },
    {
      "cell_type": "code",
      "metadata": {
        "id": "i_ZuHZ0aflBI",
        "colab_type": "code",
        "colab": {}
      },
      "source": [
        "with torch.no_grad(): #turning off gradient tracking locally\n",
        "  prediction_loader = torch.utils.data.DataLoader(train_set, batch_size=10000)\n",
        "  train_preds = get_all_preds(network, prediction_loader)"
      ],
      "execution_count": 0,
      "outputs": []
    },
    {
      "cell_type": "code",
      "metadata": {
        "id": "omUn4cEpf2s0",
        "colab_type": "code",
        "outputId": "64739b08-aa5c-4793-8b0e-fd7a96d367a5",
        "colab": {
          "base_uri": "https://localhost:8080/",
          "height": 34
        }
      },
      "source": [
        "print(train_preds.requires_grad)"
      ],
      "execution_count": 0,
      "outputs": [
        {
          "output_type": "stream",
          "text": [
            "False\n"
          ],
          "name": "stdout"
        }
      ]
    },
    {
      "cell_type": "code",
      "metadata": {
        "id": "vQ0un0HYf8Ap",
        "colab_type": "code",
        "colab": {}
      },
      "source": [
        "train_preds.grad"
      ],
      "execution_count": 0,
      "outputs": []
    },
    {
      "cell_type": "code",
      "metadata": {
        "id": "T9J-jmHef-Vr",
        "colab_type": "code",
        "colab": {}
      },
      "source": [
        "train_preds.grad_fn #nothing returned"
      ],
      "execution_count": 0,
      "outputs": []
    },
    {
      "cell_type": "code",
      "metadata": {
        "id": "z_uXja_UgCm-",
        "colab_type": "code",
        "outputId": "8ae54152-72c0-4152-9601-069ba9d9bd83",
        "colab": {
          "base_uri": "https://localhost:8080/",
          "height": 51
        }
      },
      "source": [
        "preds_correct = get_num_correct(train_preds, train_set.targets)\n",
        "\n",
        "print('total correct: ', preds_correct)\n",
        "print('accuracy: ', preds_correct/len(train_set))"
      ],
      "execution_count": 0,
      "outputs": [
        {
          "output_type": "stream",
          "text": [
            "total correct:  52768\n",
            "accuracy:  0.8794666666666666\n"
          ],
          "name": "stdout"
        }
      ]
    },
    {
      "cell_type": "markdown",
      "metadata": {
        "id": "rDLSAKw4mEyi",
        "colab_type": "text"
      },
      "source": [
        "##Building a confusion matrix"
      ]
    },
    {
      "cell_type": "code",
      "metadata": {
        "id": "zD5N-eC5hNu9",
        "colab_type": "code",
        "outputId": "b687c248-5eef-4c6f-9273-5d160b71d680",
        "colab": {
          "base_uri": "https://localhost:8080/",
          "height": 34
        }
      },
      "source": [
        "train_set.targets"
      ],
      "execution_count": 0,
      "outputs": [
        {
          "output_type": "execute_result",
          "data": {
            "text/plain": [
              "tensor([9, 0, 0,  ..., 3, 0, 5])"
            ]
          },
          "metadata": {
            "tags": []
          },
          "execution_count": 104
        }
      ]
    },
    {
      "cell_type": "code",
      "metadata": {
        "id": "YOYcV4KSmy7D",
        "colab_type": "code",
        "outputId": "81ed8c66-d91e-4de5-ba78-42f7246bf287",
        "colab": {
          "base_uri": "https://localhost:8080/",
          "height": 34
        }
      },
      "source": [
        "train_preds.argmax(dim=1)"
      ],
      "execution_count": 0,
      "outputs": [
        {
          "output_type": "execute_result",
          "data": {
            "text/plain": [
              "tensor([9, 0, 0,  ..., 3, 0, 5])"
            ]
          },
          "metadata": {
            "tags": []
          },
          "execution_count": 105
        }
      ]
    },
    {
      "cell_type": "code",
      "metadata": {
        "id": "9q9U_D2km3VO",
        "colab_type": "code",
        "colab": {}
      },
      "source": [
        "# pair up target labels and prediction labels\n",
        "stacked = torch.stack(\n",
        "    (\n",
        "        train_set.targets, train_preds.argmax(dim=1)\n",
        "    ), dim = 1\n",
        ")"
      ],
      "execution_count": 0,
      "outputs": []
    },
    {
      "cell_type": "code",
      "metadata": {
        "id": "g7W1TRROneLP",
        "colab_type": "code",
        "outputId": "b33963d7-ff5b-4a8a-f433-cd0d16b84314",
        "colab": {
          "base_uri": "https://localhost:8080/",
          "height": 34
        }
      },
      "source": [
        "stacked.shape"
      ],
      "execution_count": 0,
      "outputs": [
        {
          "output_type": "execute_result",
          "data": {
            "text/plain": [
              "torch.Size([60000, 2])"
            ]
          },
          "metadata": {
            "tags": []
          },
          "execution_count": 108
        }
      ]
    },
    {
      "cell_type": "code",
      "metadata": {
        "id": "rlbT0I5Znh-e",
        "colab_type": "code",
        "outputId": "6ad323f7-a0bc-4bd3-b1dd-6a79923afc32",
        "colab": {
          "base_uri": "https://localhost:8080/",
          "height": 136
        }
      },
      "source": [
        "stacked"
      ],
      "execution_count": 0,
      "outputs": [
        {
          "output_type": "execute_result",
          "data": {
            "text/plain": [
              "tensor([[9, 9],\n",
              "        [0, 0],\n",
              "        [0, 0],\n",
              "        ...,\n",
              "        [3, 3],\n",
              "        [0, 0],\n",
              "        [5, 5]])"
            ]
          },
          "metadata": {
            "tags": []
          },
          "execution_count": 109
        }
      ]
    },
    {
      "cell_type": "code",
      "metadata": {
        "id": "GaJUfMXInnn4",
        "colab_type": "code",
        "outputId": "b2a8f702-912c-4026-a826-604b907ba066",
        "colab": {
          "base_uri": "https://localhost:8080/",
          "height": 34
        }
      },
      "source": [
        "stacked[0].tolist()"
      ],
      "execution_count": 0,
      "outputs": [
        {
          "output_type": "execute_result",
          "data": {
            "text/plain": [
              "[9, 9]"
            ]
          },
          "metadata": {
            "tags": []
          },
          "execution_count": 110
        }
      ]
    },
    {
      "cell_type": "code",
      "metadata": {
        "id": "e23jgy_Dnn5M",
        "colab_type": "code",
        "outputId": "45e464f5-3c30-4ad7-e6b4-42e437b2b75c",
        "colab": {
          "base_uri": "https://localhost:8080/",
          "height": 187
        }
      },
      "source": [
        "cmt = torch.zeros(10,10, dtype=torch.int64)\n",
        "cmt"
      ],
      "execution_count": 0,
      "outputs": [
        {
          "output_type": "execute_result",
          "data": {
            "text/plain": [
              "tensor([[0, 0, 0, 0, 0, 0, 0, 0, 0, 0],\n",
              "        [0, 0, 0, 0, 0, 0, 0, 0, 0, 0],\n",
              "        [0, 0, 0, 0, 0, 0, 0, 0, 0, 0],\n",
              "        [0, 0, 0, 0, 0, 0, 0, 0, 0, 0],\n",
              "        [0, 0, 0, 0, 0, 0, 0, 0, 0, 0],\n",
              "        [0, 0, 0, 0, 0, 0, 0, 0, 0, 0],\n",
              "        [0, 0, 0, 0, 0, 0, 0, 0, 0, 0],\n",
              "        [0, 0, 0, 0, 0, 0, 0, 0, 0, 0],\n",
              "        [0, 0, 0, 0, 0, 0, 0, 0, 0, 0],\n",
              "        [0, 0, 0, 0, 0, 0, 0, 0, 0, 0]])"
            ]
          },
          "metadata": {
            "tags": []
          },
          "execution_count": 111
        }
      ]
    },
    {
      "cell_type": "code",
      "metadata": {
        "id": "Y9X6_9MVn9cq",
        "colab_type": "code",
        "colab": {}
      },
      "source": [
        "for p in stacked:\n",
        "  j, k =p.tolist()\n",
        "  cmt[j,k] = cmt[j,k]+1"
      ],
      "execution_count": 0,
      "outputs": []
    },
    {
      "cell_type": "code",
      "metadata": {
        "id": "fTfFNsTboHD2",
        "colab_type": "code",
        "outputId": "519e0c22-93f2-4e0d-927b-4e9e06a44fa7",
        "colab": {
          "base_uri": "https://localhost:8080/",
          "height": 187
        }
      },
      "source": [
        "cmt"
      ],
      "execution_count": 0,
      "outputs": [
        {
          "output_type": "execute_result",
          "data": {
            "text/plain": [
              "tensor([[5587,   25,   67,  110,   13,    3,  139,    0,   56,    0],\n",
              "        [   5, 5886,    1,   89,    1,    1,    8,    0,    9,    0],\n",
              "        [  96,    2, 5026,   53,  499,    2,  264,    0,   58,    0],\n",
              "        [ 274,   58,   17, 5403,  164,    0,   67,    0,   17,    0],\n",
              "        [  15,    7,  566,  241, 4626,    0,  468,    1,   76,    0],\n",
              "        [   7,    0,    0,    0,    0, 5585,    0,  259,   33,  116],\n",
              "        [1549,   14,  583,  128,  385,    1, 3177,    2,  161,    0],\n",
              "        [   0,    0,    0,    0,    0,    9,    0, 5755,   18,  218],\n",
              "        [  12,    5,   16,   20,   15,    6,   13,    9, 5886,   18],\n",
              "        [   0,    0,    0,    0,    0,    9,    0,  152,    2, 5837]])"
            ]
          },
          "metadata": {
            "tags": []
          },
          "execution_count": 113
        }
      ]
    },
    {
      "cell_type": "markdown",
      "metadata": {
        "id": "QCcjjwrLoJ6U",
        "colab_type": "text"
      },
      "source": [
        "##Plotting a confusion matrix"
      ]
    },
    {
      "cell_type": "code",
      "metadata": {
        "id": "r9n-K3HwoqiI",
        "colab_type": "code",
        "outputId": "b5002330-ba4c-4b73-9677-d469a637289f",
        "colab": {
          "base_uri": "https://localhost:8080/",
          "height": 359
        }
      },
      "source": [
        "cmt_pd = pd.DataFrame(cmt.numpy())\n",
        "cmt_pd"
      ],
      "execution_count": 0,
      "outputs": [
        {
          "output_type": "execute_result",
          "data": {
            "text/html": [
              "<div>\n",
              "<style scoped>\n",
              "    .dataframe tbody tr th:only-of-type {\n",
              "        vertical-align: middle;\n",
              "    }\n",
              "\n",
              "    .dataframe tbody tr th {\n",
              "        vertical-align: top;\n",
              "    }\n",
              "\n",
              "    .dataframe thead th {\n",
              "        text-align: right;\n",
              "    }\n",
              "</style>\n",
              "<table border=\"1\" class=\"dataframe\">\n",
              "  <thead>\n",
              "    <tr style=\"text-align: right;\">\n",
              "      <th></th>\n",
              "      <th>0</th>\n",
              "      <th>1</th>\n",
              "      <th>2</th>\n",
              "      <th>3</th>\n",
              "      <th>4</th>\n",
              "      <th>5</th>\n",
              "      <th>6</th>\n",
              "      <th>7</th>\n",
              "      <th>8</th>\n",
              "      <th>9</th>\n",
              "    </tr>\n",
              "  </thead>\n",
              "  <tbody>\n",
              "    <tr>\n",
              "      <th>0</th>\n",
              "      <td>5587</td>\n",
              "      <td>25</td>\n",
              "      <td>67</td>\n",
              "      <td>110</td>\n",
              "      <td>13</td>\n",
              "      <td>3</td>\n",
              "      <td>139</td>\n",
              "      <td>0</td>\n",
              "      <td>56</td>\n",
              "      <td>0</td>\n",
              "    </tr>\n",
              "    <tr>\n",
              "      <th>1</th>\n",
              "      <td>5</td>\n",
              "      <td>5886</td>\n",
              "      <td>1</td>\n",
              "      <td>89</td>\n",
              "      <td>1</td>\n",
              "      <td>1</td>\n",
              "      <td>8</td>\n",
              "      <td>0</td>\n",
              "      <td>9</td>\n",
              "      <td>0</td>\n",
              "    </tr>\n",
              "    <tr>\n",
              "      <th>2</th>\n",
              "      <td>96</td>\n",
              "      <td>2</td>\n",
              "      <td>5026</td>\n",
              "      <td>53</td>\n",
              "      <td>499</td>\n",
              "      <td>2</td>\n",
              "      <td>264</td>\n",
              "      <td>0</td>\n",
              "      <td>58</td>\n",
              "      <td>0</td>\n",
              "    </tr>\n",
              "    <tr>\n",
              "      <th>3</th>\n",
              "      <td>274</td>\n",
              "      <td>58</td>\n",
              "      <td>17</td>\n",
              "      <td>5403</td>\n",
              "      <td>164</td>\n",
              "      <td>0</td>\n",
              "      <td>67</td>\n",
              "      <td>0</td>\n",
              "      <td>17</td>\n",
              "      <td>0</td>\n",
              "    </tr>\n",
              "    <tr>\n",
              "      <th>4</th>\n",
              "      <td>15</td>\n",
              "      <td>7</td>\n",
              "      <td>566</td>\n",
              "      <td>241</td>\n",
              "      <td>4626</td>\n",
              "      <td>0</td>\n",
              "      <td>468</td>\n",
              "      <td>1</td>\n",
              "      <td>76</td>\n",
              "      <td>0</td>\n",
              "    </tr>\n",
              "    <tr>\n",
              "      <th>5</th>\n",
              "      <td>7</td>\n",
              "      <td>0</td>\n",
              "      <td>0</td>\n",
              "      <td>0</td>\n",
              "      <td>0</td>\n",
              "      <td>5585</td>\n",
              "      <td>0</td>\n",
              "      <td>259</td>\n",
              "      <td>33</td>\n",
              "      <td>116</td>\n",
              "    </tr>\n",
              "    <tr>\n",
              "      <th>6</th>\n",
              "      <td>1549</td>\n",
              "      <td>14</td>\n",
              "      <td>583</td>\n",
              "      <td>128</td>\n",
              "      <td>385</td>\n",
              "      <td>1</td>\n",
              "      <td>3177</td>\n",
              "      <td>2</td>\n",
              "      <td>161</td>\n",
              "      <td>0</td>\n",
              "    </tr>\n",
              "    <tr>\n",
              "      <th>7</th>\n",
              "      <td>0</td>\n",
              "      <td>0</td>\n",
              "      <td>0</td>\n",
              "      <td>0</td>\n",
              "      <td>0</td>\n",
              "      <td>9</td>\n",
              "      <td>0</td>\n",
              "      <td>5755</td>\n",
              "      <td>18</td>\n",
              "      <td>218</td>\n",
              "    </tr>\n",
              "    <tr>\n",
              "      <th>8</th>\n",
              "      <td>12</td>\n",
              "      <td>5</td>\n",
              "      <td>16</td>\n",
              "      <td>20</td>\n",
              "      <td>15</td>\n",
              "      <td>6</td>\n",
              "      <td>13</td>\n",
              "      <td>9</td>\n",
              "      <td>5886</td>\n",
              "      <td>18</td>\n",
              "    </tr>\n",
              "    <tr>\n",
              "      <th>9</th>\n",
              "      <td>0</td>\n",
              "      <td>0</td>\n",
              "      <td>0</td>\n",
              "      <td>0</td>\n",
              "      <td>0</td>\n",
              "      <td>9</td>\n",
              "      <td>0</td>\n",
              "      <td>152</td>\n",
              "      <td>2</td>\n",
              "      <td>5837</td>\n",
              "    </tr>\n",
              "  </tbody>\n",
              "</table>\n",
              "</div>"
            ],
            "text/plain": [
              "      0     1     2     3     4     5     6     7     8     9\n",
              "0  5587    25    67   110    13     3   139     0    56     0\n",
              "1     5  5886     1    89     1     1     8     0     9     0\n",
              "2    96     2  5026    53   499     2   264     0    58     0\n",
              "3   274    58    17  5403   164     0    67     0    17     0\n",
              "4    15     7   566   241  4626     0   468     1    76     0\n",
              "5     7     0     0     0     0  5585     0   259    33   116\n",
              "6  1549    14   583   128   385     1  3177     2   161     0\n",
              "7     0     0     0     0     0     9     0  5755    18   218\n",
              "8    12     5    16    20    15     6    13     9  5886    18\n",
              "9     0     0     0     0     0     9     0   152     2  5837"
            ]
          },
          "metadata": {
            "tags": []
          },
          "execution_count": 115
        }
      ]
    },
    {
      "cell_type": "code",
      "metadata": {
        "id": "J1nYL8wZq1df",
        "colab_type": "code",
        "outputId": "9049dfef-d9d9-4d76-db6e-bb7d45f2a46b",
        "colab": {
          "base_uri": "https://localhost:8080/",
          "height": 282
        }
      },
      "source": [
        "import seaborn as sns\n",
        "sns.heatmap(cmt_pd, annot = True, fmt=\"d\", cmap=\"YlGnBu\")"
      ],
      "execution_count": 0,
      "outputs": [
        {
          "output_type": "execute_result",
          "data": {
            "text/plain": [
              "<matplotlib.axes._subplots.AxesSubplot at 0x7fb0db88c278>"
            ]
          },
          "metadata": {
            "tags": []
          },
          "execution_count": 120
        },
        {
          "output_type": "display_data",
          "data": {
            "image/png": "[encoded data removed]",
            "text/plain": [
              "<Figure size 432x288 with 2 Axes>"
            ]
          },
          "metadata": {
            "tags": []
          }
        }
      ]
    },
    {
      "cell_type": "markdown",
      "metadata": {
        "id": "BksOF81vsP3H",
        "colab_type": "text"
      },
      "source": [
        "#Stack vs Concat in Pytorch\n",
        "\n",
        "*   Concatenating joins a sequence of tensors along an existing axis\n",
        "*   Stacking joins a sequence of tensors along a new axis\n",
        "\n"
      ]
    },
    {
      "cell_type": "code",
      "metadata": {
        "id": "zsF1N1IKsTuE",
        "colab_type": "code",
        "colab": {}
      },
      "source": [
        "t1 = torch.tensor([1,1,1]) # create a rank 1 tensor"
      ],
      "execution_count": 0,
      "outputs": []
    },
    {
      "cell_type": "code",
      "metadata": {
        "id": "b5DNjz0zxcYT",
        "colab_type": "code",
        "outputId": "ae855caa-a187-475c-d898-e5e333e032b0",
        "colab": {
          "base_uri": "https://localhost:8080/",
          "height": 34
        }
      },
      "source": [
        "t1.unsqueeze(dim=0) # add a dimension at dim = 0, a new tensor with shape 1x3, we have a rank 2 tensor"
      ],
      "execution_count": 0,
      "outputs": [
        {
          "output_type": "execute_result",
          "data": {
            "text/plain": [
              "tensor([[1, 1, 1]])"
            ]
          },
          "metadata": {
            "tags": []
          },
          "execution_count": 122
        }
      ]
    },
    {
      "cell_type": "code",
      "metadata": {
        "id": "YeHrXoyfxtKF",
        "colab_type": "code",
        "outputId": "9d73de10-a210-40d0-9cd8-2ec884f8c8d3",
        "colab": {
          "base_uri": "https://localhost:8080/",
          "height": 68
        }
      },
      "source": [
        "t1.unsqueeze(dim = 1) # add a dim at dim=1, a new tensor with shape 3x1"
      ],
      "execution_count": 0,
      "outputs": [
        {
          "output_type": "execute_result",
          "data": {
            "text/plain": [
              "tensor([[1],\n",
              "        [1],\n",
              "        [1]])"
            ]
          },
          "metadata": {
            "tags": []
          },
          "execution_count": 123
        }
      ]
    },
    {
      "cell_type": "code",
      "metadata": {
        "id": "jAEOMB3gx0yH",
        "colab_type": "code",
        "outputId": "751361e0-f0d4-41cd-d487-7ce4243b2af7",
        "colab": {
          "base_uri": "https://localhost:8080/",
          "height": 68
        }
      },
      "source": [
        "print(t1.shape)\n",
        "print(t1.unsqueeze(dim=0).shape)\n",
        "print(t1.unsqueeze(dim=1).shape)"
      ],
      "execution_count": 0,
      "outputs": [
        {
          "output_type": "stream",
          "text": [
            "torch.Size([3])\n",
            "torch.Size([1, 3])\n",
            "torch.Size([3, 1])\n"
          ],
          "name": "stdout"
        }
      ]
    },
    {
      "cell_type": "markdown",
      "metadata": {
        "id": "_1zPr2FRyAIO",
        "colab_type": "text"
      },
      "source": [
        "##PyTorch: stack vs cat"
      ]
    },
    {
      "cell_type": "code",
      "metadata": {
        "id": "-Hv6JxHhx-AL",
        "colab_type": "code",
        "colab": {}
      },
      "source": [
        "# 3 tensors with single axis\n",
        "t1 = torch.tensor([1,1,1])\n",
        "t2 = torch.tensor([2,2,2])\n",
        "t3 = torch.tensor([3,3,3])"
      ],
      "execution_count": 0,
      "outputs": []
    },
    {
      "cell_type": "code",
      "metadata": {
        "id": "a9t2EDyhyMUB",
        "colab_type": "code",
        "outputId": "471c4ae0-6199-4974-adaa-ede192617c98",
        "colab": {
          "base_uri": "https://localhost:8080/",
          "height": 34
        }
      },
      "source": [
        "torch.cat((t1,t2,t3), dim = 0) #concatenate happens for the single existing axis"
      ],
      "execution_count": 0,
      "outputs": [
        {
          "output_type": "execute_result",
          "data": {
            "text/plain": [
              "tensor([1, 1, 1, 2, 2, 2, 3, 3, 3])"
            ]
          },
          "metadata": {
            "tags": []
          },
          "execution_count": 126
        }
      ]
    },
    {
      "cell_type": "code",
      "metadata": {
        "id": "4_XyQRKryb7y",
        "colab_type": "code",
        "outputId": "1e1192ea-7d73-4b64-c8f5-f56154115d23",
        "colab": {
          "base_uri": "https://localhost:8080/",
          "height": 68
        }
      },
      "source": [
        "torch.stack((t1,t2,t3), dim=0) # a new tensor with shape 3x3"
      ],
      "execution_count": 0,
      "outputs": [
        {
          "output_type": "execute_result",
          "data": {
            "text/plain": [
              "tensor([[1, 1, 1],\n",
              "        [2, 2, 2],\n",
              "        [3, 3, 3]])"
            ]
          },
          "metadata": {
            "tags": []
          },
          "execution_count": 127
        }
      ]
    },
    {
      "cell_type": "code",
      "metadata": {
        "id": "HTCnF780yqL7",
        "colab_type": "code",
        "outputId": "7bf19dac-2e60-400d-86e4-c85bd954a88e",
        "colab": {
          "base_uri": "https://localhost:8080/",
          "height": 68
        }
      },
      "source": [
        "# add a new axis to each tensor, and concatenate them along the new axis\n",
        "torch.cat(\n",
        "    (\n",
        "        t1.unsqueeze(0), t2.unsqueeze(0), t3.unsqueeze(0)\n",
        "    ), dim = 0\n",
        ")"
      ],
      "execution_count": 0,
      "outputs": [
        {
          "output_type": "execute_result",
          "data": {
            "text/plain": [
              "tensor([[1, 1, 1],\n",
              "        [2, 2, 2],\n",
              "        [3, 3, 3]])"
            ]
          },
          "metadata": {
            "tags": []
          },
          "execution_count": 128
        }
      ]
    },
    {
      "cell_type": "code",
      "metadata": {
        "id": "SBYxpczTy8X4",
        "colab_type": "code",
        "outputId": "7f0d2da4-f4d4-4e62-c470-8a7c0a045008",
        "colab": {
          "base_uri": "https://localhost:8080/",
          "height": 68
        }
      },
      "source": [
        "torch.stack((t1,t2,t3), dim=1) # a new tensor with shape 3x3"
      ],
      "execution_count": 0,
      "outputs": [
        {
          "output_type": "execute_result",
          "data": {
            "text/plain": [
              "tensor([[1, 2, 3],\n",
              "        [1, 2, 3],\n",
              "        [1, 2, 3]])"
            ]
          },
          "metadata": {
            "tags": []
          },
          "execution_count": 129
        }
      ]
    },
    {
      "cell_type": "code",
      "metadata": {
        "id": "m4BdLWQqzXxU",
        "colab_type": "code",
        "outputId": "c124031a-981b-414b-b348-5b5226f22ee9",
        "colab": {
          "base_uri": "https://localhost:8080/",
          "height": 68
        }
      },
      "source": [
        "torch.cat(\n",
        "    (\n",
        "        t1.unsqueeze(1), t2.unsqueeze(1), t3.unsqueeze(1)\n",
        "    ), dim=1\n",
        ")"
      ],
      "execution_count": 0,
      "outputs": [
        {
          "output_type": "execute_result",
          "data": {
            "text/plain": [
              "tensor([[1, 2, 3],\n",
              "        [1, 2, 3],\n",
              "        [1, 2, 3]])"
            ]
          },
          "metadata": {
            "tags": []
          },
          "execution_count": 130
        }
      ]
    },
    {
      "cell_type": "markdown",
      "metadata": {
        "id": "K5xDMj4zzmXK",
        "colab_type": "text"
      },
      "source": [
        "#TensorBoard with PyTorch"
      ]
    },
    {
      "cell_type": "code",
      "metadata": {
        "id": "uMpYAppmzrrb",
        "colab_type": "code",
        "colab": {}
      },
      "source": [
        "from torch.utils.tensorboard import SummaryWriter"
      ],
      "execution_count": 0,
      "outputs": []
    },
    {
      "cell_type": "code",
      "metadata": {
        "id": "ehNGPt-Cz5Hh",
        "colab_type": "code",
        "outputId": "8b0d1d0c-f511-4260-da89-7f8a53766716",
        "colab": {
          "base_uri": "https://localhost:8080/",
          "height": 34
        }
      },
      "source": [
        "!tensorboard --version"
      ],
      "execution_count": 0,
      "outputs": [
        {
          "output_type": "stream",
          "text": [
            "1.15.0\n"
          ],
          "name": "stdout"
        }
      ]
    },
    {
      "cell_type": "code",
      "metadata": {
        "id": "iXv_uBY60Sfq",
        "colab_type": "code",
        "outputId": "af71d9cc-1898-4c6f-8572-010e1f19a1ab",
        "colab": {
          "base_uri": "https://localhost:8080/",
          "height": 63
        }
      },
      "source": [
        "writer = SummaryWriter('logs/expt1')"
      ],
      "execution_count": 0,
      "outputs": [
        {
          "output_type": "display_data",
          "data": {
            "text/html": [
              "<p style=\"color: red;\">\n",
              "The default version of TensorFlow in Colab will soon switch to TensorFlow 2.x.<br>\n",
              "We recommend you <a href=\"https://www.tensorflow.org/guide/migrate\" target=\"_blank\">upgrade</a> now \n",
              "or ensure your notebook will continue to use TensorFlow 1.x via the <code>%tensorflow_version 1.x</code> magic:\n",
              "<a href=\"https://colab.research.google.com/notebooks/tensorflow_version.ipynb\" target=\"_blank\">more info</a>.</p>\n"
            ],
            "text/plain": [
              "<IPython.core.display.HTML object>"
            ]
          },
          "metadata": {
            "tags": []
          }
        }
      ]
    },
    {
      "cell_type": "code",
      "metadata": {
        "id": "n7plTDBw0jrj",
        "colab_type": "code",
        "outputId": "0ba2766b-812b-4103-d9f4-f42bd00802ee",
        "colab": {
          "base_uri": "https://localhost:8080/",
          "height": 34
        }
      },
      "source": [
        "!ls"
      ],
      "execution_count": 0,
      "outputs": [
        {
          "output_type": "stream",
          "text": [
            "data  logs  sample_data\n"
          ],
          "name": "stdout"
        }
      ]
    },
    {
      "cell_type": "code",
      "metadata": {
        "id": "P8VTFYJc789Q",
        "colab_type": "code",
        "outputId": "4674e153-c004-4919-dde1-356980a097e9",
        "colab": {
          "base_uri": "https://localhost:8080/",
          "height": 1000
        }
      },
      "source": [
        "dir(torchvision.models)"
      ],
      "execution_count": 0,
      "outputs": [
        {
          "output_type": "execute_result",
          "data": {
            "text/plain": [
              "['AlexNet',\n",
              " 'DenseNet',\n",
              " 'GoogLeNet',\n",
              " 'Inception3',\n",
              " 'MNASNet',\n",
              " 'MobileNetV2',\n",
              " 'ResNet',\n",
              " 'ShuffleNetV2',\n",
              " 'SqueezeNet',\n",
              " 'VGG',\n",
              " '__builtins__',\n",
              " '__cached__',\n",
              " '__doc__',\n",
              " '__file__',\n",
              " '__loader__',\n",
              " '__name__',\n",
              " '__package__',\n",
              " '__path__',\n",
              " '__spec__',\n",
              " '_utils',\n",
              " 'alexnet',\n",
              " 'densenet',\n",
              " 'densenet121',\n",
              " 'densenet161',\n",
              " 'densenet169',\n",
              " 'densenet201',\n",
              " 'detection',\n",
              " 'googlenet',\n",
              " 'inception',\n",
              " 'inception_v3',\n",
              " 'mnasnet',\n",
              " 'mnasnet0_5',\n",
              " 'mnasnet0_75',\n",
              " 'mnasnet1_0',\n",
              " 'mnasnet1_3',\n",
              " 'mobilenet',\n",
              " 'mobilenet_v2',\n",
              " 'resnet',\n",
              " 'resnet101',\n",
              " 'resnet152',\n",
              " 'resnet18',\n",
              " 'resnet34',\n",
              " 'resnet50',\n",
              " 'resnext101_32x8d',\n",
              " 'resnext50_32x4d',\n",
              " 'segmentation',\n",
              " 'shufflenet_v2_x0_5',\n",
              " 'shufflenet_v2_x1_0',\n",
              " 'shufflenet_v2_x1_5',\n",
              " 'shufflenet_v2_x2_0',\n",
              " 'shufflenetv2',\n",
              " 'squeezenet',\n",
              " 'squeezenet1_0',\n",
              " 'squeezenet1_1',\n",
              " 'utils',\n",
              " 'vgg',\n",
              " 'vgg11',\n",
              " 'vgg11_bn',\n",
              " 'vgg13',\n",
              " 'vgg13_bn',\n",
              " 'vgg16',\n",
              " 'vgg16_bn',\n",
              " 'vgg19',\n",
              " 'vgg19_bn',\n",
              " 'video',\n",
              " 'wide_resnet101_2',\n",
              " 'wide_resnet50_2']"
            ]
          },
          "metadata": {
            "tags": []
          },
          "execution_count": 4
        }
      ]
    },
    {
      "cell_type": "code",
      "metadata": {
        "id": "Fl6knRR9tEMz",
        "colab_type": "code",
        "colab": {
          "base_uri": "https://localhost:8080/",
          "height": 83,
          "referenced_widgets": [
            "63de2c474386429fa42b968b02312035",
            "e2b6d1ab8cbf4f8d98670fa66e939ddc",
            "3ccc728b53a34886a5a9f22477cce414",
            "fd3905356b7149daa3962e8d348724be",
            "60859badf2e54fe3a0627a6fec0d5428",
            "118905e1f23243a3a70c22b8ee9cf59a",
            "2367ea7b736e4d2db5c755df7ab9106f",
            "169bc9d8d5f54638a9c6d043abcb674e"
          ]
        },
        "outputId": "f96b2d22-53c6-4d08-a1f5-e3a8293da785"
      },
      "source": [
        "from torchvision import models\n",
        "model = models.resnet50(pretrained=True)"
      ],
      "execution_count": 3,
      "outputs": [
        {
          "output_type": "stream",
          "text": [
            "Downloading: \"https://download.pytorch.org/models/resnet50-19c8e357.pth\" to /root/.cache/torch/checkpoints/resnet50-19c8e357.pth\n"
          ],
          "name": "stderr"
        },
        {
          "output_type": "display_data",
          "data": {
            "application/vnd.jupyter.widget-view+json": {
              "model_id": "63de2c474386429fa42b968b02312035",
              "version_minor": 0,
              "version_major": 2
            },
            "text/plain": [
              "HBox(children=(FloatProgress(value=0.0, max=102502400.0), HTML(value='')))"
            ]
          },
          "metadata": {
            "tags": []
          }
        },
        {
          "output_type": "stream",
          "text": [
            "\n"
          ],
          "name": "stdout"
        }
      ]
    },
    {
      "cell_type": "code",
      "metadata": {
        "id": "eSUxX8FNuAvH",
        "colab_type": "code",
        "colab": {
          "base_uri": "https://localhost:8080/",
          "height": 34
        },
        "outputId": "996c8a15-c01e-4476-f1f9-810fc1954fda"
      },
      "source": [
        "model.fc"
      ],
      "execution_count": 8,
      "outputs": [
        {
          "output_type": "execute_result",
          "data": {
            "text/plain": [
              "Linear(in_features=2048, out_features=1000, bias=True)"
            ]
          },
          "metadata": {
            "tags": []
          },
          "execution_count": 8
        }
      ]
    },
    {
      "cell_type": "code",
      "metadata": {
        "id": "OMxTBabdxQ8I",
        "colab_type": "code",
        "colab": {}
      },
      "source": [
        ""
      ],
      "execution_count": 0,
      "outputs": []
    },
    {
      "cell_type": "code",
      "metadata": {
        "id": "MRVQMzT2tgfl",
        "colab_type": "code",
        "colab": {
          "base_uri": "https://localhost:8080/",
          "height": 1000
        },
        "outputId": "e9a6df93-aff6-4932-d869-5e7f8ba16ef0"
      },
      "source": [
        "for name, param in model.named_parameters():\n",
        "  print(name, '\\t\\t', param.shape)"
      ],
      "execution_count": 5,
      "outputs": [
        {
          "output_type": "stream",
          "text": [
            "conv1.weight \t\t torch.Size([64, 3, 7, 7])\n",
            "bn1.weight \t\t torch.Size([64])\n",
            "bn1.bias \t\t torch.Size([64])\n",
            "layer1.0.conv1.weight \t\t torch.Size([64, 64, 1, 1])\n",
            "layer1.0.bn1.weight \t\t torch.Size([64])\n",
            "layer1.0.bn1.bias \t\t torch.Size([64])\n",
            "layer1.0.conv2.weight \t\t torch.Size([64, 64, 3, 3])\n",
            "layer1.0.bn2.weight \t\t torch.Size([64])\n",
            "layer1.0.bn2.bias \t\t torch.Size([64])\n",
            "layer1.0.conv3.weight \t\t torch.Size([256, 64, 1, 1])\n",
            "layer1.0.bn3.weight \t\t torch.Size([256])\n",
            "layer1.0.bn3.bias \t\t torch.Size([256])\n",
            "layer1.0.downsample.0.weight \t\t torch.Size([256, 64, 1, 1])\n",
            "layer1.0.downsample.1.weight \t\t torch.Size([256])\n",
            "layer1.0.downsample.1.bias \t\t torch.Size([256])\n",
            "layer1.1.conv1.weight \t\t torch.Size([64, 256, 1, 1])\n",
            "layer1.1.bn1.weight \t\t torch.Size([64])\n",
            "layer1.1.bn1.bias \t\t torch.Size([64])\n",
            "layer1.1.conv2.weight \t\t torch.Size([64, 64, 3, 3])\n",
            "layer1.1.bn2.weight \t\t torch.Size([64])\n",
            "layer1.1.bn2.bias \t\t torch.Size([64])\n",
            "layer1.1.conv3.weight \t\t torch.Size([256, 64, 1, 1])\n",
            "layer1.1.bn3.weight \t\t torch.Size([256])\n",
            "layer1.1.bn3.bias \t\t torch.Size([256])\n",
            "layer1.2.conv1.weight \t\t torch.Size([64, 256, 1, 1])\n",
            "layer1.2.bn1.weight \t\t torch.Size([64])\n",
            "layer1.2.bn1.bias \t\t torch.Size([64])\n",
            "layer1.2.conv2.weight \t\t torch.Size([64, 64, 3, 3])\n",
            "layer1.2.bn2.weight \t\t torch.Size([64])\n",
            "layer1.2.bn2.bias \t\t torch.Size([64])\n",
            "layer1.2.conv3.weight \t\t torch.Size([256, 64, 1, 1])\n",
            "layer1.2.bn3.weight \t\t torch.Size([256])\n",
            "layer1.2.bn3.bias \t\t torch.Size([256])\n",
            "layer2.0.conv1.weight \t\t torch.Size([128, 256, 1, 1])\n",
            "layer2.0.bn1.weight \t\t torch.Size([128])\n",
            "layer2.0.bn1.bias \t\t torch.Size([128])\n",
            "layer2.0.conv2.weight \t\t torch.Size([128, 128, 3, 3])\n",
            "layer2.0.bn2.weight \t\t torch.Size([128])\n",
            "layer2.0.bn2.bias \t\t torch.Size([128])\n",
            "layer2.0.conv3.weight \t\t torch.Size([512, 128, 1, 1])\n",
            "layer2.0.bn3.weight \t\t torch.Size([512])\n",
            "layer2.0.bn3.bias \t\t torch.Size([512])\n",
            "layer2.0.downsample.0.weight \t\t torch.Size([512, 256, 1, 1])\n",
            "layer2.0.downsample.1.weight \t\t torch.Size([512])\n",
            "layer2.0.downsample.1.bias \t\t torch.Size([512])\n",
            "layer2.1.conv1.weight \t\t torch.Size([128, 512, 1, 1])\n",
            "layer2.1.bn1.weight \t\t torch.Size([128])\n",
            "layer2.1.bn1.bias \t\t torch.Size([128])\n",
            "layer2.1.conv2.weight \t\t torch.Size([128, 128, 3, 3])\n",
            "layer2.1.bn2.weight \t\t torch.Size([128])\n",
            "layer2.1.bn2.bias \t\t torch.Size([128])\n",
            "layer2.1.conv3.weight \t\t torch.Size([512, 128, 1, 1])\n",
            "layer2.1.bn3.weight \t\t torch.Size([512])\n",
            "layer2.1.bn3.bias \t\t torch.Size([512])\n",
            "layer2.2.conv1.weight \t\t torch.Size([128, 512, 1, 1])\n",
            "layer2.2.bn1.weight \t\t torch.Size([128])\n",
            "layer2.2.bn1.bias \t\t torch.Size([128])\n",
            "layer2.2.conv2.weight \t\t torch.Size([128, 128, 3, 3])\n",
            "layer2.2.bn2.weight \t\t torch.Size([128])\n",
            "layer2.2.bn2.bias \t\t torch.Size([128])\n",
            "layer2.2.conv3.weight \t\t torch.Size([512, 128, 1, 1])\n",
            "layer2.2.bn3.weight \t\t torch.Size([512])\n",
            "layer2.2.bn3.bias \t\t torch.Size([512])\n",
            "layer2.3.conv1.weight \t\t torch.Size([128, 512, 1, 1])\n",
            "layer2.3.bn1.weight \t\t torch.Size([128])\n",
            "layer2.3.bn1.bias \t\t torch.Size([128])\n",
            "layer2.3.conv2.weight \t\t torch.Size([128, 128, 3, 3])\n",
            "layer2.3.bn2.weight \t\t torch.Size([128])\n",
            "layer2.3.bn2.bias \t\t torch.Size([128])\n",
            "layer2.3.conv3.weight \t\t torch.Size([512, 128, 1, 1])\n",
            "layer2.3.bn3.weight \t\t torch.Size([512])\n",
            "layer2.3.bn3.bias \t\t torch.Size([512])\n",
            "layer3.0.conv1.weight \t\t torch.Size([256, 512, 1, 1])\n",
            "layer3.0.bn1.weight \t\t torch.Size([256])\n",
            "layer3.0.bn1.bias \t\t torch.Size([256])\n",
            "layer3.0.conv2.weight \t\t torch.Size([256, 256, 3, 3])\n",
            "layer3.0.bn2.weight \t\t torch.Size([256])\n",
            "layer3.0.bn2.bias \t\t torch.Size([256])\n",
            "layer3.0.conv3.weight \t\t torch.Size([1024, 256, 1, 1])\n",
            "layer3.0.bn3.weight \t\t torch.Size([1024])\n",
            "layer3.0.bn3.bias \t\t torch.Size([1024])\n",
            "layer3.0.downsample.0.weight \t\t torch.Size([1024, 512, 1, 1])\n",
            "layer3.0.downsample.1.weight \t\t torch.Size([1024])\n",
            "layer3.0.downsample.1.bias \t\t torch.Size([1024])\n",
            "layer3.1.conv1.weight \t\t torch.Size([256, 1024, 1, 1])\n",
            "layer3.1.bn1.weight \t\t torch.Size([256])\n",
            "layer3.1.bn1.bias \t\t torch.Size([256])\n",
            "layer3.1.conv2.weight \t\t torch.Size([256, 256, 3, 3])\n",
            "layer3.1.bn2.weight \t\t torch.Size([256])\n",
            "layer3.1.bn2.bias \t\t torch.Size([256])\n",
            "layer3.1.conv3.weight \t\t torch.Size([1024, 256, 1, 1])\n",
            "layer3.1.bn3.weight \t\t torch.Size([1024])\n",
            "layer3.1.bn3.bias \t\t torch.Size([1024])\n",
            "layer3.2.conv1.weight \t\t torch.Size([256, 1024, 1, 1])\n",
            "layer3.2.bn1.weight \t\t torch.Size([256])\n",
            "layer3.2.bn1.bias \t\t torch.Size([256])\n",
            "layer3.2.conv2.weight \t\t torch.Size([256, 256, 3, 3])\n",
            "layer3.2.bn2.weight \t\t torch.Size([256])\n",
            "layer3.2.bn2.bias \t\t torch.Size([256])\n",
            "layer3.2.conv3.weight \t\t torch.Size([1024, 256, 1, 1])\n",
            "layer3.2.bn3.weight \t\t torch.Size([1024])\n",
            "layer3.2.bn3.bias \t\t torch.Size([1024])\n",
            "layer3.3.conv1.weight \t\t torch.Size([256, 1024, 1, 1])\n",
            "layer3.3.bn1.weight \t\t torch.Size([256])\n",
            "layer3.3.bn1.bias \t\t torch.Size([256])\n",
            "layer3.3.conv2.weight \t\t torch.Size([256, 256, 3, 3])\n",
            "layer3.3.bn2.weight \t\t torch.Size([256])\n",
            "layer3.3.bn2.bias \t\t torch.Size([256])\n",
            "layer3.3.conv3.weight \t\t torch.Size([1024, 256, 1, 1])\n",
            "layer3.3.bn3.weight \t\t torch.Size([1024])\n",
            "layer3.3.bn3.bias \t\t torch.Size([1024])\n",
            "layer3.4.conv1.weight \t\t torch.Size([256, 1024, 1, 1])\n",
            "layer3.4.bn1.weight \t\t torch.Size([256])\n",
            "layer3.4.bn1.bias \t\t torch.Size([256])\n",
            "layer3.4.conv2.weight \t\t torch.Size([256, 256, 3, 3])\n",
            "layer3.4.bn2.weight \t\t torch.Size([256])\n",
            "layer3.4.bn2.bias \t\t torch.Size([256])\n",
            "layer3.4.conv3.weight \t\t torch.Size([1024, 256, 1, 1])\n",
            "layer3.4.bn3.weight \t\t torch.Size([1024])\n",
            "layer3.4.bn3.bias \t\t torch.Size([1024])\n",
            "layer3.5.conv1.weight \t\t torch.Size([256, 1024, 1, 1])\n",
            "layer3.5.bn1.weight \t\t torch.Size([256])\n",
            "layer3.5.bn1.bias \t\t torch.Size([256])\n",
            "layer3.5.conv2.weight \t\t torch.Size([256, 256, 3, 3])\n",
            "layer3.5.bn2.weight \t\t torch.Size([256])\n",
            "layer3.5.bn2.bias \t\t torch.Size([256])\n",
            "layer3.5.conv3.weight \t\t torch.Size([1024, 256, 1, 1])\n",
            "layer3.5.bn3.weight \t\t torch.Size([1024])\n",
            "layer3.5.bn3.bias \t\t torch.Size([1024])\n",
            "layer4.0.conv1.weight \t\t torch.Size([512, 1024, 1, 1])\n",
            "layer4.0.bn1.weight \t\t torch.Size([512])\n",
            "layer4.0.bn1.bias \t\t torch.Size([512])\n",
            "layer4.0.conv2.weight \t\t torch.Size([512, 512, 3, 3])\n",
            "layer4.0.bn2.weight \t\t torch.Size([512])\n",
            "layer4.0.bn2.bias \t\t torch.Size([512])\n",
            "layer4.0.conv3.weight \t\t torch.Size([2048, 512, 1, 1])\n",
            "layer4.0.bn3.weight \t\t torch.Size([2048])\n",
            "layer4.0.bn3.bias \t\t torch.Size([2048])\n",
            "layer4.0.downsample.0.weight \t\t torch.Size([2048, 1024, 1, 1])\n",
            "layer4.0.downsample.1.weight \t\t torch.Size([2048])\n",
            "layer4.0.downsample.1.bias \t\t torch.Size([2048])\n",
            "layer4.1.conv1.weight \t\t torch.Size([512, 2048, 1, 1])\n",
            "layer4.1.bn1.weight \t\t torch.Size([512])\n",
            "layer4.1.bn1.bias \t\t torch.Size([512])\n",
            "layer4.1.conv2.weight \t\t torch.Size([512, 512, 3, 3])\n",
            "layer4.1.bn2.weight \t\t torch.Size([512])\n",
            "layer4.1.bn2.bias \t\t torch.Size([512])\n",
            "layer4.1.conv3.weight \t\t torch.Size([2048, 512, 1, 1])\n",
            "layer4.1.bn3.weight \t\t torch.Size([2048])\n",
            "layer4.1.bn3.bias \t\t torch.Size([2048])\n",
            "layer4.2.conv1.weight \t\t torch.Size([512, 2048, 1, 1])\n",
            "layer4.2.bn1.weight \t\t torch.Size([512])\n",
            "layer4.2.bn1.bias \t\t torch.Size([512])\n",
            "layer4.2.conv2.weight \t\t torch.Size([512, 512, 3, 3])\n",
            "layer4.2.bn2.weight \t\t torch.Size([512])\n",
            "layer4.2.bn2.bias \t\t torch.Size([512])\n",
            "layer4.2.conv3.weight \t\t torch.Size([2048, 512, 1, 1])\n",
            "layer4.2.bn3.weight \t\t torch.Size([2048])\n",
            "layer4.2.bn3.bias \t\t torch.Size([2048])\n",
            "fc.weight \t\t torch.Size([1000, 2048])\n",
            "fc.bias \t\t torch.Size([1000])\n"
          ],
          "name": "stdout"
        }
      ]
    },
    {
      "cell_type": "code",
      "metadata": {
        "id": "8Zsz5z_-xS7o",
        "colab_type": "code",
        "colab": {
          "base_uri": "https://localhost:8080/",
          "height": 428
        },
        "outputId": "bd8d71a3-2867-48c6-dd12-86f9591edd86"
      },
      "source": [
        "!pip install efficientnet_pytorch torchtoolbox"
      ],
      "execution_count": 9,
      "outputs": [
        {
          "output_type": "stream",
          "text": [
            "Collecting efficientnet_pytorch\n",
            "  Downloading https://files.pythonhosted.org/packages/b8/cb/0309a6e3d404862ae4bc017f89645cf150ac94c14c88ef81d215c8e52925/efficientnet_pytorch-0.6.3.tar.gz\n",
            "Collecting torchtoolbox\n",
            "\u001b[?25l  Downloading https://files.pythonhosted.org/packages/76/6c/25f066977b6821796c3cf11e981921c1cb030eafec0ff736d271b6b09878/torchtoolbox-0.1.4.1-py3-none-any.whl (55kB)\n",
            "\u001b[K     |████████████████████████████████| 61kB 2.7MB/s \n",
            "\u001b[?25hRequirement already satisfied: torch in /usr/local/lib/python3.6/dist-packages (from efficientnet_pytorch) (1.5.0+cu101)\n",
            "Requirement already satisfied: scipy in /usr/local/lib/python3.6/dist-packages (from torchtoolbox) (1.4.1)\n",
            "Requirement already satisfied: six in /usr/local/lib/python3.6/dist-packages (from torchtoolbox) (1.12.0)\n",
            "Requirement already satisfied: lmdb in /usr/local/lib/python3.6/dist-packages (from torchtoolbox) (0.98)\n",
            "Requirement already satisfied: scikit-learn in /usr/local/lib/python3.6/dist-packages (from torchtoolbox) (0.22.2.post1)\n",
            "Requirement already satisfied: opencv-python in /usr/local/lib/python3.6/dist-packages (from torchtoolbox) (4.1.2.30)\n",
            "Requirement already satisfied: tqdm in /usr/local/lib/python3.6/dist-packages (from torchtoolbox) (4.41.1)\n",
            "Requirement already satisfied: numpy in /usr/local/lib/python3.6/dist-packages (from torchtoolbox) (1.18.5)\n",
            "Requirement already satisfied: pyarrow in /usr/local/lib/python3.6/dist-packages (from torchtoolbox) (0.14.1)\n",
            "Requirement already satisfied: future in /usr/local/lib/python3.6/dist-packages (from torch->efficientnet_pytorch) (0.16.0)\n",
            "Requirement already satisfied: joblib>=0.11 in /usr/local/lib/python3.6/dist-packages (from scikit-learn->torchtoolbox) (0.15.1)\n",
            "Building wheels for collected packages: efficientnet-pytorch\n",
            "  Building wheel for efficientnet-pytorch (setup.py) ... \u001b[?25l\u001b[?25hdone\n",
            "  Created wheel for efficientnet-pytorch: filename=efficientnet_pytorch-0.6.3-cp36-none-any.whl size=12422 sha256=bae9b5a3db2aca0379e7a6025f3ad1e7ff166365deefc6fd561691d56aed478b\n",
            "  Stored in directory: /root/.cache/pip/wheels/42/1e/a9/2a578ba9ad04e776e80bf0f70d8a7f4c29ec0718b92d8f6ccd\n",
            "Successfully built efficientnet-pytorch\n",
            "Installing collected packages: efficientnet-pytorch, torchtoolbox\n",
            "Successfully installed efficientnet-pytorch-0.6.3 torchtoolbox-0.1.4.1\n"
          ],
          "name": "stdout"
        }
      ]
    },
    {
      "cell_type": "code",
      "metadata": {
        "id": "8afNn_g5xm0j",
        "colab_type": "code",
        "colab": {}
      },
      "source": [
        ""
      ],
      "execution_count": 0,
      "outputs": []
    }
  ]
}